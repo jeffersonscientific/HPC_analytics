{
 "cells": [
  {
   "cell_type": "code",
   "execution_count": 31,
   "metadata": {},
   "outputs": [
    {
     "name": "stdout",
     "output_type": "stream",
     "text": [
      "The autoreload extension is already loaded. To reload it, use:\n",
      "  %reload_ext autoreload\n"
     ]
    }
   ],
   "source": [
    "%load_ext autoreload\n",
    "%autoreload 2\n",
    "%matplotlib inline"
   ]
  },
  {
   "cell_type": "code",
   "execution_count": 32,
   "metadata": {},
   "outputs": [],
   "source": [
    "import numpy\n",
    "import scipy\n",
    "import math\n",
    "import matplotlib\n",
    "import matplotlib.dates as mpd\n",
    "import pylab as plt\n",
    "import datetime as dtm\n",
    "import pytz\n",
    "import multiprocessing as mpp\n",
    "import pickle\n",
    "import sys\n",
    "import os\n",
    "import socket\n",
    "import h5py\n",
    "#import lmod\n",
    "# lmod.load('system')\n",
    "# lmod.load('texlive')\n",
    "# lmod.\n",
    "#\n",
    "# TODO: phase out unreferenced hpc_lib calls...\n",
    "import hpc_lib\n",
    "import hpc_reports\n",
    "#\n",
    "# def running_mean(X,n=10):\n",
    "#     return (numpy.cumsum(numpy.insert(X,0,0))[n:] - numpy.cumsum(numpy.insert(X,0,0))[:-n])/n\n",
    "# #"
   ]
  },
  {
   "cell_type": "markdown",
   "metadata": {},
   "source": [
    "## GPU Count integration\n",
    "\n",
    "Integrate GPU counts into jobs_summary, so instead of having a seperate method to extract and cound GPUs, we count them during calc_jobs_summary(). This should also give more accurate count (???), in the event that it is possible to miss a GPU request for  a job where the request occurs in a later step. I actually don't think this is possible; the first line of the job group should always have the full allocation, which will include the GPUs, but just in case something strange happens...\n",
    "\n",
    "NOTE: Since this involves actual computation of jobs_summary, it has to be run on Sherlock (or similar)... or could be done from a downloaded data file, but we don't really want to do that...\n"
   ]
  },
  {
   "cell_type": "code",
   "execution_count": 33,
   "metadata": {},
   "outputs": [
    {
     "name": "stdout",
     "output_type": "stream",
     "text": [
      "** epoch: 1970-01-01T00:00:00\n"
     ]
    }
   ],
   "source": [
    "n_cpus = 4\n",
    "print('** epoch: {}'.format(mpd.get_epoch()))\n"
   ]
  },
  {
   "cell_type": "code",
   "execution_count": 34,
   "metadata": {},
   "outputs": [
    {
     "name": "stdout",
     "output_type": "stream",
     "text": [
      "*** dates: 2022-06-18 - 2022-07-06\n",
      "*** sacct_h5_file: sacct_data/sacct_pSERC_gNONE_uNone_20220618_20220706.h5\n",
      "*** h5_file exists: False\n"
     ]
    }
   ],
   "source": [
    "N_report_len = 18\n",
    "end_dtm = dtm.datetime(2022,7,6)\n",
    "end_date = end_dtm.date()\n",
    "start_date = end_date - dtm.timedelta(days=N_report_len)\n",
    "print('*** dates: {} - {}'.format(start_date, end_date))\n",
    "partition='serc'\n",
    "#partition=None\n",
    "group=None\n",
    "s_user=None\n",
    "verbose=0\n",
    "# group='oneillm'\n",
    "# group='edunham'\n",
    "#s_user = 'labraha2'\n",
    "#\n",
    "sacct_h5_file = f'sacct_data/sacct_p{str(partition).upper()}_g{str(group).upper()}_u{s_user}_{start_date.year:04}{start_date.month:02}{start_date.day:02}_{end_dtm.year:04}{end_dtm.month:02}{end_dtm.day:02}.h5'\n",
    "print(f'*** sacct_h5_file: {sacct_h5_file}')\n",
    "print(f'*** h5_file exists: {os.path.isfile(sacct_h5_file)}')"
   ]
  },
  {
   "cell_type": "code",
   "execution_count": 35,
   "metadata": {
    "scrolled": false
   },
   "outputs": [
    {
     "name": "stdout",
     "output_type": "stream",
     "text": [
      "*** Fetching SACCT data directly\n",
      "***  2022-06-18 00:00:00+00:00 <class 'datetime.datetime'> 2022-07-06 00:00:00+00:00 <class 'datetime.datetime'>\n",
      "*** DEBUG: Now execute load_sacct_data(); options_str= --partition=serc  --delimiter=\"|\" \n"
     ]
    },
    {
     "ename": "FileNotFoundError",
     "evalue": "[Errno 2] No such file or directory: 'sacct'",
     "output_type": "error",
     "traceback": [
      "\u001b[0;31m---------------------------------------------------------------------------\u001b[0m",
      "\u001b[0;31mRemoteTraceback\u001b[0m                           Traceback (most recent call last)",
      "\u001b[0;31mRemoteTraceback\u001b[0m: \n\"\"\"\nTraceback (most recent call last):\n  File \"/Users/myoder96/opt/anaconda3/lib/python3.8/multiprocessing/pool.py\", line 125, in worker\n    result = (True, func(*args, **kwds))\n  File \"/Users/myoder96/Codes/HPC_analytics/hpc_lib.py\", line 1524, in get_and_process_sacct_data\n    sacct_output = subprocess.run(sacct_str.split(), stdout=subprocess.PIPE).stdout.decode().split('\\n')\n  File \"/Users/myoder96/opt/anaconda3/lib/python3.8/subprocess.py\", line 493, in run\n    with Popen(*popenargs, **kwargs) as process:\n  File \"/Users/myoder96/opt/anaconda3/lib/python3.8/subprocess.py\", line 858, in __init__\n    self._execute_child(args, executable, preexec_fn, close_fds,\n  File \"/Users/myoder96/opt/anaconda3/lib/python3.8/subprocess.py\", line 1706, in _execute_child\n    raise child_exception_type(errno_num, err_msg, err_filename)\nFileNotFoundError: [Errno 2] No such file or directory: 'sacct'\n\"\"\"",
      "\nThe above exception was the direct cause of the following exception:\n",
      "\u001b[0;31mFileNotFoundError\u001b[0m                         Traceback (most recent call last)",
      "\u001b[0;32m<ipython-input-35-3e28d6f3c333>\u001b[0m in \u001b[0;36m<module>\u001b[0;34m\u001b[0m\n\u001b[1;32m     11\u001b[0m \u001b[0;32melse\u001b[0m\u001b[0;34m:\u001b[0m\u001b[0;34m\u001b[0m\u001b[0;34m\u001b[0m\u001b[0m\n\u001b[1;32m     12\u001b[0m     \u001b[0mprint\u001b[0m\u001b[0;34m(\u001b[0m\u001b[0;34m'*** Fetching SACCT data directly'\u001b[0m\u001b[0;34m)\u001b[0m\u001b[0;34m\u001b[0m\u001b[0;34m\u001b[0m\u001b[0m\n\u001b[0;32m---> 13\u001b[0;31m     SACCT_obj = hpc_lib.SACCT_data_direct(group=group, partition=partition, start_date=str(start_date),\n\u001b[0m\u001b[1;32m     14\u001b[0m                                           \u001b[0mn_cpu\u001b[0m\u001b[0;34m=\u001b[0m\u001b[0mn_cpus\u001b[0m\u001b[0;34m,\u001b[0m \u001b[0mverbose\u001b[0m\u001b[0;34m=\u001b[0m\u001b[0mverbose\u001b[0m\u001b[0;34m,\u001b[0m\u001b[0;34m\u001b[0m\u001b[0;34m\u001b[0m\u001b[0m\n\u001b[1;32m     15\u001b[0m                                           end_date=str(end_date), keep_raw_data=False)\n",
      "\u001b[0;32m~/Codes/HPC_analytics/hpc_lib.py\u001b[0m in \u001b[0;36m__init__\u001b[0;34m(self, group, partition, delim, start_date, end_date, more_options, delta_t_days, default_catalog_length, format_list, n_cpu, types_dict, verbose, chunk_size, h5out_file, keep_raw_data, raw_output_file, n_points_usage, **kwargs)\u001b[0m\n\u001b[1;32m   1371\u001b[0m         \u001b[0;31m#\u001b[0m\u001b[0;34m\u001b[0m\u001b[0;34m\u001b[0m\u001b[0;34m\u001b[0m\u001b[0m\n\u001b[1;32m   1372\u001b[0m         \u001b[0mprint\u001b[0m\u001b[0;34m(\u001b[0m\u001b[0;34m'*** DEBUG: Now execute load_sacct_data(); options_str={}'\u001b[0m\u001b[0;34m.\u001b[0m\u001b[0mformat\u001b[0m\u001b[0;34m(\u001b[0m\u001b[0moptions_str\u001b[0m\u001b[0;34m)\u001b[0m\u001b[0;34m)\u001b[0m\u001b[0;34m\u001b[0m\u001b[0;34m\u001b[0m\u001b[0m\n\u001b[0;32m-> 1373\u001b[0;31m         \u001b[0mself\u001b[0m\u001b[0;34m.\u001b[0m\u001b[0mdata\u001b[0m \u001b[0;34m=\u001b[0m \u001b[0mself\u001b[0m\u001b[0;34m.\u001b[0m\u001b[0mload_sacct_data\u001b[0m\u001b[0;34m(\u001b[0m\u001b[0moptions_str\u001b[0m\u001b[0;34m=\u001b[0m\u001b[0moptions_str\u001b[0m\u001b[0;34m,\u001b[0m \u001b[0mformat_string\u001b[0m\u001b[0;34m=\u001b[0m\u001b[0mformat_string\u001b[0m\u001b[0;34m)\u001b[0m\u001b[0;34m\u001b[0m\u001b[0;34m\u001b[0m\u001b[0m\n\u001b[0m\u001b[1;32m   1374\u001b[0m         \u001b[0;31m#\u001b[0m\u001b[0;34m\u001b[0m\u001b[0;34m\u001b[0m\u001b[0;34m\u001b[0m\u001b[0m\n\u001b[1;32m   1375\u001b[0m         \u001b[0;32mif\u001b[0m \u001b[0;32mnot\u001b[0m \u001b[0mraw_output_file\u001b[0m \u001b[0;32mis\u001b[0m \u001b[0;32mNone\u001b[0m\u001b[0;34m:\u001b[0m\u001b[0;34m\u001b[0m\u001b[0;34m\u001b[0m\u001b[0m\n",
      "\u001b[0;32m~/Codes/HPC_analytics/hpc_lib.py\u001b[0m in \u001b[0;36mload_sacct_data\u001b[0;34m(self, options_str, format_string, n_cpu, start_end_times, max_rows, verbose)\u001b[0m\n\u001b[1;32m   1470\u001b[0m                 \u001b[0;31m#\u001b[0m\u001b[0;34m\u001b[0m\u001b[0;34m\u001b[0m\u001b[0;34m\u001b[0m\u001b[0m\n\u001b[1;32m   1471\u001b[0m                 \u001b[0;31m# is this the right syntax?\u001b[0m\u001b[0;34m\u001b[0m\u001b[0;34m\u001b[0m\u001b[0;34m\u001b[0m\u001b[0m\n\u001b[0;32m-> 1472\u001b[0;31m                 \u001b[0mRs\u001b[0m \u001b[0;34m=\u001b[0m \u001b[0;34m[\u001b[0m\u001b[0mr\u001b[0m\u001b[0;34m.\u001b[0m\u001b[0mget\u001b[0m\u001b[0;34m(\u001b[0m\u001b[0;34m)\u001b[0m \u001b[0;32mfor\u001b[0m \u001b[0mr\u001b[0m \u001b[0;32min\u001b[0m \u001b[0mR\u001b[0m\u001b[0;34m]\u001b[0m\u001b[0;34m\u001b[0m\u001b[0;34m\u001b[0m\u001b[0m\n\u001b[0m\u001b[1;32m   1473\u001b[0m             \u001b[0;31m#\u001b[0m\u001b[0;34m\u001b[0m\u001b[0;34m\u001b[0m\u001b[0;34m\u001b[0m\u001b[0m\n\u001b[1;32m   1474\u001b[0m             \u001b[0;31m#sacct_out = Rs[0]\u001b[0m\u001b[0;34m\u001b[0m\u001b[0;34m\u001b[0m\u001b[0;34m\u001b[0m\u001b[0m\n",
      "\u001b[0;32m~/Codes/HPC_analytics/hpc_lib.py\u001b[0m in \u001b[0;36m<listcomp>\u001b[0;34m(.0)\u001b[0m\n\u001b[1;32m   1470\u001b[0m                 \u001b[0;31m#\u001b[0m\u001b[0;34m\u001b[0m\u001b[0;34m\u001b[0m\u001b[0;34m\u001b[0m\u001b[0m\n\u001b[1;32m   1471\u001b[0m                 \u001b[0;31m# is this the right syntax?\u001b[0m\u001b[0;34m\u001b[0m\u001b[0;34m\u001b[0m\u001b[0;34m\u001b[0m\u001b[0m\n\u001b[0;32m-> 1472\u001b[0;31m                 \u001b[0mRs\u001b[0m \u001b[0;34m=\u001b[0m \u001b[0;34m[\u001b[0m\u001b[0mr\u001b[0m\u001b[0;34m.\u001b[0m\u001b[0mget\u001b[0m\u001b[0;34m(\u001b[0m\u001b[0;34m)\u001b[0m \u001b[0;32mfor\u001b[0m \u001b[0mr\u001b[0m \u001b[0;32min\u001b[0m \u001b[0mR\u001b[0m\u001b[0;34m]\u001b[0m\u001b[0;34m\u001b[0m\u001b[0;34m\u001b[0m\u001b[0m\n\u001b[0m\u001b[1;32m   1473\u001b[0m             \u001b[0;31m#\u001b[0m\u001b[0;34m\u001b[0m\u001b[0;34m\u001b[0m\u001b[0;34m\u001b[0m\u001b[0m\n\u001b[1;32m   1474\u001b[0m             \u001b[0;31m#sacct_out = Rs[0]\u001b[0m\u001b[0;34m\u001b[0m\u001b[0;34m\u001b[0m\u001b[0;34m\u001b[0m\u001b[0m\n",
      "\u001b[0;32m~/opt/anaconda3/lib/python3.8/multiprocessing/pool.py\u001b[0m in \u001b[0;36mget\u001b[0;34m(self, timeout)\u001b[0m\n\u001b[1;32m    769\u001b[0m             \u001b[0;32mreturn\u001b[0m \u001b[0mself\u001b[0m\u001b[0;34m.\u001b[0m\u001b[0m_value\u001b[0m\u001b[0;34m\u001b[0m\u001b[0;34m\u001b[0m\u001b[0m\n\u001b[1;32m    770\u001b[0m         \u001b[0;32melse\u001b[0m\u001b[0;34m:\u001b[0m\u001b[0;34m\u001b[0m\u001b[0;34m\u001b[0m\u001b[0m\n\u001b[0;32m--> 771\u001b[0;31m             \u001b[0;32mraise\u001b[0m \u001b[0mself\u001b[0m\u001b[0;34m.\u001b[0m\u001b[0m_value\u001b[0m\u001b[0;34m\u001b[0m\u001b[0;34m\u001b[0m\u001b[0m\n\u001b[0m\u001b[1;32m    772\u001b[0m \u001b[0;34m\u001b[0m\u001b[0m\n\u001b[1;32m    773\u001b[0m     \u001b[0;32mdef\u001b[0m \u001b[0m_set\u001b[0m\u001b[0;34m(\u001b[0m\u001b[0mself\u001b[0m\u001b[0;34m,\u001b[0m \u001b[0mi\u001b[0m\u001b[0;34m,\u001b[0m \u001b[0mobj\u001b[0m\u001b[0;34m)\u001b[0m\u001b[0;34m:\u001b[0m\u001b[0;34m\u001b[0m\u001b[0;34m\u001b[0m\u001b[0m\n",
      "\u001b[0;31mFileNotFoundError\u001b[0m: [Errno 2] No such file or directory: 'sacct'"
     ]
    }
   ],
   "source": [
    "# NOTE: to get individual users, eg to get Eric's group usage:\n",
    "#. sacct --allusers --user=labraha2 --start=2022-01-01 --end=2022-06-15\n",
    "#\n",
    "# NOTE: additional options can be passed in the more_options=[] arrary, or just as sacct_{option-name}={val}\n",
    "#\n",
    "if os.path.isfile(sacct_h5_file):\n",
    "    print('*** Creating SACCT object from HDF5 {}'.format(sacct_h5_file))\n",
    "    SACCT_obj = hpc_lib.SACCT_data_from_h5(sacct_h5_file, keep_raw_data=False, n_cpu=n_cpus)\n",
    "    #\n",
    "    \n",
    "else:\n",
    "    print('*** Fetching SACCT data directly')\n",
    "    SACCT_obj = hpc_lib.SACCT_data_direct(group=group, partition=partition, start_date=str(start_date),\n",
    "                                          n_cpu=n_cpus, verbose=verbose,\n",
    "                                          end_date=str(end_date), keep_raw_data=False)\n",
    "    # , sacct_user=s_user\n",
    "    print(f'** writing HDF5: {sacct_h5_file}')\n",
    "    SACCT_obj.write_hdf5(sacct_h5_file)\n",
    "    #\n",
    "#\n",
    "print('** ', SACCT_obj.jobs_summary.dtype.names)"
   ]
  },
  {
   "cell_type": "code",
   "execution_count": 30,
   "metadata": {},
   "outputs": [
    {
     "name": "stdout",
     "output_type": "stream",
     "text": [
      "**  [('index', '<i8'), ('User', ('|S8', {'h5py_encoding': 'ascii'})), ('Group', ('|S8', {'h5py_encoding': 'ascii'})), ('GID', ('|S6', {'h5py_encoding': 'ascii'})), ('JobName', ('|S81', {'h5py_encoding': 'ascii'})), ('JobID', ('|S67', {'h5py_encoding': 'ascii'})), ('JobIDRaw', ('|S8', {'h5py_encoding': 'ascii'})), ('Partition', ('|S4', {'h5py_encoding': 'ascii'})), ('State', ('|S19', {'h5py_encoding': 'ascii'})), ('Timelimit', '<f8'), ('NCPUS', '<i8'), ('NNodes', '<i8'), ('Submit', '<f8'), ('Eligible', '<f8'), ('Start', '<f8'), ('End', '<f8'), ('Elapsed', '<f8'), ('SystemCPU', '<f8'), ('UserCPU', '<f8'), ('TotalCPU', '<f8'), ('NTasks', '<f8'), ('CPUTimeRAW', ('|S9', {'h5py_encoding': 'ascii'})), ('Suspended', ('|S8', {'h5py_encoding': 'ascii'})), ('ReqTRES', ('|S49', {'h5py_encoding': 'ascii'})), ('AllocTRES', ('|S61', {'h5py_encoding': 'ascii'})), ('MaxRSS', '<f8'), ('AveRSS', '<f8'), ('AveVMSize', '<f8'), ('MaxVMSize', '<f8'), ('MaxDiskWrite', '<f8'), ('MaxDiskRead', '<f8'), ('AveDiskWrite', '<f8'), ('AveDiskRead', '<f8'), ('JobID_parent', ('|S67', {'h5py_encoding': 'ascii'}))]\n",
      "**  [( 0, b'haofu', b'oneillm', b'328022', b'coldpool_LES', b'41480792_1', b'41480792', b'serc', b'TIMEOUT', 6.,  96, 6, 18993.88233796, 18993.88238426, 18993.88241898, 18999.88261574, 6.00015046, 8.53362963e+01, 1.60511424e+02, 2.45847720e+02, 6., b'49767648', b'00:00:00', b'billing=283,cpu=96,mem=750G,node=6', b'billing=283,cpu=96,mem=750G,node=6', 6.52947800e+09, 6.25739500e+09, 1.84760520e+10, 1.84760520e+10, 1.36872348e+13, 1.76223064e+13, 1.31590362e+13, 1.76223064e+13, b'41480792_1')\n",
      " ( 4, b'haofu', b'oneillm', b'328022', b'coldpool_LES', b'41480918_1', b'41480918', b'serc', b'TIMEOUT', 6.,  96, 6, 18993.88387731, 18993.88390046, 18993.88394676, 18999.88402778, 6.00003472, 7.49536806e+01, 1.46867477e+02, 2.21821157e+02, 6., b'49766688', b'00:00:00', b'billing=283,cpu=96,mem=750G,node=6', b'billing=283,cpu=96,mem=750G,node=6', 6.53311300e+09, 6.25802500e+09, 1.84759160e+10, 1.84759160e+10, 1.39023542e+13, 1.77343609e+13, 1.33263408e+13, 1.77343609e+13, b'41480918_1')\n",
      " ( 8, b'haofu', b'oneillm', b'328022', b'coldpool_LES', b'41481032_1', b'41481032', b'serc', b'TIMEOUT', 6.,  96, 6, 18993.88519676, 18993.88525463, 18993.88525463, 18999.88574074, 6.00043981, 6.92970602e+01, 1.34637685e+02, 2.03934745e+02, 6., b'49770048', b'00:00:00', b'billing=283,cpu=96,mem=750G,node=6', b'billing=283,cpu=96,mem=750G,node=6', 6.53386000e+09, 6.25701500e+09, 1.84752720e+10, 1.84752720e+10, 1.39220841e+13, 1.80123110e+13, 1.33838222e+13, 1.80123110e+13, b'41481032_1')\n",
      " (12, b'regirock', b'oneillm', b'328022', b'Ts_305', b'41732803', b'41732803', b'serc', b'COMPLETED', 7.,  72, 3, 18995.20353009, 18995.20353009, 18995.20353009, 18999.0522338 , 3.84869213, 5.92361111e-02, 3.78821759e+00, 3.84746528e+00, 3., b'23941944', b'00:00:00', b'billing=252,cpu=72,mem=720G,node=1', b'billing=252,cpu=72,mem=720G,node=3', 6.80350550e+10, 6.80350550e+10, 7.24582560e+10, 7.24582560e+10, 5.28674000e+09, 1.69526900e+10, 5.28674000e+09, 1.69526900e+10, b'41732803')\n",
      " (15, b'hilditch', b'leift', b'26433', b'Frontal_Zone_Stability', b'41738720', b'41738720', b'serc', b'COMPLETED', 6.,  32, 1, 18995.38290509, 18995.38290509, 18995.38295139, 19000.1346875 , 4.75172454, 1.71828704e-04, 8.69895486e+01, 8.69897222e+01, 1., b'13137568', b'00:00:00', b'billing=40,cpu=32,mem=32G,node=1', b'billing=40,cpu=32,mem=32G,node=1', 1.50968000e+08, 1.50968000e+08, 2.83322800e+09, 2.83322800e+09, 2.32000000e+07, 1.91000000e+07, 2.32000000e+07, 1.91000000e+07, b'41738720')\n",
      " (19, b'vonessen', b'elambin', b'17955', b'netlogo_15params_n5120-6144', b'41781330', b'41781330', b'serc', b'COMPLETED', 7., 128, 1, 18996.11511574, 18996.11511574, 18996.1162963 , 18999.15277778, 3.03646991, 7.17673611e-04, 2.80750000e-03, 3.52517361e-03, 1., b'33580928', b'00:00:00', b'billing=378,cpu=128,mem=1000G,node=1', b'billing=378,cpu=128,mem=1000G,node=1', 3.54979965e+11, 3.54979965e+11, 5.44781471e+12, 5.44781471e+12, 2.51300000e+08, 5.99338000e+09, 2.51300000e+08, 5.99338000e+09, b'41781330')\n",
      " (22, b'axelwang', b'edunham', b'60367', b'test1_sigmaBound_job18_101321', b'41863561', b'41863561', b'serc', b'COMPLETED', 7.,  24, 1, 18996.95623843, 18996.95623843, 18996.95630787, 19003.93943287, 6.983125  , 4.93564815e-01, 7.31265046e+00, 7.80622685e+00, 1., b'14480208', b'00:00:00', b'billing=54,cpu=24,mem=120G,node=1', b'billing=54,cpu=24,mem=120G,node=1', 4.59378640e+10, 4.59378640e+10, 5.93932120e+10, 5.93932120e+10, 1.11477648e+12, 1.11888890e+12, 1.11477648e+12, 1.11888890e+12, b'41863561')\n",
      " (25, b'axelwang', b'edunham', b'60367', b'test2_sigmaBound_job18_101321', b'41864414', b'41864414', b'serc', b'COMPLETED', 7.,  24, 1, 18996.96662037, 18996.96662037, 18996.96664352, 19003.95046296, 6.98380787, 6.28298611e-01, 7.39335648e+00, 8.02165509e+00, 1., b'14481624', b'00:00:00', b'billing=54,cpu=24,mem=120G,node=1', b'billing=54,cpu=24,mem=120G,node=1', 4.99879460e+10, 4.99879460e+10, 5.91247720e+10, 5.91247720e+10, 1.04247225e+12, 1.04641514e+12, 1.04247225e+12, 1.04641514e+12, b'41864414')\n",
      " (28, b'axelwang', b'edunham', b'60367', b'test3_sigmaBound_job18_101321', b'41866184', b'41866184', b'serc', b'COMPLETED', 7.,  24, 1, 18996.97894676, 18996.97894676, 18996.97924769, 19003.96256944, 6.98332176, 6.05208333e-01, 6.90862269e+00, 7.51383102e+00, 1., b'14480616', b'00:00:00', b'billing=54,cpu=24,mem=120G,node=1', b'billing=54,cpu=24,mem=120G,node=1', 4.16474490e+10, 4.16474490e+10, 5.90782720e+10, 5.90782720e+10, 1.20282646e+12, 1.20705946e+12, 1.20282646e+12, 1.20705946e+12, b'41866184')\n",
      " (31, b'regirock', b'oneillm', b'328022', b'Ts_307', b'41876160', b'41876160', b'serc', b'COMPLETED', 7.,  72, 3, 18997.09399306, 18997.09399306, 18997.0941088 , 19001.13078704, 4.03667824, 8.81250000e-02, 3.94465278e+00, 4.03278935e+00, 3., b'25111368', b'00:00:00', b'billing=252,cpu=72,mem=720G,node=1', b'billing=252,cpu=72,mem=720G,node=3', 7.18013300e+10, 7.18013300e+10, 7.25975720e+10, 7.25975720e+10, 5.28669000e+09, 1.72934800e+10, 5.28669000e+09, 1.72934800e+10, b'41876160')]\n"
     ]
    }
   ],
   "source": [
    "# print('** ', SACCT_obj.jobs_summary.dtype.descr)\n",
    "# dtp = [(n, t[0] if isinstance(t,tuple) else t) for n,t in SACCT_obj.jobs_summary.dtype.descr ]\n",
    "\n",
    "# #\n",
    "# ZZ = numpy.zeros( shape=(100, ), dtype=dtp)\n",
    "# ZZ = SACCT_obj[0:100]\n",
    "# print('** ', ZZ[0:10])\n",
    "\n",
    "# # check date epoch:\n",
    "# dt_test = SACCT_obj.jobs_summary['Start'][0]\n",
    "# yr_test = mpd.num2date(dt_test).year\n",
    "# print(f'** yr_test: {yr_test}')\n",
    "# #print('** ', mpd.num2epoch(dt_test))\n",
    "# if yr_test>3000:\n",
    "#     mpd.set_epoch('0000-12-31T00:00:00')\n",
    "# yr_test = mpd.num2date(dt_test)\n",
    "# print(f'** yr_test: {yr_test}')"
   ]
  },
  {
   "cell_type": "code",
   "execution_count": null,
   "metadata": {},
   "outputs": [],
   "source": [
    "cpuh_layers = SACCT_obj.get_cpu_hours_layer_cake(bin_size=1., layer_field='Group',\n",
    "                                                 t_max=mpd.date2num(end_date) )"
   ]
  },
  {
   "cell_type": "markdown",
   "metadata": {},
   "source": [
    "### CPU-Hours, Jobs layer cake + Pie charts.\n",
    "- Fist, the semi-manual construction. Uses some consolidated functions (eg, _layer_cake() and plot_pie() )\n",
    "- Then, these all wrapped up into one line or data + figures setup, then one line."
   ]
  },
  {
   "cell_type": "code",
   "execution_count": null,
   "metadata": {},
   "outputs": [],
   "source": [
    "fg = plt.figure(figsize=(20,16))\n",
    "ax1 = fg.add_subplot(2,2,1)\n",
    "ax2 = fg.add_subplot(2,2,2)\n",
    "ax3 = fg.add_subplot(2,2,3)\n",
    "ax4 = fg.add_subplot(2,2,4)\n",
    "ax1.grid()\n",
    "ax2.grid()\n",
    "#\n",
    "ax1.set_title('CPU Hours (per day)', size=16)\n",
    "ax2.set_title('Jobs (per day?)', size=16)\n",
    "#\n",
    "#cpuh_layers = SACCT_obj.get_cpu_hours_layer_cake(bin_size=1., layer_field='Group')\n",
    "group_by = 'Group'\n",
    "cpuh = cpuh_layers['cpu_hours']\n",
    "jobs = cpuh_layers['jobs']\n",
    "T = cpuh['time']\n",
    "#\n",
    "z_cpuh = hpc_lib.plot_layer_cake(data=cpuh, layers=cpuh.dtype.names[1:], time_col='time', ax=ax1)\n",
    "z_jobs = hpc_lib.plot_layer_cake(data=jobs, layers=cpuh.dtype.names[1:], time_col='time', ax=ax2)\n",
    "#\n",
    "pie_cpuh_data = hpc_lib.plot_pie(sum_data=SACCT_obj['Elapsed']*SACCT_obj['NCPUS'],\n",
    "                                slice_data=SACCT_obj[group_by], ax=ax3\n",
    "                                )\n",
    "#pi_slices = ax.pie(pi_slices[:,1], labels=pi_slices[:,0])\n",
    "pie_jobs_data = hpc_lib.plot_pie(sum_data=SACCT_obj['Elapsed'], slice_data=SACCT_obj[group_by], \n",
    "                            ax=ax4)\n",
    "#\n",
    "ax1.legend(loc=0)\n",
    "ax2.legend(loc=0)\n",
    "#\n"
   ]
  },
  {
   "cell_type": "code",
   "execution_count": null,
   "metadata": {},
   "outputs": [],
   "source": [
    "fg = plt.figure(figsize=(20,16))\n",
    "ax1 = fg.add_subplot(2,2,1)\n",
    "ax2 = fg.add_subplot(2,2,2)\n",
    "ax3 = fg.add_subplot(2,2,3)\n",
    "ax4 = fg.add_subplot(2,2,4)\n",
    "\n",
    "zz = SACCT_obj.report_cpuhours_jobs_layercake_and_pie(fg=fg, cpuh_jobs=cpuh_layers)"
   ]
  },
  {
   "cell_type": "code",
   "execution_count": null,
   "metadata": {},
   "outputs": [],
   "source": [
    "dt_ep = hpc_lib.compute_mpd_epoch_dt(738150)\n",
    "print('** ', dt_ep)\n",
    "print('** ', SACCT_obj.compute_mpd_epoch_dt())\n",
    "print('** *', hpc_lib.compute_mpd_epoch_dt(dtm.datetime.now()))\n",
    "#\n",
    "#print('** ', isinstance(numpy.datetime64(dtm.datetime.now())) )"
   ]
  },
  {
   "cell_type": "code",
   "execution_count": null,
   "metadata": {},
   "outputs": [],
   "source": [
    "acpu_layer_cake = SACCT_obj.get_active_cpus_layer_cake(layer_field='Group')"
   ]
  },
  {
   "cell_type": "code",
   "execution_count": null,
   "metadata": {},
   "outputs": [],
   "source": [
    "print('*** ', SACCT_obj.dt_mpd_epoch)\n",
    "print('*** ', mpd.date2num(dtm.datetime.now()), numpy.min(SACCT_obj['Start']))"
   ]
  },
  {
   "cell_type": "code",
   "execution_count": null,
   "metadata": {
    "scrolled": false
   },
   "outputs": [],
   "source": [
    "qq = SACCT_obj.report_activecpus_jobs_layercake_and_CDFs(n_points=5000,\n",
    "                        group_by='Group', acpu_layer_cake=None)\n",
    "# acpu_layer_cake\n"
   ]
  },
  {
   "cell_type": "code",
   "execution_count": null,
   "metadata": {},
   "outputs": [],
   "source": [
    "ZZ = numpy.array([SACCT_obj['Start'], SACCT_obj['End']])\n",
    "\n",
    "print('*** ', len(ZZ.ravel()) )\n",
    "\n",
    "\n",
    "#print('** ', numpy.nanmin([SACCT_obj['Start'], SACCT_obj['End'], mpd.date2num(dtm.datetime.now())] ))"
   ]
  },
  {
   "cell_type": "code",
   "execution_count": null,
   "metadata": {},
   "outputs": [],
   "source": [
    "zz = SACCT_obj.active_cpu_jobs_per_day_hour_report()"
   ]
  },
  {
   "cell_type": "code",
   "execution_count": null,
   "metadata": {},
   "outputs": [],
   "source": [
    "NGPUS = [s.split('gpu=')[1].split(',')[0] if 'gpu=' in s else 0 \n",
    "         for s in SACCT_obj.jobs_summary['AllocTRES'].astype(str)]"
   ]
  },
  {
   "cell_type": "code",
   "execution_count": null,
   "metadata": {},
   "outputs": [],
   "source": [
    "ngpus=SACCT_obj.get_NGPUs()\n",
    "ngpus=ngpus[ngpus>0]\n",
    "#\n",
    "hh = plt.hist(ngpus, bins=56)"
   ]
  },
  {
   "cell_type": "markdown",
   "metadata": {},
   "source": [
    "### Mazama GPU activity"
   ]
  },
  {
   "cell_type": "code",
   "execution_count": null,
   "metadata": {},
   "outputs": [],
   "source": [
    "# maz_h5 = 'sacct_data/sacct_pNONE_gNONE_uNone_20211222_20220620.h5'\n",
    "# SACCT_maz = SACCT_obj = hpc_lib.SACCT_data_from_h5(maz_h5, keep_raw_data=False, n_cpu=n_cpus)\n",
    "\n",
    "# # serc_gpu_activity = SACCT_serc.active_jobs_cpu(jobs_summary=None, bin_size=1., \n",
    "# #                                                NCPUs=SACCT_serc.get_NGPUs())\n",
    "\n",
    "# gpu_layers = SACCT_maz.get_active_cpus_layer_cake(layer_field='Partition', NCPUs=SACCT_serc.get_NGPUs())\n",
    "\n",
    "# # For MAZAMA\n",
    "# #\n",
    "# pi_gpu_grps = [s for s in gpu_layers['N_cpu'].dtype.names[1:]]\n",
    "# print(f'** {pi_gpu_lbls}' )\n",
    "# #\n",
    "# NGPU = SACCT_serc.get_NGPUs()\n",
    "# #\n",
    "# #pi_gpu_vals = numpy.zeros(len(pi_gpu_lbls))\n",
    "# pi_gpu_vals = []\n",
    "# pi_gpu_lbls = []\n",
    "# for k,g in enumerate(pi_gpu_grps):\n",
    "#     ix = SACCT_serc.jobs_summary['Group'].astype(str)==g\n",
    "#     #\n",
    "#     n_gpus = numpy.sum(SACCT_serc.jobs_summary['Elapsed'][ix] * NGPU[ix])\n",
    "#     if n_gpus <= 0.:\n",
    "#         continue\n",
    "#     #\n",
    "#     pi_gpu_vals += [n_gpus]\n",
    "#     pi_gpu_lbls += [f'{g}: {pi_gpu_vals[-1]:.1f}']\n",
    "# #\n",
    "# print('** vals: ', pi_gpu_vals)\n",
    "# #pi_gpu_lbls = [f'{s}: {v:.1f}' for s,v in zip(pi_gpu_lbls, pi_gpu_vals) ]\n",
    "\n",
    "\n",
    "# fg = plt.figure(figsize=(18,16))\n",
    "# ax1 = fg.add_subplot(2,1,1)\n",
    "# ax2 = fg.add_subplot(2,2,3)\n",
    "# ax3 = fg.add_subplot(2,2,4)\n",
    "# ax1.grid()\n",
    "# #ax2.grid()\n",
    "# ax3.grid()\n",
    "# #\n",
    "# hpc_lib.plot_layer_cake(gpu_layers['N_cpu'], ax=ax1)\n",
    "# z_gpus = ax1.lines[-1].get_ydata()\n",
    "# qs = [.5, .75, .9]\n",
    "# qs_gpu = numpy.quantile(z_gpus, qs)\n",
    "# #\n",
    "# print('*** keys(): ', gpu_layers.keys())\n",
    "# ax2.pie(pi_gpu_vals, labels=pi_gpu_lbls) \n",
    "# ax2.legend(loc=0)\n",
    "# #\n",
    "# hh_cpus = ax3.hist(z_gpus, bins=100, cumulative=True, density=True, histtype='step', lw=3.)\n",
    "# for x,y in zip(qs_gpu, qs):\n",
    "#     #ax3.plot([0., qs_cpus[-1], qs_cpus[-1]], [qs[-1], qs[-1], 0.], ls='--', color='r', lw=2. )\n",
    "#     ax3.plot([0., x, x], [y, y, 0.], ls='--', lw=2., label=f'{y*100.}th %: {x:.0f} gpus' )\n",
    "\n",
    "# ax1.set_title('Active GPUs', size=16)\n",
    "# ax3.legend(loc=0)"
   ]
  },
  {
   "cell_type": "markdown",
   "metadata": {},
   "source": [
    "### SERC GPU activity"
   ]
  },
  {
   "cell_type": "code",
   "execution_count": null,
   "metadata": {},
   "outputs": [],
   "source": [
    "# serc_h5 = 'sacct_data/serc_sacct_20211126_20220525.h5'\n",
    "# SACCT_serc = hpc_lib.SACCT_data_from_h5(serc_h5, keep_raw_data=False, n_cpu=n_cpus)\n",
    "\n",
    "serc_gpu_activity = SACCT_obj.active_jobs_cpu(jobs_summary=None, bin_size=1., \n",
    "                                               NCPUs=SACCT_obj.get_NGPUs())"
   ]
  },
  {
   "cell_type": "code",
   "execution_count": null,
   "metadata": {},
   "outputs": [],
   "source": [
    "gpu_layers = SACCT_obj.get_active_cpus_layer_cake(layer_field='Group',\n",
    "                        NCPUs=SACCT_obj.get_NGPUs(), t_max=mpd.date2num(dtm.datetime(2022,7,6)))"
   ]
  },
  {
   "cell_type": "code",
   "execution_count": null,
   "metadata": {},
   "outputs": [],
   "source": [
    "pi_gpu_grps = [s for s in gpu_layers['N_cpu'].dtype.names[1:]]\n",
    "#\n",
    "NGPU = SACCT_obj.get_NGPUs()\n",
    "#\n",
    "#pi_gpu_vals = numpy.zeros(len(pi_gpu_lbls))\n",
    "pi_gpu_vals = []\n",
    "pi_gpu_lbls = []\n",
    "for k,g in enumerate(pi_gpu_grps):\n",
    "    ix = SACCT_obj.jobs_summary['Group'].astype(str)==g\n",
    "    #\n",
    "    n_gpus = numpy.sum(SACCT_obj.jobs_summary['Elapsed'][ix] * NGPU[ix])\n",
    "    if n_gpus <= 0.:\n",
    "        continue\n",
    "    #\n",
    "    pi_gpu_vals += [n_gpus]\n",
    "    pi_gpu_lbls += [f'{g}: {pi_gpu_vals[-1]:.1f}']\n",
    "#\n",
    "print('** vals: ', pi_gpu_vals)\n",
    "print(f'** {pi_gpu_lbls}' )\n",
    "#pi_gpu_lbls = [f'{s}: {v:.1f}' for s,v in zip(pi_gpu_lbls, pi_gpu_vals) ]\n",
    "\n",
    "\n",
    "fg = plt.figure(figsize=(18,16))\n",
    "ax1 = fg.add_subplot(2,1,1)\n",
    "ax2 = fg.add_subplot(2,2,3)\n",
    "ax3 = fg.add_subplot(2,2,4)\n",
    "ax1.grid()\n",
    "#ax2.grid()\n",
    "ax3.grid()\n",
    "#\n",
    "hpc_lib.plot_layer_cake(gpu_layers['N_cpu'], ax=ax1)\n",
    "z_gpus = ax1.lines[-1].get_ydata()\n",
    "qs = [.5, .75, .9]\n",
    "qs_gpu = numpy.quantile(z_gpus, qs)\n",
    "#\n",
    "print('*** keys(): ', gpu_layers.keys())\n",
    "ax2.pie(pi_gpu_vals, labels=pi_gpu_lbls) \n",
    "ax2.legend(loc=0)\n",
    "#\n",
    "hh_cpus = ax3.hist(z_gpus, bins=100, cumulative=True, density=True, histtype='step', lw=3.)\n",
    "for x,y in zip(qs_gpu, qs):\n",
    "    #ax3.plot([0., qs_cpus[-1], qs_cpus[-1]], [qs[-1], qs[-1], 0.], ls='--', color='r', lw=2. )\n",
    "    ax3.plot([0., x, x], [y, y, 0.], ls='--', lw=2., label=f'{y*100.}th %: {x:.0f} gpus' )\n",
    "\n",
    "ax1.set_title('Active GPUs', size=16)\n",
    "ax3.legend(loc=0)\n"
   ]
  },
  {
   "cell_type": "code",
   "execution_count": null,
   "metadata": {},
   "outputs": [],
   "source": [
    "print('** ', SACCT_obj.start_date, SACCT_obj.end_date)\n",
    "print('** ', type(SACCT_obj.start_date), type(SACCT_obj.end_date))\n",
    "# print('*** ', start_date, type(start_date))\n",
    "# #\n"
   ]
  },
  {
   "cell_type": "code",
   "execution_count": null,
   "metadata": {},
   "outputs": [],
   "source": [
    "#print('** ', gpu_layers['N_cpu'].dtype.names)\n",
    "ngpus = SACCT_obj.get_NGPUs()\n",
    "ix_g = ngpus>0\n",
    "#\n",
    "for k, (n,s) in enumerate(zip(ngpus[ix_g],SACCT_obj['AllocTRES'][ix_g])):\n",
    "    #print('** ', k, n, s)\n",
    "    #if k>15:  break\n",
    "    if 'v100' in s.decode().lower():\n",
    "        print('** ', k, n, s)"
   ]
  },
  {
   "cell_type": "code",
   "execution_count": null,
   "metadata": {},
   "outputs": [],
   "source": [
    "cpu_jobs_serc = SACCT_serc.active_jobs_cpu()\n"
   ]
  },
  {
   "cell_type": "code",
   "execution_count": null,
   "metadata": {},
   "outputs": [],
   "source": [
    "serc_cpu_qs = numpy.quantile(cpu_jobs_serc['N_cpu'], [.5, .75, .9])\n",
    "print('** qs: ', serc_cpu_qs)"
   ]
  },
  {
   "cell_type": "code",
   "execution_count": null,
   "metadata": {},
   "outputs": [],
   "source": []
  },
  {
   "cell_type": "code",
   "execution_count": null,
   "metadata": {},
   "outputs": [],
   "source": [
    "acpu = acpu_layer_cake['N_cpu']\n",
    "fg = plt.figure(figsize=(18,16))\n",
    "ax1 = fg.add_subplot(1,1,1)\n",
    "#\n",
    "ax1.grid()\n",
    "ax1.plot(acpu['time'], acpu['tgp'])\n",
    "\n",
    "fg.canvas.draw()\n",
    "#lbls = [hpc_lib.simple_date_string(mpd.num2date(float(hpc_lib.fix_to_ascii(str(s.get_text()))) - hpc_lib.dt_mpd_epoch) ) \n",
    "#         for s in ax1.get_xticklabels()]\n",
    "lbls = [hpc_lib.simple_date_string(mpd.num2date(float(hpc_lib.fix_to_ascii(str(s.get_text()))) + SACCT_obj.dt_mpd_epoch) ) \n",
    "         for s in ax1.get_xticklabels()]\n",
    "ax1.set_xticklabels(lbls)\n"
   ]
  },
  {
   "cell_type": "code",
   "execution_count": null,
   "metadata": {},
   "outputs": [],
   "source": [
    "print('*** ', SACCT_serc.jobs_summary.dtype)"
   ]
  },
  {
   "cell_type": "code",
   "execution_count": null,
   "metadata": {},
   "outputs": [],
   "source": [
    "print('*** ', hpc_lib.kmg_to_num('105k'))\n",
    "print('** ', [hpc_lib.kmg_to_num(s) for s in ['11k', '11m', '11M', '11g']])\n",
    "print('** ', [hpc_lib.kmg_to_num(s) for s in ['11', '11.3', '', 's']])"
   ]
  },
  {
   "cell_type": "code",
   "execution_count": null,
   "metadata": {},
   "outputs": [],
   "source": [
    "print('** ', SACCT_obj.jobs_summary.dtype.names)"
   ]
  },
  {
   "cell_type": "code",
   "execution_count": null,
   "metadata": {},
   "outputs": [],
   "source": [
    "fg = plt.figure(figsize=(13,8))\n",
    "ax = fg.add_subplot(1,1,1)\n",
    "#\n",
    "print('** ', numpy.sum([not numpy.isnan(x) for x in SACCT_obj.jobs_summary['MaxRSS']]))\n",
    "hh = ax.hist(SACCT_obj.jobs_summary['MaxRSS'], bins=100, histtype='step', cumulative=True)"
   ]
  },
  {
   "cell_type": "code",
   "execution_count": null,
   "metadata": {},
   "outputs": [],
   "source": [
    "os.system('hostname')"
   ]
  },
  {
   "cell_type": "code",
   "execution_count": null,
   "metadata": {},
   "outputs": [],
   "source": [
    "import socket\n",
    "socket.gethostname()"
   ]
  },
  {
   "cell_type": "code",
   "execution_count": null,
   "metadata": {},
   "outputs": [],
   "source": [
    "print('** ', SACCT_obj.h5in_file)\n",
    "print('** ', mpd.date2num(dtm.datetime(2022,7,6)))\n",
    "\n"
   ]
  },
  {
   "cell_type": "code",
   "execution_count": null,
   "metadata": {},
   "outputs": [],
   "source": []
  }
 ],
 "metadata": {
  "kernelspec": {
   "display_name": "Python 3",
   "language": "python",
   "name": "python3"
  },
  "language_info": {
   "codemirror_mode": {
    "name": "ipython",
    "version": 3
   },
   "file_extension": ".py",
   "mimetype": "text/x-python",
   "name": "python",
   "nbconvert_exporter": "python",
   "pygments_lexer": "ipython3",
   "version": "3.8.8"
  }
 },
 "nbformat": 4,
 "nbformat_minor": 4
}
