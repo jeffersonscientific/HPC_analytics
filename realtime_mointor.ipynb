{
 "cells": [
  {
   "cell_type": "code",
   "execution_count": 1,
   "id": "8d9acacd",
   "metadata": {},
   "outputs": [],
   "source": [
    "%load_ext autoreload\n",
    "%autoreload 2\n",
    "%matplotlib inline\n"
   ]
  },
  {
   "cell_type": "code",
   "execution_count": 2,
   "id": "2f0566ef",
   "metadata": {},
   "outputs": [],
   "source": [
    "import numpy\n",
    "import scipy\n",
    "import pandas\n",
    "import math\n",
    "import matplotlib\n",
    "import matplotlib.dates as mpd\n",
    "import pylab as plt\n",
    "import datetime as dtm\n",
    "import pytz\n",
    "import multiprocessing as mpp\n",
    "import pickle\n",
    "import sys\n",
    "import os\n",
    "import subprocess\n",
    "#import lmod\n",
    "# lmod.load('system')\n",
    "# lmod.load('texlive')\n",
    "# lmod.\n",
    "#\n",
    "import hpc_lib\n",
    "#\n",
    "# TODO: phase out unreferenced hpc_lib calls...\n",
    "#import hpc_lib\n",
    "#import hpc_reports\n",
    "#\n",
    "def running_mean(X,n=10):\n",
    "    return (numpy.cumsum(numpy.insert(X,0,0))[n:] - numpy.cumsum(numpy.insert(X,0,0))[:-n])/n\n",
    "#"
   ]
  },
  {
   "cell_type": "markdown",
   "id": "527eb24d",
   "metadata": {},
   "source": [
    "## Realtime Monitoring tools\n",
    "\n",
    "### General objective:\n",
    "- Some tools to do realtime monitoring of SERC usage\n",
    "- Nominally more versatile than that; could be SERC, users, groups, etc. \n",
    "- Design some metrics to indicate excessive usage; send alerts; make pretty graphs.\n",
    "\n",
    "Possible starting query:\n",
    "        squeue -p serc --Format=jobid,jobarrayid,partition,name,userid,timeused,timeleft,numnodes,nodelist,numcpus,state\n",
    "\n",
    "Use this to identify:\n",
    "- An individual user or group using >1/3 of the cluster for >1 hour (or so)\n",
    "- Generally, times of high impact (lots of running and pending jobs)\n",
    "\n",
    "Note that it is not trivial to estimate this. Loads of jobs pending is not significant, for example, if they have short runtimes. What we really want to catch is a scenario where a job array (or similar) picks up a bunch of idle resources (eg, overnight when usage is lower) for >24 hour runtime jobs.\n"
   ]
  },
  {
   "cell_type": "code",
   "execution_count": 30,
   "id": "580e58de",
   "metadata": {},
   "outputs": [
    {
     "name": "stdout",
     "output_type": "stream",
     "text": [
      "**  -m -y -s -t -r -i -n -g\n",
      "len:  23\n"
     ]
    }
   ],
   "source": [
    "S = (f'-{s}' for s in 'mystring')\n",
    "print('** ', *(f'-{s}' for s in 'mystring'))\n",
    "#print('* *', ' '.join(S) )\n",
    "SS = ' '.join(S)\n",
    "print('len: ', len(SS))"
   ]
  },
  {
   "cell_type": "code",
   "execution_count": 160,
   "id": "bff296c7",
   "metadata": {},
   "outputs": [
    {
     "name": "stdout",
     "output_type": "stream",
     "text": [
      "**  ['g', 'm', 'f', 't']\n"
     ]
    }
   ],
   "source": [
    "class SPART_obj(object):\n",
    "    # Python handler for SPART,or partition summary info kabob.\n",
    "    # SPART looks like a third party tool to provide partition type info.\n",
    "    # https://github.com/mercanca/spart\n",
    "    #\n",
    "    def __init__(self, options='gmft', format_fields_dict=None, verbose=False):\n",
    "        '''\n",
    "        # @options: spart options (see docs or man or whatever...). Can be list-like or string.\n",
    "        # internally, this will get parsed into a list of unique letter values and passed like, '-g -m -f'\n",
    "        #\n",
    "        '''\n",
    "        #\n",
    "        options = [ (s.decode() if hasattr(s, 'decode') else s) for s in options]\n",
    "        spart_str = 'spart {}'.format(' '.join(f'-{s}' for s in options) )\n",
    "        self.SP = self.get_spart_data(spart_str=spart_str)\n",
    "        #\n",
    "        self.__dict__.update({ky:vl for ky,vl in locals().items() if not ky in ('self', '__class__')})\n",
    "\n",
    "    def get_spart_data(self, spart_str=None, verbose=False):\n",
    "        spart_str = spart_str or self.spart_str\n",
    "        #\n",
    "        squeue_output = subprocess.run(spart_str.split(), stdout=subprocess.PIPE).stdout.decode().split('\\n')\n",
    "        squeue_output = [rw.replace('|', '') for rw in squeue_output]\n",
    "        #print('** DEBUG: ', squeue_output)\n",
    "        #\n",
    "        # the output is a bit of a mess, but we can put it together...\n",
    "        for k,rw in enumerate(squeue_output):\n",
    "            if rw.lstrip().startswith('QUEUE'):\n",
    "                cols = rw.split()\n",
    "                cols = [f'{c1}{c2}' for c1,c2 in zip(cols, squeue_output[k+1].split()) ]\n",
    "                #\n",
    "                break\n",
    "            #\n",
    "        data = [rw.split() for rw in squeue_output[k+2:] if not len(rw)==0]\n",
    "        \n",
    "        #return [cols] + data\n",
    "        return pandas.DataFrame(data=data, columns=cols, index=[rw[0] for rw in data])\n",
    "    #\n",
    "    @property\n",
    "    def cols(self):\n",
    "        return self.SP.columns\n",
    "    #\n",
    "    def get_total_cpus(self, partitions='normal'):\n",
    "        if isinstance(partitions, str):\n",
    "            partitions = partitions.split(',')\n",
    "        #\n",
    "        return numpy.sum(self.SP['TOTALCORES'][partitions].to_numpy().astype(float))\n",
    "    def get_total_gpus(self, partitions='gpu'):\n",
    "        # gpus in GRES, like: gpu:4(S:0)(2),gpu:8(S:0-3)(6)\n",
    "        if isinstance(partitions, str):\n",
    "            partitions = partitions.split(',')\n",
    "        #\n",
    "        gres = self.SP['GRES(NODE-COUNT)'][partitions].to_list()\n",
    "        #\n",
    "        gres = [s for ss in gres for s in ss.split(',') if s.startswith('gpu')]\n",
    "        #\n",
    "        # TODO: The right way to do this is with regular expressions. but I hate regular expressions,\n",
    "        #. so for now, we'll just hack it.\n",
    "        #expr='gpu:\\d+(S:.*)(\\d+)'\n",
    "        ngpus = 0\n",
    "        for s in gres:\n",
    "            n = s[4:s.index('(')]\n",
    "            #print(f'** {s}, {n}')\n",
    "            N = s[s.index('(',s.index('(')+1):s.index(')', s.index(')')+1  ) ]\n",
    "            \n",
    "            \n",
    "        \n",
    "            \n",
    "        return gres\n",
    " \n",
    "        \n",
    "SP = SPART_obj()\n",
    "#SP = SPART_obj(options=['g', 'm', 'f', 't', 'i'])\n",
    "#\n",
    "print('** ', SP.options)\n",
    "        "
   ]
  },
  {
   "cell_type": "code",
   "execution_count": 159,
   "id": "798c14de",
   "metadata": {},
   "outputs": [
    {
     "name": "stdout",
     "output_type": "stream",
     "text": [
      "4\n",
      "8\n"
     ]
    }
   ],
   "source": [
    "S = 'abcd:efg:kl'\n",
    "print(S.index(':'))\n",
    "print(S.index(':',S.index(':')+1) )"
   ]
  },
  {
   "cell_type": "code",
   "execution_count": 155,
   "id": "dd709320",
   "metadata": {},
   "outputs": [
    {
     "name": "stdout",
     "output_type": "stream",
     "text": [
      "**  9488.0\n",
      "** gpu:4(S:0)(2), 4\n",
      "** gpu:8(S:0-3)(6), 8\n",
      "** gpu:4(S:0-1)(19), 4\n",
      "** gpu:4(S:0)(6), 4\n",
      "** gpu:2(S:0-1)(1), 2\n",
      "**  ['gpu:4(S:0)(2)', 'gpu:8(S:0-3)(6)', 'gpu:4(S:0-1)(19)', 'gpu:4(S:0)(6)', 'gpu:2(S:0-1)(1)']\n",
      "** gpu:4(S:0)(2), 4\n",
      "** gpu:8(S:0-3)(6), 8\n",
      "** gpu:4(S:0-1)(19), 4\n",
      "** gpu:4(S:0)(6), 4\n",
      "** gpu:2(S:0-1)(1), 2\n",
      "**  ['gpu:4(S:0)(2)', 'gpu:8(S:0-3)(6)', 'gpu:4(S:0-1)(19)', 'gpu:4(S:0)(6)', 'gpu:2(S:0-1)(1)']\n"
     ]
    }
   ],
   "source": [
    "#sdp = SP.get_spart_data()\n",
    "# print('** ', sp[0])\n",
    "# print('\\n\\n** ', sp[1])\n",
    "# ix = [rw[0] for rw in sp[1:]]\n",
    "# print('** ix: ', ix)\n",
    "#sdp = pandas.DataFrame(data=sp[1:], columns=sp[0], index=[rw[0] for rw in sp[1:]])\n",
    "# print('** ', numpy.shape(sp))\n",
    "# for rw in sp:\n",
    "#     print('** ', rw)\n",
    "print('** ', SP.get_total_cpus(partitions=['serc','normal']))\n",
    "print('** ', SP.get_total_gpus(partitions='serc,gpu'))\n",
    "#\n",
    "GREs = SP.get_total_gpus(partitions='serc,gpu')\n",
    "#\n",
    "print('** ', GREs)"
   ]
  },
  {
   "cell_type": "code",
   "execution_count": 151,
   "id": "8622478e",
   "metadata": {},
   "outputs": [
    {
     "name": "stdout",
     "output_type": "stream",
     "text": [
      "** ** serc    5456\n",
      "Name: TOTALCORES, dtype: object\n",
      "**  5456.0\n"
     ]
    }
   ],
   "source": [
    "print('** **', sdp['TOTALCORES'][['serc']])\n",
    "ncpus = sdp['TOTALCORES'][['serc']].to_numpy().astype(float)\n",
    "print('** ', numpy.sum(ncpus) )"
   ]
  },
  {
   "cell_type": "code",
   "execution_count": null,
   "id": "b26b0b80",
   "metadata": {},
   "outputs": [],
   "source": []
  },
  {
   "cell_type": "code",
   "execution_count": 96,
   "id": "005e461d",
   "metadata": {},
   "outputs": [
    {
     "name": "stdout",
     "output_type": "stream",
     "text": [
      "**         QUEUEPARTITION STATUS FREECORES TOTALCORES\n",
      "normal         normal      *       291       4032\n",
      "bigmem         bigmem      q       131        408\n",
      "dev               dev      q        34         40\n",
      "gpu               gpu      q       242        748\n",
      "hns               hns     qa      1004       3216\n",
      "serc             serc     qa      1011       5456\n",
      "owners         owners     qa      8794      37980\n",
      "**  5456\n"
     ]
    }
   ],
   "source": [
    "print('** ', sdp[['QUEUEPARTITION', 'STATUS', 'FREECORES', 'TOTALCORES']])\n",
    "\n",
    "print('** ', sdp['TOTALCORES']['serc'] )"
   ]
  },
  {
   "cell_type": "code",
   "execution_count": 53,
   "id": "51a33540",
   "metadata": {},
   "outputs": [],
   "source": [
    "# format_fields = {'jobid':str, 'jobarrayid':str, 'partition':str, 'name':str, 'username':str, 'timeused':str, \n",
    "#                     'timeleft':str, 'numnodes':int, 'numcpus':int, 'numtasks':int, 'nodelist':str, 'state':str}\n",
    "\n",
    "class SQUEUE_obj(object):\n",
    "    # SQUEUE manager, principally to estimate realtime SLURM activity. Like SACCT_obj, but\n",
    "    #  uses squeue. We *could* use SACCT_obj and just limit to --State=running,pending\n",
    "    #. but it seems that sacct is much slower than squeue.\n",
    "    #\n",
    "    def __init__(self, partition='serc', format_fields_dict=None, squeue_prams=None, verbose=False):\n",
    "        #\n",
    "        # @squeue_prams: additional or replacement fields for squeue_fields variable, eg parameters\n",
    "        #. to pass to squeue. Presently, --Format and --partition are specified. some options might also\n",
    "        #. be allowed as regular inputs. Probably .update(squeue_prams) will be the last thing done, so \n",
    "        #  will overried other inputs.\n",
    "        #\n",
    "        # TODO: add ***kwargs and handle syantax like SQU_{something} to add to squeue_fields, etc.\n",
    "        \n",
    "        if format_fields_dict is None:\n",
    "            format_fields_dict = hpc_lib.default_SLURM_types_dict\n",
    "#             format_fields.update({ky:int for ky in ['NODES', 'CPUS', 'TASKS', 'numnodes', 'numtasks', 'numcpus']})\n",
    "#             #\n",
    "#             ff_l = {ky.lower():val for ky,val in format_fields.items()}\n",
    "#             ff_u = {ky.upper():val for ky,val in format_fields.items()}\n",
    "#             format_fields.update(ff_l)\n",
    "#             format_fields.update(ff_u)\n",
    "#             del ff_l\n",
    "#             del ff_u\n",
    "\n",
    "        squeue_fields = {'--Format': ['jobid', 'jobarrayid', 'partition', 'name', 'username', 'timeused', \n",
    "                                      'timeleft', 'numnodes', 'numcpus', 'numtasks', 'state', 'nodelist'],\n",
    "                      '--partition': [partition]\n",
    "                      }\n",
    "        if isinstance(squeue_prams, dict):\n",
    "            squeue_fields.update(squeue_prams)\n",
    "        #\n",
    "        squeue_delim='%'\n",
    "        sinfo_str = 'squeue '\n",
    "        for ky,vl in squeue_fields.items():\n",
    "            delim=' '\n",
    "            if ky.startswith('--'):\n",
    "                # long format\n",
    "                delim='='\n",
    "            #\n",
    "            sinfo_str = '{} {}{}{}'.format(sinfo_str, ky, delim, f':{squeue_delim},'.join(vl))\n",
    "        #\n",
    "        if verbose:\n",
    "            print('*** sinfo_str: {}'.format(sinfo_str))\n",
    "            print('*** sinfo_ary: {}'.format(sinfo_str.split()))\n",
    "        #\n",
    "        # TODO:\n",
    "        # port some of these bits to class-scope function calls, for class portability\n",
    "        #\n",
    "        self.__dict__.update({ky:vl for ky,vl in locals().items() if not ky in ('self', '__class__')})\n",
    "        self.set_squeue_data()\n",
    "    #\n",
    "    def set_squeue_data(self):\n",
    "        self.squeue_data = self.get_squeue_data()\n",
    "        self.dtype       = self.squeue_data.dtype\n",
    "    #\n",
    "    def __getitem__(self, *args, **kwargs):\n",
    "        return self.squeue_data.__getitem__(*args, **kwargs)\n",
    "    def __setitem__(self, *args, kwargs):\n",
    "        return self.squeue_data.__setitem__\n",
    "    #\n",
    "    def get_squeue_data(self, sinfo_str=None, squeue_delim=None, verbose=False):\n",
    "        sinfo_str = sinfo_str or self.sinfo_str\n",
    "        squeue_delim = squeue_delim or self.squeue_delim\n",
    "        #\n",
    "        squeue_output = subprocess.run(sinfo_str.split(), stdout=subprocess.PIPE).stdout.decode().split('\\n')\n",
    "        #cols = squeue_output[0].split(squeue_delim)\n",
    "        #\n",
    "        # there is a smarter way to do this, eg:\n",
    "        cols = squeue_output[0].split(squeue_delim)\n",
    "        for k,cl in enumerate(cols):\n",
    "            cl_0 = cl\n",
    "            k_rep = 0\n",
    "            while cols[k] in cols[0:k]:\n",
    "                cols[k] = f'{cl}_{k_rep}'\n",
    "        if verbose:\n",
    "            print('** cols: ', cols)    \n",
    "        #\n",
    "        return pandas.DataFrame(data=[[self.format_fields_dict.get(cl.lower(),str)(x) \n",
    "                                  for x, cl in zip(rw.split(squeue_delim),\n",
    "                                self.squeue_fields['--Format']) ]\n",
    "                                 for rw in squeue_output[1:]],\n",
    "                                   columns=cols).to_records()\n",
    "    #\n",
    "    def get_active_jobs(self, *args, **kwargs):\n",
    "        # print('** DEBUG: args: {}'.format(args))\n",
    "        if len(args)>=6:\n",
    "            args[5]\n",
    "        kwargs['do_jobs'] = True\n",
    "        return get_active_cpus(*args, **kwargs)\n",
    "    #\n",
    "    def get_active_cpus(self, state='running,pending', do_refresh=False, state_data=None, ncpus=None, do_cpus=True, do_jobs=False):\n",
    "        if do_refresh:\n",
    "            self.set_squeue_data()\n",
    "        #\n",
    "        if isinstance(state,bytes):\n",
    "            state=state.decode()\n",
    "        if isinstance(state,str):\n",
    "            state=state.split(',')\n",
    "        #\n",
    "        for k,s in enumerate(state):\n",
    "            state[k] = s.upper()\n",
    "        #\n",
    "        if state_data is None:\n",
    "            state_data = self['STATE']\n",
    "        if ncpus is None:\n",
    "            ncpus = self['CPUS']\n",
    "        #\n",
    "        ix = numpy.isin(state_data, state)\n",
    "        n_jobs, n_cpus = numpy.sum(ix), numpy.sum(ncpus[ix])\n",
    "        #\n",
    "        if do_cpus and do_jobs:\n",
    "            return (n_jobs, n_cpus)\n",
    "        if do_cpus:\n",
    "            return n_cpus\n",
    "        if do_jobs:\n",
    "            return n_jobs\n",
    "    #\n",
    "    def simple_wait_estimate(self, ncpus=1, max_cpus=4600, do_refresh=False):\n",
    "        # TODO: figure out the right way(s) to get max_cpus from system.\n",
    "        active_cpus = self.get_active_cpus(state='running,pending', do_refresh=do_refresh)\n",
    "        avail_cpus = max_cpus - active_cpus\n",
    "        #\n",
    "        if ncpus <= avail_cpus:\n",
    "            return 0\n",
    "        #\n",
    "        cpus_needed = ncpus - avail_cpus\n",
    "        #\n",
    "        # now, spin down self['TIME_LEFT'] until we have enough CPUs to do our job. that TIME_LEFT is\n",
    "        #. when our job should be available.\n",
    "        #\n",
    "        return None\n",
    "    #\n",
    "    def report_user_cpu_job_pies(self, state='RUNNING,PENDING', cpus_total=5456, add_idle=True, ax1=None, ax2=None):\n",
    "        #\n",
    "        # TODO: use scontrol or sinfo to get an automagical cpus_total count.\n",
    "        #\n",
    "        user_data = self.get_user_cpu_job_data(state=state, add_idle=add_idle)\n",
    "        #\n",
    "        if ax1 is None or ax2 is None:\n",
    "            fg = plt.figure(figsize=(12,8))\n",
    "            ax1 = fg.add_subplot(1,2,1)\n",
    "            ax2 = fg.add_subplot(1,2,2)\n",
    "        #\n",
    "        ax1.pie(user_data['jobs'],  labels=user_data['user'], autopct='%.1f')\n",
    "        ax2.pie(user_data['ncpus'], labels=user_data['user'], autopct='%.1f')\n",
    "        #\n",
    "        ax1.set_title('Jobs', size=16)\n",
    "        ax2.set_title('CPUs', size=16)\n",
    "        #\n",
    "        #ax1.legend(loc=0)\n",
    "        \n",
    "        return user_data\n",
    "    #\n",
    "    def get_user_cpu_job_data(self, state='RUNNING,PENDING', cpus_total=5456, add_idle=True):\n",
    "        #partition = partition or self.partition\n",
    "        if isinstance(state,bytes):\n",
    "            state=state.decode()\n",
    "        if isinstance(state,str):\n",
    "            state = state.split(',')\n",
    "        sq = self[numpy.isin(self['STATE'].astype(type(state)), state)]\n",
    "        print('*** ', self['STATE'].astype(type(state))[0:10], '*** ', state)\n",
    "        #\n",
    "        users = list([u for u in set(sq['USER']) if not u is None])\n",
    "        #if add_idle:\n",
    "        #    users += ['idle']\n",
    "        print('** users: ', users)\n",
    "        #\n",
    "        out_data = numpy.empty(shape=(len(users) + int(add_idle),), \n",
    "                    dtype=[('user', f'U{max([len(s) for s in users])}'), ('jobs', '<f8'), ('ncpus', '<f8')])\n",
    "        \n",
    "        #out_data['jobs'] = numpy.zeros(len(users))\n",
    "        #out_data['ncpus'] = numpy.zeros(len(users))\n",
    "        #\n",
    "        # NOTE: there is also a (faster) syntax to broadcast this, then sum on an axis.\n",
    "        jobs  = [numpy.sum( (self['USER']==u) ) for u in users]\n",
    "        ncpus = [numpy.sum( self['CPUS'][(self['USER']==u)] ) for u in users]\n",
    "        #\n",
    "        if add_idle:\n",
    "            jobs += [0]\n",
    "            ncpus += [cpus_total-numpy.sum(ncpus)]\n",
    "            users += ['idle']\n",
    "        #\n",
    "        out_data['user']  = users\n",
    "        out_data['jobs']  = jobs\n",
    "        out_data['ncpus'] = ncpus\n",
    "        #\n",
    "        return out_data\n",
    "        \n",
    "        \n",
    "          \n",
    "        \n",
    "SQ = SQUEUE_obj()      \n",
    "#"
   ]
  },
  {
   "cell_type": "code",
   "execution_count": 14,
   "id": "44e08a6d",
   "metadata": {},
   "outputs": [
    {
     "name": "stdout",
     "output_type": "stream",
     "text": [
      "**  5456\n",
      "***  squeue  --Format=jobid:%,jobarrayid:%,partition:%,name:%,username:%,timeused:%,timeleft:%,numnodes:%,numcpus:%,numtasks:%,state:%,nodelist --partition=serc\n",
      "**  2010.0\n",
      "**  0.15053763440860216\n"
     ]
    }
   ],
   "source": [
    "print('** ', 6*128 + 8*128 + 14*24 + 104*32)\n",
    "print('*** ', SQ.sinfo_str)\n",
    "print('** ', SQ.get_active_cpus(state='running,pending'))\n",
    "#\n"
   ]
  },
  {
   "cell_type": "code",
   "execution_count": 13,
   "id": "81f74261",
   "metadata": {},
   "outputs": [
    {
     "name": "stdout",
     "output_type": "stream",
     "text": [
      "***  ['PENDING' 'RUNNING' 'RUNNING' 'RUNNING' 'RUNNING' 'RUNNING' 'RUNNING'\n",
      " 'RUNNING' 'RUNNING' 'RUNNING'] ***  ['RUNNING', 'PENDING']\n",
      "** users:  ['kjavi', 'ajaffe', 'hilley', 'cbaden', 'earlew', 'juwoo', 'gegewen', 'ellopes', 'klangenf', 'cooper96', 'rsalcedo', 'divakarv', 'aguilars', 'myoder96', 'mliu9', 'haofu', 'pjwomble']\n",
      "** \n",
      "**  ('kjavi', 1., 8.)\n",
      "**  ('ajaffe', 7., 121.)\n",
      "**  ('hilley', 3., 3.)\n",
      "**  ('cbaden', 4., 74.)\n",
      "**  ('earlew', 1., 250.)\n",
      "**  ('juwoo', 1., 20.)\n",
      "**  ('gegewen', 3., 52.)\n",
      "**  ('ellopes', 2., 112.)\n",
      "**  ('klangenf', 1., 3.)\n",
      "**  ('cooper96', 1., 1.)\n",
      "**  ('rsalcedo', 1., 32.)\n",
      "**  ('divakarv', 19., 76.)\n",
      "**  ('aguilars', 1., 1.)\n",
      "**  ('myoder96', 1., 4.)\n",
      "**  ('mliu9', 1., 3.)\n",
      "**  ('haofu', 13., 1248.)\n",
      "**  ('pjwomble', 1., 2.)\n",
      "**  ('idle', 0., 3446.)\n"
     ]
    },
    {
     "data": {
      "image/png": "[encoded data removed]",
      "text/plain": [
       "<Figure size 864x576 with 2 Axes>"
      ]
     },
     "metadata": {},
     "output_type": "display_data"
    }
   ],
   "source": [
    "# users = list([u for u in set(SQ['USER']) if not u is None])\n",
    "# print('** ', users)\n",
    "#         #\n",
    "# out_data = numpy.empty(shape=(len(users),), \n",
    "#             dtype=[('user', f'U{max([len(s) for s in users])}'), ('jobs', '<f8'), ('ncpus', '<f8')])\n",
    "# out_data['user'] = users\n",
    "# out_data['jobs'] = numpy.zeros(len(users))\n",
    "# out_data['ncpus'] = numpy.zeros(len(users))\n",
    "# #\n",
    "# print('** ', out_data)\n",
    "\n",
    "user_pie = SQ.report_user_cpu_job_pies()\n",
    "print('** ')\n",
    "for rw in user_pie:\n",
    "    print('** ', rw)"
   ]
  },
  {
   "cell_type": "code",
   "execution_count": 6,
   "id": "3de71ae2",
   "metadata": {},
   "outputs": [
    {
     "name": "stdout",
     "output_type": "stream",
     "text": [
      "** sum,  5456.0\n"
     ]
    }
   ],
   "source": [
    "print('** sum, ', numpy.sum(user_pie['ncpus']))"
   ]
  },
  {
   "cell_type": "code",
   "execution_count": 7,
   "id": "6b6ca614",
   "metadata": {},
   "outputs": [
    {
     "name": "stdout",
     "output_type": "stream",
     "text": [
      "** users:  {'kjavi', 'ajaffe', 'hilley', 'cbaden', 'earlew', 'juwoo', 'gegewen', 'ellopes', 'klangenf', 'cooper96', 'rsalcedo', 'divakarv', 'aguilars', 'myoder96', 'mliu9', 'haofu', None, 'pjwomble'}\n",
      "**  [0.00000000e+00 4.29398148e-03 4.40856481e-02 6.53414352e-01\n",
      " 2.92361111e-02 2.12962963e-03 1.59574074e+00 6.43877315e-01\n",
      " 6.43877315e-01 6.43877315e-01 6.43877315e-01 6.43877315e-01\n",
      " 6.43877315e-01 6.43993056e-01 4.41898148e-02 4.07548611e+00\n",
      " 3.77314815e-02 1.57545139e+00 5.88975694e+00 5.02846065e+00]\n",
      "**  [3.47222222e-03 7.90393519e-02 3.92476852e-02 3.46585648e-01\n",
      " 2.20763889e-01 4.14537037e-01 5.40425926e+00 3.56122685e-01\n",
      " 3.56122685e-01 3.56122685e-01 3.56122685e-01 3.56122685e-01\n",
      " 3.56122685e-01 3.56006944e-01 1.95581019e+00 9.24513889e-01\n",
      " 1.96226852e+00 1.42454861e+00 1.11024306e+00 1.97153935e+00]\n",
      "**  0.5515046296296297\n"
     ]
    }
   ],
   "source": [
    "#SQ.set_squeue_data()\n",
    "print('** users: ', set(SQ['USER']))\n",
    "#\n",
    "print('** ', SQ['TIME'][0:20])\n",
    "print('** ', SQ['TIME_LEFT'][0:20])\n",
    "print('** ', hpc_lib.elapsed_time_2_day('13:14:10'))"
   ]
  },
  {
   "cell_type": "code",
   "execution_count": 31,
   "id": "911beb08",
   "metadata": {},
   "outputs": [
    {
     "name": "stdout",
     "output_type": "stream",
     "text": [
      "**  <function elapsed_time_2_day at 0x7ff33c37eca0>\n",
      "**  (numpy.record, [('index', '<i8'), ('JOBID', 'O'), ('JOBID_0', 'O'), ('PARTITION', 'O'), ('NAME', 'O'), ('USER', 'O'), ('TIME', 'O'), ('TIME_LEFT', 'O'), ('NODES', '<f8'), ('CPUS', '<f8'), ('TASKS', '<f8'), ('STATE', 'O'), ('NODELIST            ', 'O')])\n"
     ]
    },
    {
     "data": {
      "text/plain": [
       "(65, 789.0)"
      ]
     },
     "execution_count": 31,
     "metadata": {},
     "output_type": "execute_result"
    }
   ],
   "source": [
    "print('** ', SQ.format_fields_dict['time_left'])\n",
    "print('** ', SQ.dtype)\n",
    "SQ.get_active_cpus(do_jobs=True, do_cpus=True)"
   ]
  },
  {
   "cell_type": "code",
   "execution_count": 10,
   "id": "5440d9a4",
   "metadata": {},
   "outputs": [
    {
     "name": "stdout",
     "output_type": "stream",
     "text": [
      "**  ['PENDING' 'PENDING' 'PENDING' 'PENDING' 'PENDING' 'RUNNING' 'RUNNING'\n",
      " 'RUNNING' 'RUNNING' 'RUNNING' 'RUNNING' 'RUNNING' 'RUNNING' 'RUNNING'\n",
      " 'RUNNING' 'RUNNING' 'RUNNING' 'RUNNING' 'RUNNING' 'RUNNING']\n"
     ]
    }
   ],
   "source": [
    "print('** ', SQ['STATE'][0:20])\n",
    "ix = [s in ['RUNNING'] for s in SQ['STATE'] ]\n",
    "\n",
    "#print('** ', ix)\n"
   ]
  },
  {
   "cell_type": "code",
   "execution_count": 45,
   "id": "1812d415",
   "metadata": {},
   "outputs": [],
   "source": [
    "\n",
    "\n",
    "# squeue_output = subprocess.run(sinfo_str.split(), stdout=subprocess.PIPE).stdout.decode().split('\\n')\n",
    "# cols = squeue_output[0].split(squeue_delim)\n",
    "\n",
    "#\n",
    "#cols = squeue_output.readline()\n",
    "# cols = squeue_output[0]\n",
    "# data_dct = {cl:[] for cl in cols}\n",
    "#\n",
    "# for now, let's just make a dict with the columns... or use a f***ing PANDAs DF? most of the columns\n",
    "#. are text-like values, so a recarray or structured numpy array is probably not a good idea... though\n",
    "#  it's not that difficult to format columns...\n",
    "#data = []\n",
    "#for rw in squeue_output:\n",
    "#    data += [rw.split()]\n",
    "#\n",
    "#data_df = pandas.dataframe(data=data[1:], )\n",
    "#cols = squeue_output.readline()\n",
    "#data = squeue_output[1:]\n"
   ]
  },
  {
   "cell_type": "code",
   "execution_count": 46,
   "id": "3fb0cfb8",
   "metadata": {},
   "outputs": [
    {
     "name": "stdout",
     "output_type": "stream",
     "text": [
      "***  ['JOBID', 'JOBID', 'PARTITION', 'NAME', 'USER', 'TIME', 'TIME_LEFT', 'NODES', 'CPUS', 'TASKS', 'STATE', 'NODELIST            ']  **  12\n",
      "***  ['60107994', '60107994', 'serc', 'check_scratch_cron', 'cooper96', '0:00', '5:00', '1', '1', '1', 'PENDING', '                    ']  **  12\n"
     ]
    }
   ],
   "source": [
    "print('*** ', squeue_output[0].split(squeue_delim), ' ** ', len(squeue_output[0].split(squeue_delim)))\n",
    "print('*** ', squeue_output[1].split(squeue_delim), ' ** ', len(squeue_output[1].split(squeue_delim)))"
   ]
  },
  {
   "cell_type": "code",
   "execution_count": 52,
   "id": "0d3078ad",
   "metadata": {},
   "outputs": [],
   "source": [
    "sq_data = pandas.DataFrame(data=[[format_fields_dict.get(cl.lower(),str)(x) \n",
    "                                  for x, cl in zip(rw.split(squeue_delim),\n",
    "                                squeue_fields['--Format']) ]\n",
    "                                 for rw in squeue_output[1:]], columns=squeue_output[0].lower().split(squeue_delim))"
   ]
  },
  {
   "cell_type": "code",
   "execution_count": 57,
   "id": "52f50e64",
   "metadata": {},
   "outputs": [
    {
     "name": "stdout",
     "output_type": "stream",
     "text": [
      "**  jobid                    object\n",
      "jobid                    object\n",
      "partition                object\n",
      "name                     object\n",
      "user                     object\n",
      "time                     object\n",
      "time_left                object\n",
      "nodes                   float64\n",
      "cpus                    float64\n",
      "tasks                   float64\n",
      "state                    object\n",
      "nodelist                 object\n",
      "dtype: object\n"
     ]
    },
    {
     "ename": "ValueError",
     "evalue": "name already used as a name or title",
     "output_type": "error",
     "traceback": [
      "\u001b[0;31m---------------------------------------------------------------------------\u001b[0m",
      "\u001b[0;31mValueError\u001b[0m                                Traceback (most recent call last)",
      "\u001b[0;32m<ipython-input-57-595fb2994885>\u001b[0m in \u001b[0;36m<module>\u001b[0;34m\u001b[0m\n\u001b[1;32m      1\u001b[0m \u001b[0mprint\u001b[0m\u001b[0;34m(\u001b[0m\u001b[0;34m'** '\u001b[0m\u001b[0;34m,\u001b[0m \u001b[0msq_data\u001b[0m\u001b[0;34m.\u001b[0m\u001b[0mdtypes\u001b[0m\u001b[0;34m)\u001b[0m\u001b[0;34m\u001b[0m\u001b[0;34m\u001b[0m\u001b[0m\n\u001b[1;32m      2\u001b[0m \u001b[0;31m#\u001b[0m\u001b[0;34m\u001b[0m\u001b[0;34m\u001b[0m\u001b[0;34m\u001b[0m\u001b[0m\n\u001b[0;32m----> 3\u001b[0;31m \u001b[0mary_sq_data\u001b[0m \u001b[0;34m=\u001b[0m \u001b[0msq_data\u001b[0m\u001b[0;34m.\u001b[0m\u001b[0mto_records\u001b[0m\u001b[0;34m(\u001b[0m\u001b[0;34m)\u001b[0m\u001b[0;34m\u001b[0m\u001b[0;34m\u001b[0m\u001b[0m\n\u001b[0m\u001b[1;32m      4\u001b[0m \u001b[0mprint\u001b[0m\u001b[0;34m(\u001b[0m\u001b[0;34m'** '\u001b[0m\u001b[0;34m,\u001b[0m \u001b[0mary_sq_data\u001b[0m\u001b[0;34m.\u001b[0m\u001b[0mdtype\u001b[0m\u001b[0;34m)\u001b[0m\u001b[0;34m\u001b[0m\u001b[0;34m\u001b[0m\u001b[0m\n",
      "\u001b[0;32m/home/groups/s-ees/share/cees/software/x86_64_arch/anaconda/3.8.8/lib/python3.8/site-packages/pandas/core/frame.py\u001b[0m in \u001b[0;36mto_records\u001b[0;34m(self, index, column_dtypes, index_dtypes)\u001b[0m\n\u001b[1;32m   2062\u001b[0m                 \u001b[0;32mraise\u001b[0m \u001b[0mValueError\u001b[0m\u001b[0;34m(\u001b[0m\u001b[0mmsg\u001b[0m\u001b[0;34m)\u001b[0m\u001b[0;34m\u001b[0m\u001b[0;34m\u001b[0m\u001b[0m\n\u001b[1;32m   2063\u001b[0m \u001b[0;34m\u001b[0m\u001b[0m\n\u001b[0;32m-> 2064\u001b[0;31m         \u001b[0;32mreturn\u001b[0m \u001b[0mnp\u001b[0m\u001b[0;34m.\u001b[0m\u001b[0mrec\u001b[0m\u001b[0;34m.\u001b[0m\u001b[0mfromarrays\u001b[0m\u001b[0;34m(\u001b[0m\u001b[0marrays\u001b[0m\u001b[0;34m,\u001b[0m \u001b[0mdtype\u001b[0m\u001b[0;34m=\u001b[0m\u001b[0;34m{\u001b[0m\u001b[0;34m\"names\"\u001b[0m\u001b[0;34m:\u001b[0m \u001b[0mnames\u001b[0m\u001b[0;34m,\u001b[0m \u001b[0;34m\"formats\"\u001b[0m\u001b[0;34m:\u001b[0m \u001b[0mformats\u001b[0m\u001b[0;34m}\u001b[0m\u001b[0;34m)\u001b[0m\u001b[0;34m\u001b[0m\u001b[0;34m\u001b[0m\u001b[0m\n\u001b[0m\u001b[1;32m   2065\u001b[0m \u001b[0;34m\u001b[0m\u001b[0m\n\u001b[1;32m   2066\u001b[0m     \u001b[0;34m@\u001b[0m\u001b[0mclassmethod\u001b[0m\u001b[0;34m\u001b[0m\u001b[0;34m\u001b[0m\u001b[0m\n",
      "\u001b[0;32m/home/groups/s-ees/share/cees/software/x86_64_arch/anaconda/3.8.8/lib/python3.8/site-packages/numpy/core/records.py\u001b[0m in \u001b[0;36mfromarrays\u001b[0;34m(arrayList, dtype, shape, formats, names, titles, aligned, byteorder)\u001b[0m\n\u001b[1;32m    660\u001b[0m \u001b[0;34m\u001b[0m\u001b[0m\n\u001b[1;32m    661\u001b[0m     \u001b[0;32mif\u001b[0m \u001b[0mdtype\u001b[0m \u001b[0;32mis\u001b[0m \u001b[0;32mnot\u001b[0m \u001b[0;32mNone\u001b[0m\u001b[0;34m:\u001b[0m\u001b[0;34m\u001b[0m\u001b[0;34m\u001b[0m\u001b[0m\n\u001b[0;32m--> 662\u001b[0;31m         \u001b[0mdescr\u001b[0m \u001b[0;34m=\u001b[0m \u001b[0msb\u001b[0m\u001b[0;34m.\u001b[0m\u001b[0mdtype\u001b[0m\u001b[0;34m(\u001b[0m\u001b[0mdtype\u001b[0m\u001b[0;34m)\u001b[0m\u001b[0;34m\u001b[0m\u001b[0;34m\u001b[0m\u001b[0m\n\u001b[0m\u001b[1;32m    663\u001b[0m     \u001b[0;32melse\u001b[0m\u001b[0;34m:\u001b[0m\u001b[0;34m\u001b[0m\u001b[0;34m\u001b[0m\u001b[0m\n\u001b[1;32m    664\u001b[0m         \u001b[0mdescr\u001b[0m \u001b[0;34m=\u001b[0m \u001b[0mformat_parser\u001b[0m\u001b[0;34m(\u001b[0m\u001b[0mformats\u001b[0m\u001b[0;34m,\u001b[0m \u001b[0mnames\u001b[0m\u001b[0;34m,\u001b[0m \u001b[0mtitles\u001b[0m\u001b[0;34m,\u001b[0m \u001b[0maligned\u001b[0m\u001b[0;34m,\u001b[0m \u001b[0mbyteorder\u001b[0m\u001b[0;34m)\u001b[0m\u001b[0;34m.\u001b[0m\u001b[0mdtype\u001b[0m\u001b[0;34m\u001b[0m\u001b[0;34m\u001b[0m\u001b[0m\n",
      "\u001b[0;31mValueError\u001b[0m: name already used as a name or title"
     ]
    }
   ],
   "source": [
    "print('** ', sq_data.dtypes)\n",
    "#\n",
    "ary_sq_data = sq_data.to_records()\n",
    "print('** ', ary_sq_data.dtype)"
   ]
  },
  {
   "cell_type": "code",
   "execution_count": 24,
   "id": "cee2615f",
   "metadata": {},
   "outputs": [
    {
     "name": "stdout",
     "output_type": "stream",
     "text": [
      "**  ['JOBID', 'JOBID', 'PARTITION', 'NAME', 'USER', 'TIME', 'TIME_LEFT', 'NODES', 'CPUS', 'TASKS', 'NODELIST', 'STATE']\n",
      "**  ['60052471', '60052471', 'serc', 'pfor_matlab', 'lpulvi', '0:00', '5-00:00:00', '1', '120', '1', 'PENDING']\n",
      "**  ['60043735', '60043735', 'serc', 'check_scratch_cron', 'cooper96', '0:00', '5:00', '1', '1', '1', 'PENDING']\n",
      "**  ['60030631', '60030631', 'serc', 'run_realistic_perturaguilars', '0:00', '6-21:00:00', '1', '64', '64', 'PENDING']\n",
      "**  ['60071705', '60071705', 'serc', 'RCE_299_5_2CO2', 'regirock', '4:03:39', '3-19:56:21', '10', '240', '240', 'sh03-04n[70,72],sh03RUNNING']\n",
      "**  ['59982531', '59982531', 'serc', 'spg_sa_sal_ncpus250_earlew', '1-07:08:12', '1-02:51:48', '38', '250', '250', 'sh03-04n[45-46,49-51RUNNING']\n",
      "**  ['60084542', '60084542', 'serc', 'all_iqt', 'mcshea', '30:03', '23:29:57', '1', '8', '8', 'sh03-04n42', 'RUNNING']\n",
      "**  ['59736211', '59736211_23', 'serc', 'rot_RCE', 'haofu', '5-19:55:34', '1-03:04:26', '9', '144', '144', 'sh03-04n[50-52],sh03RUNNING']\n",
      "**  ['60050707', '60050707', 'serc', 'TWI_3D', 'juliojof', '9:48:12', '20:11:48', '3', '12', '12', 'sh03-14n[09,11,13]', 'RUNNING']\n",
      "**  ['60082338', '60082338', 'serc', 'forward_methane', 'yxy', '55:15', '23:04:45', '1', '8', '8', 'sh03-05n30', 'RUNNING']\n"
     ]
    }
   ],
   "source": [
    "for rw in squeue_output[0:10]:\n",
    "    print('** ', rw.split())"
   ]
  },
  {
   "cell_type": "code",
   "execution_count": null,
   "id": "748b9c35",
   "metadata": {},
   "outputs": [],
   "source": []
  }
 ],
 "metadata": {
  "kernelspec": {
   "display_name": "Python 3",
   "language": "python",
   "name": "python3"
  },
  "language_info": {
   "codemirror_mode": {
    "name": "ipython",
    "version": 3
   },
   "file_extension": ".py",
   "mimetype": "text/x-python",
   "name": "python",
   "nbconvert_exporter": "python",
   "pygments_lexer": "ipython3",
   "version": "3.8.8"
  }
 },
 "nbformat": 4,
 "nbformat_minor": 5
}
