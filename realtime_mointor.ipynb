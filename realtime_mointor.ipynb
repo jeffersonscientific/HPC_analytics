{
 "cells": [
  {
   "cell_type": "code",
   "execution_count": 42,
   "id": "8d9acacd",
   "metadata": {},
   "outputs": [
    {
     "name": "stdout",
     "output_type": "stream",
     "text": [
      "The autoreload extension is already loaded. To reload it, use:\n",
      "  %reload_ext autoreload\n"
     ]
    }
   ],
   "source": [
    "%load_ext autoreload\n",
    "%autoreload 2\n",
    "%matplotlib inline\n"
   ]
  },
  {
   "cell_type": "code",
   "execution_count": 43,
   "id": "2f0566ef",
   "metadata": {},
   "outputs": [],
   "source": [
    "import numpy\n",
    "import scipy\n",
    "import pandas\n",
    "import math\n",
    "import matplotlib\n",
    "import matplotlib.dates as mpd\n",
    "import pylab as plt\n",
    "import datetime as dtm\n",
    "import pytz\n",
    "import multiprocessing as mpp\n",
    "import pickle\n",
    "import sys\n",
    "import os\n",
    "import subprocess\n",
    "#import lmod\n",
    "# lmod.load('system')\n",
    "# lmod.load('texlive')\n",
    "# lmod.\n",
    "#\n",
    "import hpc_lib\n",
    "#\n",
    "# TODO: phase out unreferenced hpc_lib calls...\n",
    "#import hpc_lib\n",
    "#import hpc_reports\n",
    "#\n",
    "def running_mean(X,n=10):\n",
    "    return (numpy.cumsum(numpy.insert(X,0,0))[n:] - numpy.cumsum(numpy.insert(X,0,0))[:-n])/n\n",
    "#"
   ]
  },
  {
   "cell_type": "markdown",
   "id": "527eb24d",
   "metadata": {},
   "source": [
    "## Realtime Monitoring tools\n",
    "\n",
    "### General objective:\n",
    "- Some tools to do realtime monitoring of SERC usage\n",
    "- Nominally more versatile than that; could be SERC, users, groups, etc. \n",
    "- Design some metrics to indicate excessive usage; send alerts; make pretty graphs.\n",
    "\n",
    "Possible starting query:\n",
    "        squeue -p serc --Format=jobid,jobarrayid,partition,name,userid,timeused,timeleft,numnodes,nodelist,numcpus,state\n",
    "\n",
    "Use this to identify:\n",
    "- An individual user or group using >1/3 of the cluster for >1 hour (or so)\n",
    "- Generally, times of high impact (lots of running and pending jobs)\n",
    "\n",
    "Note that it is not trivial to estimate this. Loads of jobs pending is not significant, for example, if they have short runtimes. What we really want to catch is a scenario where a job array (or similar) picks up a bunch of idle resources (eg, overnight when usage is lower) for >24 hour runtime jobs.\n"
   ]
  },
  {
   "cell_type": "code",
   "execution_count": 72,
   "id": "bff296c7",
   "metadata": {},
   "outputs": [
    {
     "name": "stdout",
     "output_type": "stream",
     "text": [
      "**  ['g', 'm', 'f', 't']\n"
     ]
    }
   ],
   "source": [
    "class SPART_obj(object):\n",
    "    # Python handler for SPART,or partition summary info kabob.\n",
    "    # SPART looks like a third party tool to provide partition type info.\n",
    "    # https://github.com/mercanca/spart\n",
    "    #\n",
    "    def __init__(self, options='gmft', format_fields_dict=None, verbose=False):\n",
    "        '''\n",
    "        # @options: spart options (see docs or man or whatever...). Can be list-like or string.\n",
    "        # internally, this will get parsed into a list of unique letter values and passed like, '-g -m -f'\n",
    "        #\n",
    "        '''\n",
    "        #\n",
    "        options = [ (s.decode() if hasattr(s, 'decode') else s) for s in options]\n",
    "        spart_str = 'spart {}'.format(' '.join(f'-{s}' for s in options) )\n",
    "        self.SP = self.get_spart_data(spart_str=spart_str)\n",
    "        #\n",
    "        self.__dict__.update({ky:vl for ky,vl in locals().items() if not ky in ('self', '__class__')})\n",
    "\n",
    "    def get_spart_data(self, spart_str=None, verbose=False):\n",
    "        spart_str = spart_str or self.spart_str\n",
    "        #\n",
    "        squeue_output = subprocess.run(spart_str.split(), stdout=subprocess.PIPE).stdout.decode().split('\\n')\n",
    "        squeue_output = [rw.replace('|', '') for rw in squeue_output]\n",
    "        #print('** DEBUG: ', squeue_output)\n",
    "        #\n",
    "        # the output is a bit of a mess, but we can put it together...\n",
    "        for k,rw in enumerate(squeue_output):\n",
    "            if rw.lstrip().startswith('QUEUE'):\n",
    "                cols = rw.split()\n",
    "                cols = [f'{c1}{c2}' for c1,c2 in zip(cols, squeue_output[k+1].split()) ]\n",
    "                #\n",
    "                break\n",
    "            #\n",
    "        data = [rw.split() for rw in squeue_output[k+2:] if not len(rw)==0]\n",
    "        \n",
    "        #return [cols] + data\n",
    "        return pandas.DataFrame(data=data, columns=cols, index=[rw[0] for rw in data])\n",
    "    #\n",
    "    @property\n",
    "    def cols(self):\n",
    "        return self.SP.columns\n",
    "    #\n",
    "    def get_total_cpus(self, partitions='normal'):\n",
    "        if isinstance(partitions, str):\n",
    "            partitions = partitions.split(',')\n",
    "        #\n",
    "        return numpy.sum(self.SP['TOTALCORES'][partitions].to_numpy().astype(float))\n",
    "    def get_total_gpus(self, partitions='gpu', verbose=False):\n",
    "        # gpus in GRES, like: gpu:4(S:0)(2),gpu:8(S:0-3)(6)\n",
    "        if isinstance(partitions, str):\n",
    "            partitions = partitions.split(',')\n",
    "        #\n",
    "        gres = self.SP['GRES(NODE-COUNT)'][partitions].to_list()\n",
    "        #\n",
    "        # flatten and split by 'gpu:' entries:\n",
    "        gres = [s for ss in gres for s in ss.split(',') if s.startswith('gpu')]\n",
    "        #\n",
    "        # TODO: The right way to do this is with regular expressions. but I hate regular expressions,\n",
    "        #. so for now, we'll just hack it.\n",
    "        #expr='gpu:\\d+(S:.*)(\\d+)'\n",
    "        ngpus = 0\n",
    "        for k,s in enumerate(gres):\n",
    "            if verbose:\n",
    "                print('** * DEBUG: gres: ', gres)\n",
    "            n_gpu = s[4:s.index('(')]\n",
    "            #print(f'** {s}, {n_gpu}')\n",
    "            #\n",
    "            if '(S:' in s:\n",
    "                N_server = s[s.index('(',s.index('(')+1)+1:s.index(')', s.index(')')+1  ) ]\n",
    "            else:\n",
    "                try:\n",
    "                    N_server = s[s.index('(')+1 : s.index(')')]\n",
    "                except:\n",
    "                    N_server = 1\n",
    "            #\n",
    "            #print(f'** [{k}] : {s} :: {n_gpu} :: {N_server} ')\n",
    "            #\n",
    "            ngpus += int(n_gpu)*int(N_server)\n",
    "            \n",
    "            \n",
    "        \n",
    "            \n",
    "        return ngpus\n",
    " \n",
    "        \n",
    "SP = hpc_lib.SPART_obj()\n",
    "#SP = SPART_obj(options=['g', 'm', 'f', 't', 'i'])\n",
    "#\n",
    "print('** ', SP.options)\n",
    "        "
   ]
  },
  {
   "cell_type": "code",
   "execution_count": 73,
   "id": "e7980e03",
   "metadata": {},
   "outputs": [],
   "source": [
    "GREs = SP.get_total_gpus(partitions='serc,gpu')"
   ]
  },
  {
   "cell_type": "code",
   "execution_count": 74,
   "id": "c6637aec",
   "metadata": {},
   "outputs": [],
   "source": [
    "#print('** ', SP.SP)\n",
    "gres = SP.SP['GRES(NODE-COUNT)'][['serc', 'gpu']].to_list()\n",
    "gres = [s for ss in gres for s in ss.split(',') if s.startswith('gpu')]\n",
    "#\n",
    "# def gres_to_ngpus(gres_str):\n",
    "#     s = gres_str\n",
    "#     n_gpu    = s[4:s.index('(')]\n",
    "#     n_server = s[s.index('(',s.index('(')+1)+1:s.index(')', s.index(')')+1  ) ]\n",
    "#     #\n",
    "#     return int(n_gpu)*int(n_server)\n",
    "\n",
    "# print('gres_to_ngpus(gpu:4(S:0-1))', gres_to_ngpus('gpu:4(S:0-1)'))"
   ]
  },
  {
   "cell_type": "code",
   "execution_count": 47,
   "id": "dd709320",
   "metadata": {},
   "outputs": [
    {
     "name": "stdout",
     "output_type": "stream",
     "text": [
      "**  155\n",
      "c_g:  {'cpu': 4640, 'gpu': 56, 'gpu_cpu': 816}\n",
      "** serc, normal  (8672, 56, 816)\n"
     ]
    }
   ],
   "source": [
    "    \n",
    "def sinfo_ncpus_ngpus(partition='serc', as_tuple=False):\n",
    "    '''\n",
    "    # get number of cpu CPUs and gpu CPUs and GPUs from sinfo query. Return is like (?)\n",
    "    #. {'cpu':N_cpu, 'gpu':N_gpu, 'gpu_cpu': N_gpu_cpu)}\n",
    "    # what is the best output? {'gpu':{'gpu':n, 'cpu',m}} ?{'cpu', 'gpu', 'gpu_cpu'?}\n",
    "    '''\n",
    "    #\n",
    "    sinfo_str = f'sinfo -p {partition} -N --Format=cpus,gres'\n",
    "    cpus_gres = squeue_output = subprocess.run(sinfo_str.split(),\n",
    "                                               stdout=subprocess.PIPE).stdout.decode().split('\\n')\n",
    "    #\n",
    "    cpus_gpus = {'cpu': 0, 'gpu': 0, 'gpu_cpu': 0}\n",
    "    #\n",
    "    for k,rw in enumerate(cpus_gres[1:]):\n",
    "        #\n",
    "        if len(rw)== 0:\n",
    "            continue\n",
    "        cpu,gre = rw.split()\n",
    "        #\n",
    "        n_gpu = None\n",
    "        if 'gpu:' in gre:\n",
    "            k0 = gre.index('gpu:')\n",
    "            n_gpu = int(gre[k0+4:gre.index('(',k0)])\n",
    "            #\n",
    "            cpus_gpus['gpu'] += n_gpu\n",
    "            cpus_gpus['gpu_cpu'] += int(cpu)\n",
    "        else:\n",
    "            cpus_gpus['cpu'] += int(cpu)\n",
    "        #\n",
    "    if as_tuple:\n",
    "        return (cpus_gpus[ky] for ky in ('cpu', 'gpu', 'gpu_cpu'))\n",
    "    else:\n",
    "        return cpus_gpus\n",
    "    \n",
    "#sdp = SP.get_spart_data()\n",
    "# print('** ', sp[0])\n",
    "# print('\\n\\n** ', sp[1])\n",
    "# ix = [rw[0] for rw in sp[1:]]\n",
    "# print('** ix: ', ix)\n",
    "#sdp = pandas.DataFrame(data=sp[1:], columns=sp[0], index=[rw[0] for rw in sp[1:]])\n",
    "# print('** ', numpy.shape(sp))\n",
    "# for rw in sp:\n",
    "#     print('** ', rw)\n",
    "\n",
    "# print('** ', SP.get_total_cpus(partitions=['serc','normal']))\n",
    "# print('** ', SP.get_total_cpus(partitions=['serc','normal','hns']))\n",
    "# print('** ', SP.get_total_gpus(partitions='serc,gpu'))\n",
    "#\n",
    "GREs = SP.get_total_gpus(partitions='serc,gpu')\n",
    "#\n",
    "print('** ', GREs)\n",
    "#\n",
    "c_g = hpc_lib.sinfo_ncpus_ngpus()\n",
    "print('c_g: ', c_g)\n",
    "my_partition='serc, normal'\n",
    "print(f'** {my_partition}  {hpc_lib.sinfo_ncpus_ngpus(partition=my_partition, as_tuple=True)}' )\n"
   ]
  },
  {
   "cell_type": "code",
   "execution_count": null,
   "id": "b26b0b80",
   "metadata": {},
   "outputs": [],
   "source": []
  },
  {
   "cell_type": "code",
   "execution_count": 69,
   "id": "51a33540",
   "metadata": {
    "scrolled": false
   },
   "outputs": [
    {
     "name": "stdout",
     "output_type": "stream",
     "text": [
      "** squeue: squeue  --Format=jobid:;,jobarrayid:;,partition:;,name:;,username:;,timeused:;,timeleft:;,numnodes:;,numcpus:;,numtasks:;,state:;,nodelist --partition=serc\n"
     ]
    }
   ],
   "source": [
    "# format_fields = {'jobid':str, 'jobarrayid':str, 'partition':str, 'name':str, 'username':str, 'timeused':str, \n",
    "#                     'timeleft':str, 'numnodes':int, 'numcpus':int, 'numtasks':int, 'nodelist':str, 'state':str}\n",
    "\n",
    "class SQUEUE_obj(object):\n",
    "    # SQUEUE manager, principally to estimate realtime SLURM activity. Like SACCT_obj, but\n",
    "    #  uses squeue. We *could* use SACCT_obj and just limit to --State=running,pending\n",
    "    #. but it seems that sacct is much slower than squeue.\n",
    "    #\n",
    "    def __init__(self, partition='serc', format_fields_dict=None, squeue_prams=None, verbose=False):\n",
    "        #\n",
    "        # @squeue_prams: additional or replacement fields for squeue_fields variable, eg parameters\n",
    "        #. to pass to squeue. Presently, --Format and --partition are specified. some options might also\n",
    "        #. be allowed as regular inputs. Probably .update(squeue_prams) will be the last thing done, so \n",
    "        #  will overried other inputs.\n",
    "        #\n",
    "        # TODO: add ***kwargs and handle syantax like SQU_{something} to add to squeue_fields, etc.\n",
    "        \n",
    "        if format_fields_dict is None:\n",
    "            format_fields_dict = hpc_lib.default_SLURM_types_dict\n",
    "#             format_fields.update({ky:int for ky in ['NODES', 'CPUS', 'TASKS', 'numnodes', 'numtasks', 'numcpus']})\n",
    "#             #\n",
    "#             ff_l = {ky.lower():val for ky,val in format_fields.items()}\n",
    "#             ff_u = {ky.upper():val for ky,val in format_fields.items()}\n",
    "#             format_fields.update(ff_l)\n",
    "#             format_fields.update(ff_u)\n",
    "#             del ff_l\n",
    "#             del ff_u\n",
    "\n",
    "        squeue_fields = {'--Format': ['jobid', 'jobarrayid', 'partition', 'name', 'username', 'timeused', \n",
    "                                      'timeleft', 'numnodes', 'numcpus', 'numtasks', 'state', 'nodelist'],\n",
    "                      '--partition': [partition]\n",
    "                      }\n",
    "        if isinstance(squeue_prams, dict):\n",
    "            squeue_fields.update(squeue_prams)\n",
    "        #\n",
    "        squeue_delim=';'\n",
    "        sinfo_str = 'squeue '\n",
    "        for ky,vl in squeue_fields.items():\n",
    "            delim=' '\n",
    "            if ky.startswith('--'):\n",
    "                # long format\n",
    "                delim='='\n",
    "            #\n",
    "            sinfo_str = '{} {}{}{}'.format(sinfo_str, ky, delim, f':{squeue_delim},'.join(vl))\n",
    "        #\n",
    "        if verbose:\n",
    "            print('*** sinfo_str: {}'.format(sinfo_str))\n",
    "            print('*** sinfo_ary: {}'.format(sinfo_str.split()))\n",
    "        #\n",
    "        # TODO:\n",
    "        # port some of these bits to class-scope function calls, for class portability\n",
    "        #\n",
    "        self.__dict__.update({ky:vl for ky,vl in locals().items() if not ky in ('self', '__class__')})\n",
    "        self.set_squeue_data()\n",
    "    #\n",
    "    def set_squeue_data(self):\n",
    "        self.squeue_data = self.get_squeue_data()\n",
    "        self.dtype       = self.squeue_data.dtype\n",
    "    #\n",
    "    def __getitem__(self, *args, **kwargs):\n",
    "        return self.squeue_data.__getitem__(*args, **kwargs)\n",
    "    def __setitem__(self, *args, kwargs):\n",
    "        return self.squeue_data.__setitem__\n",
    "    #\n",
    "    def get_squeue_data(self, sinfo_str=None, squeue_delim=None, verbose=False):\n",
    "        sinfo_str = sinfo_str or self.sinfo_str\n",
    "        squeue_delim = squeue_delim or self.squeue_delim\n",
    "        #\n",
    "        print(f'** squeue: {sinfo_str}' )\n",
    "        squeue_output = subprocess.run(sinfo_str.split(), stdout=subprocess.PIPE).stdout.decode().split('\\n')\n",
    "        #cols = squeue_output[0].split(squeue_delim)\n",
    "        #\n",
    "        # there is a smarter way to do this, eg:\n",
    "        cols = squeue_output[0].split(squeue_delim)\n",
    "        for k,cl in enumerate(cols):\n",
    "            cl_0 = cl\n",
    "            k_rep = 0\n",
    "            while cols[k] in cols[0:k]:\n",
    "                cols[k] = f'{cl}_{k_rep}'\n",
    "        if verbose:\n",
    "            print('** cols: ', cols)\n",
    "        #\n",
    "#         # DEBUG:\n",
    "#         for k,rw in enumerate(squeue_output):\n",
    "#             #print(f'** rw[{k}]: {rw.split(squeue_delim)}')\n",
    "#             print(f'** rw[{k}]: {rw}')\n",
    "        #\n",
    "        return pandas.DataFrame(data=[[self.format_fields_dict.get(cl.lower(),str)(x) \n",
    "                                  for x, cl in zip(rw.split(squeue_delim),\n",
    "                                self.squeue_fields['--Format']) ]\n",
    "                                 for rw in squeue_output[1:] if not len(rw.strip()) == 0],\n",
    "                                   columns=cols).to_records()\n",
    "    #\n",
    "    def get_active_jobs(self, *args, **kwargs):\n",
    "        # print('** DEBUG: args: {}'.format(args))\n",
    "        if len(args)>=6:\n",
    "            args[5]\n",
    "        kwargs['do_jobs'] = True\n",
    "        return get_active_cpus(*args, **kwargs)\n",
    "    #\n",
    "    def get_active_cpus(self, state='running,pending', do_refresh=False, state_data=None, ncpus=None, do_cpus=True, do_jobs=False):\n",
    "        if do_refresh:\n",
    "            self.set_squeue_data()\n",
    "        #\n",
    "        if isinstance(state,bytes):\n",
    "            state=state.decode()\n",
    "        if isinstance(state,str):\n",
    "            state=state.split(',')\n",
    "        #\n",
    "        for k,s in enumerate(state):\n",
    "            state[k] = s.upper()\n",
    "        #\n",
    "        if state_data is None:\n",
    "            state_data = self['STATE']\n",
    "        if ncpus is None:\n",
    "            ncpus = self['CPUS']\n",
    "        #\n",
    "        ix = numpy.isin(state_data, state)\n",
    "        n_jobs, n_cpus = numpy.sum(ix), numpy.sum(ncpus[ix])\n",
    "        #\n",
    "        if do_cpus and do_jobs:\n",
    "            return (n_jobs, n_cpus)\n",
    "        if do_cpus:\n",
    "            return n_cpus\n",
    "        if do_jobs:\n",
    "            return n_jobs\n",
    "    #\n",
    "    def simple_wait_estimate(self, ncpus=1, max_cpus=4600, do_refresh=False):\n",
    "        # TODO: figure out the right way(s) to get max_cpus from system.\n",
    "        active_cpus = self.get_active_cpus(state='running,pending', do_refresh=do_refresh)\n",
    "        avail_cpus = max_cpus - active_cpus\n",
    "        #\n",
    "        if ncpus <= avail_cpus:\n",
    "            return 0\n",
    "        #\n",
    "        cpus_needed = ncpus - avail_cpus\n",
    "        #\n",
    "        # now, spin down self['TIME_LEFT'] until we have enough CPUs to do our job. that TIME_LEFT is\n",
    "        #. when our job should be available.\n",
    "        #\n",
    "        return None\n",
    "    #\n",
    "    def report_user_cpu_job_pies(self, state='RUNNING,PENDING', cpus_total=5456, add_idle=True, ax1=None, ax2=None):\n",
    "        #\n",
    "        # TODO: use scontrol or sinfo to get an automagical cpus_total count.\n",
    "        #\n",
    "        user_data = self.get_user_cpu_job_data(state=state, add_idle=add_idle)\n",
    "        #\n",
    "        if ax1 is None or ax2 is None:\n",
    "            fg = plt.figure(figsize=(12,8))\n",
    "            ax1 = fg.add_subplot(1,2,1)\n",
    "            ax2 = fg.add_subplot(1,2,2)\n",
    "        #\n",
    "        ax1.pie(user_data['jobs'],  labels=user_data['user'], autopct='%.1f')\n",
    "        ax2.pie(user_data['ncpus'], labels=user_data['user'], autopct='%.1f')\n",
    "        #\n",
    "        ax1.set_title('Jobs', size=16)\n",
    "        ax2.set_title('CPUs', size=16)\n",
    "        #\n",
    "        #ax1.legend(loc=0)\n",
    "        \n",
    "        return user_data\n",
    "    #\n",
    "    def get_user_cpu_job_data(self, state='RUNNING,PENDING', cpus_total=5456, add_idle=True):\n",
    "        #partition = partition or self.partition\n",
    "        if isinstance(state,bytes):\n",
    "            state=state.decode()\n",
    "        if isinstance(state,str):\n",
    "            state = state.split(',')\n",
    "        sq = self[numpy.isin(self['STATE'].astype(type(state)), state)]\n",
    "        print('*** ', self['STATE'].astype(type(state))[0:10], '*** ', state)\n",
    "        #\n",
    "        users = list([u for u in set(sq['USER']) if not u is None])\n",
    "        #if add_idle:\n",
    "        #    users += ['idle']\n",
    "        print('** users: ', users)\n",
    "        #\n",
    "        out_data = numpy.empty(shape=(len(users) + int(add_idle),), \n",
    "                    dtype=[('user', f'U{max([len(s) for s in users])}'), ('jobs', '<f8'), ('ncpus', '<f8')])\n",
    "        \n",
    "        #out_data['jobs'] = numpy.zeros(len(users))\n",
    "        #out_data['ncpus'] = numpy.zeros(len(users))\n",
    "        #\n",
    "        # NOTE: there is also a (faster) syntax to broadcast this, then sum on an axis.\n",
    "        jobs  = [numpy.sum( (self['USER']==u) ) for u in users]\n",
    "        ncpus = [numpy.sum( self['CPUS'][(self['USER']==u)] ) for u in users]\n",
    "        #\n",
    "        if add_idle:\n",
    "            jobs += [0]\n",
    "            ncpus += [cpus_total-numpy.sum(ncpus)]\n",
    "            users += ['idle']\n",
    "        #\n",
    "        out_data['user']  = users\n",
    "        out_data['jobs']  = jobs\n",
    "        out_data['ncpus'] = ncpus\n",
    "        #\n",
    "        return out_data\n",
    "        \n",
    "        \n",
    "          \n",
    "        \n",
    "SQ = hpc_lib.SQUEUE_obj()      \n",
    "#"
   ]
  },
  {
   "cell_type": "code",
   "execution_count": 70,
   "id": "44e08a6d",
   "metadata": {},
   "outputs": [
    {
     "name": "stdout",
     "output_type": "stream",
     "text": [
      "**  5456\n",
      "***  squeue  --Format=jobid:;,jobarrayid:;,partition:;,name:;,username:;,timeused:;,timeleft:;,numnodes:;,numcpus:;,numtasks:;,state:;,nodelist --partition=serc\n",
      "**  3057\n"
     ]
    }
   ],
   "source": [
    "print('** ', 6*128 + 8*128 + 14*24 + 104*32)\n",
    "print('*** ', SQ.sinfo_str)\n",
    "print('** ', SQ.get_active_cpus(state='running,pending'))\n",
    "#\n"
   ]
  },
  {
   "cell_type": "code",
   "execution_count": 71,
   "id": "81f74261",
   "metadata": {},
   "outputs": [
    {
     "name": "stdout",
     "output_type": "stream",
     "text": [
      "***  ['PENDING' 'PENDING' 'PENDING' 'PENDING' 'PENDING' 'PENDING' 'PENDING'\n",
      " 'PENDING' 'PENDING' 'PENDING'] ***  ['RUNNING', 'PENDING']\n",
      "** users:  ['axelwang', 'aguilars', 'chrisauc', 'ag4680', 'gegewen', 'jshs', 'lauraman', 'yxy', 'jhchung1', 'juwoo', 'cbaden', 'regirock', 'cooper96', 'ecj', 'mliu9', 'anovosel', 'haofu', 'wneely', 'pjwomble', 'riesr', 'scdobbs', 'myoder96', 'cfgould', 'earlew', 'alpatil']\n",
      "** \n",
      "** sunet, nodes, cpus\n",
      "**  ('axelwang', 1., 560.)\n",
      "**  ('aguilars', 2., 72.)\n",
      "**  ('chrisauc', 1., 1.)\n",
      "**  ('ag4680', 1., 32.)\n",
      "**  ('gegewen', 2., 21.)\n",
      "**  ('jshs', 1., 9.)\n",
      "**  ('lauraman', 3., 192.)\n",
      "**  ('yxy', 9., 72.)\n",
      "**  ('jhchung1', 1., 1.)\n",
      "**  ('juwoo', 504., 520.)\n",
      "**  ('cbaden', 2., 26.)\n",
      "**  ('regirock', 14., 14.)\n",
      "**  ('cooper96', 1., 1.)\n",
      "**  ('ecj', 20., 20.)\n",
      "**  ('mliu9', 2., 37.)\n",
      "**  ('anovosel', 2., 9.)\n",
      "**  ('haofu', 85., 85.)\n",
      "**  ('wneely', 18., 34.)\n",
      "**  ('pjwomble', 1., 3.)\n",
      "**  ('riesr', 1., 32.)\n",
      "**  ('scdobbs', 1., 6.)\n",
      "**  ('myoder96', 1., 4.)\n",
      "**  ('cfgould', 1., 288.)\n",
      "**  ('earlew', 1., 250.)\n",
      "**  ('alpatil', 3., 768.)\n",
      "**  ('idle', 0., 2399.)\n"
     ]
    },
    {
     "data": {
      "image/png": "[encoded data removed]",
      "text/plain": [
       "<Figure size 864x576 with 2 Axes>"
      ]
     },
     "metadata": {},
     "output_type": "display_data"
    }
   ],
   "source": [
    "# users = list([u for u in set(SQ['USER']) if not u is None])\n",
    "# print('** ', users)\n",
    "#         #\n",
    "# out_data = numpy.empty(shape=(len(users),), \n",
    "#             dtype=[('user', f'U{max([len(s) for s in users])}'), ('jobs', '<f8'), ('ncpus', '<f8')])\n",
    "# out_data['user'] = users\n",
    "# out_data['jobs'] = numpy.zeros(len(users))\n",
    "# out_data['ncpus'] = numpy.zeros(len(users))\n",
    "# #\n",
    "# print('** ', out_data)\n",
    "\n",
    "user_pie = SQ.report_user_cpu_job_pies()\n",
    "print('** ')\n",
    "print('** sunet, nodes, cpus')\n",
    "for rw in user_pie:\n",
    "    print('** ', rw)"
   ]
  },
  {
   "cell_type": "code",
   "execution_count": 58,
   "id": "3de71ae2",
   "metadata": {},
   "outputs": [
    {
     "name": "stdout",
     "output_type": "stream",
     "text": [
      "** sum,  5456.0\n"
     ]
    }
   ],
   "source": [
    "print('** sum, ', numpy.sum(user_pie['ncpus']))"
   ]
  },
  {
   "cell_type": "code",
   "execution_count": 59,
   "id": "6b6ca614",
   "metadata": {},
   "outputs": [
    {
     "name": "stdout",
     "output_type": "stream",
     "text": [
      "** users:  {'axelwang', 'aguilars', 'ag4680', 'gegewen', 'jshs', 'lauraman', 'yxy', 'jhchung1', 'juwoo', 'cbaden', 'regirock', 'cooper96', 'ecj', 'mliu9', 'anovosel', 'haofu', 'wneely', 'pjwomble', 'riesr', 'scdobbs', 'myoder96', 'cfgould', 'earlew', 'alpatil'}\n",
      "**  [0. 0. 0. 0. 0. 0. 0. 0. 0. 0. 0. 0. 0. 0. 0. 0. 0. 0. 0. 0.]\n",
      "**  [4.09722222e-02 3.47222222e-03 4.16666667e-02 4.16666667e-02\n",
      " 4.16666667e-02 1.00000000e+00 2.41666667e+00 1.33333333e+00\n",
      " 1.33333333e+00 1.33333333e+00 3.00000000e+00 5.41666667e+00\n",
      " 2.08333333e-01 2.08333333e-01 2.08333333e-01 2.08333333e-01\n",
      " 2.08333333e-01 2.08333333e-01 2.08333333e-01 2.08333333e-01]\n",
      "**  0.5515046296296297\n"
     ]
    }
   ],
   "source": [
    "#SQ.set_squeue_data()\n",
    "print('** users: ', set(SQ['USER']))\n",
    "#\n",
    "print('** ', SQ['TIME'][0:20])\n",
    "print('** ', SQ['TIME_LEFT'][0:20])\n",
    "print('** ', hpc_lib.elapsed_time_2_day('13:14:10'))"
   ]
  },
  {
   "cell_type": "code",
   "execution_count": 60,
   "id": "911beb08",
   "metadata": {},
   "outputs": [
    {
     "ename": "KeyError",
     "evalue": "'time_left'",
     "output_type": "error",
     "traceback": [
      "\u001b[0;31m---------------------------------------------------------------------------\u001b[0m",
      "\u001b[0;31mKeyError\u001b[0m                                  Traceback (most recent call last)",
      "\u001b[0;32m<ipython-input-60-48fe1e3b3a73>\u001b[0m in \u001b[0;36m<module>\u001b[0;34m\u001b[0m\n\u001b[0;32m----> 1\u001b[0;31m \u001b[0mprint\u001b[0m\u001b[0;34m(\u001b[0m\u001b[0;34m'** '\u001b[0m\u001b[0;34m,\u001b[0m \u001b[0mSQ\u001b[0m\u001b[0;34m.\u001b[0m\u001b[0mformat_fields_dict\u001b[0m\u001b[0;34m[\u001b[0m\u001b[0;34m'time_left'\u001b[0m\u001b[0;34m]\u001b[0m\u001b[0;34m)\u001b[0m\u001b[0;34m\u001b[0m\u001b[0;34m\u001b[0m\u001b[0m\n\u001b[0m\u001b[1;32m      2\u001b[0m \u001b[0mprint\u001b[0m\u001b[0;34m(\u001b[0m\u001b[0;34m'** '\u001b[0m\u001b[0;34m,\u001b[0m \u001b[0mSQ\u001b[0m\u001b[0;34m.\u001b[0m\u001b[0mdtype\u001b[0m\u001b[0;34m)\u001b[0m\u001b[0;34m\u001b[0m\u001b[0;34m\u001b[0m\u001b[0m\n\u001b[1;32m      3\u001b[0m \u001b[0mSQ\u001b[0m\u001b[0;34m.\u001b[0m\u001b[0mget_active_cpus\u001b[0m\u001b[0;34m(\u001b[0m\u001b[0mdo_jobs\u001b[0m\u001b[0;34m=\u001b[0m\u001b[0;32mTrue\u001b[0m\u001b[0;34m,\u001b[0m \u001b[0mdo_cpus\u001b[0m\u001b[0;34m=\u001b[0m\u001b[0;32mTrue\u001b[0m\u001b[0;34m)\u001b[0m\u001b[0;34m\u001b[0m\u001b[0;34m\u001b[0m\u001b[0m\n",
      "\u001b[0;31mKeyError\u001b[0m: 'time_left'"
     ]
    }
   ],
   "source": [
    "print('** ', SQ.format_fields_dict['time_left'])\n",
    "print('** ', SQ.dtype)\n",
    "SQ.get_active_cpus(do_jobs=True, do_cpus=True)"
   ]
  },
  {
   "cell_type": "code",
   "execution_count": 61,
   "id": "5440d9a4",
   "metadata": {},
   "outputs": [
    {
     "name": "stdout",
     "output_type": "stream",
     "text": [
      "**  ['PENDING' 'PENDING' 'PENDING' 'PENDING' 'PENDING' 'PENDING' 'PENDING'\n",
      " 'PENDING' 'PENDING' 'PENDING' 'PENDING' 'PENDING' 'PENDING' 'PENDING'\n",
      " 'PENDING' 'PENDING' 'PENDING' 'PENDING' 'PENDING' 'PENDING']\n"
     ]
    }
   ],
   "source": [
    "print('** ', SQ['STATE'][0:20])\n",
    "ix = [s in ['RUNNING'] for s in SQ['STATE'] ]\n",
    "\n",
    "#print('** ', ix)\n"
   ]
  },
  {
   "cell_type": "code",
   "execution_count": 62,
   "id": "1812d415",
   "metadata": {},
   "outputs": [],
   "source": [
    "\n",
    "\n",
    "# squeue_output = subprocess.run(sinfo_str.split(), stdout=subprocess.PIPE).stdout.decode().split('\\n')\n",
    "# cols = squeue_output[0].split(squeue_delim)\n",
    "\n",
    "#\n",
    "#cols = squeue_output.readline()\n",
    "# cols = squeue_output[0]\n",
    "# data_dct = {cl:[] for cl in cols}\n",
    "#\n",
    "# for now, let's just make a dict with the columns... or use a f***ing PANDAs DF? most of the columns\n",
    "#. are text-like values, so a recarray or structured numpy array is probably not a good idea... though\n",
    "#  it's not that difficult to format columns...\n",
    "#data = []\n",
    "#for rw in squeue_output:\n",
    "#    data += [rw.split()]\n",
    "#\n",
    "#data_df = pandas.dataframe(data=data[1:], )\n",
    "#cols = squeue_output.readline()\n",
    "#data = squeue_output[1:]\n"
   ]
  },
  {
   "cell_type": "code",
   "execution_count": 63,
   "id": "3fb0cfb8",
   "metadata": {},
   "outputs": [
    {
     "ename": "NameError",
     "evalue": "name 'squeue_output' is not defined",
     "output_type": "error",
     "traceback": [
      "\u001b[0;31m---------------------------------------------------------------------------\u001b[0m",
      "\u001b[0;31mNameError\u001b[0m                                 Traceback (most recent call last)",
      "\u001b[0;32m<ipython-input-63-10dade8f143c>\u001b[0m in \u001b[0;36m<module>\u001b[0;34m\u001b[0m\n\u001b[0;32m----> 1\u001b[0;31m \u001b[0mprint\u001b[0m\u001b[0;34m(\u001b[0m\u001b[0;34m'*** '\u001b[0m\u001b[0;34m,\u001b[0m \u001b[0msqueue_output\u001b[0m\u001b[0;34m[\u001b[0m\u001b[0;36m0\u001b[0m\u001b[0;34m]\u001b[0m\u001b[0;34m.\u001b[0m\u001b[0msplit\u001b[0m\u001b[0;34m(\u001b[0m\u001b[0msqueue_delim\u001b[0m\u001b[0;34m)\u001b[0m\u001b[0;34m,\u001b[0m \u001b[0;34m' ** '\u001b[0m\u001b[0;34m,\u001b[0m \u001b[0mlen\u001b[0m\u001b[0;34m(\u001b[0m\u001b[0msqueue_output\u001b[0m\u001b[0;34m[\u001b[0m\u001b[0;36m0\u001b[0m\u001b[0;34m]\u001b[0m\u001b[0;34m.\u001b[0m\u001b[0msplit\u001b[0m\u001b[0;34m(\u001b[0m\u001b[0msqueue_delim\u001b[0m\u001b[0;34m)\u001b[0m\u001b[0;34m)\u001b[0m\u001b[0;34m)\u001b[0m\u001b[0;34m\u001b[0m\u001b[0;34m\u001b[0m\u001b[0m\n\u001b[0m\u001b[1;32m      2\u001b[0m \u001b[0mprint\u001b[0m\u001b[0;34m(\u001b[0m\u001b[0;34m'*** '\u001b[0m\u001b[0;34m,\u001b[0m \u001b[0msqueue_output\u001b[0m\u001b[0;34m[\u001b[0m\u001b[0;36m1\u001b[0m\u001b[0;34m]\u001b[0m\u001b[0;34m.\u001b[0m\u001b[0msplit\u001b[0m\u001b[0;34m(\u001b[0m\u001b[0msqueue_delim\u001b[0m\u001b[0;34m)\u001b[0m\u001b[0;34m,\u001b[0m \u001b[0;34m' ** '\u001b[0m\u001b[0;34m,\u001b[0m \u001b[0mlen\u001b[0m\u001b[0;34m(\u001b[0m\u001b[0msqueue_output\u001b[0m\u001b[0;34m[\u001b[0m\u001b[0;36m1\u001b[0m\u001b[0;34m]\u001b[0m\u001b[0;34m.\u001b[0m\u001b[0msplit\u001b[0m\u001b[0;34m(\u001b[0m\u001b[0msqueue_delim\u001b[0m\u001b[0;34m)\u001b[0m\u001b[0;34m)\u001b[0m\u001b[0;34m)\u001b[0m\u001b[0;34m\u001b[0m\u001b[0;34m\u001b[0m\u001b[0m\n",
      "\u001b[0;31mNameError\u001b[0m: name 'squeue_output' is not defined"
     ]
    }
   ],
   "source": [
    "print('*** ', squeue_output[0].split(squeue_delim), ' ** ', len(squeue_output[0].split(squeue_delim)))\n",
    "print('*** ', squeue_output[1].split(squeue_delim), ' ** ', len(squeue_output[1].split(squeue_delim)))"
   ]
  },
  {
   "cell_type": "code",
   "execution_count": 64,
   "id": "0d3078ad",
   "metadata": {},
   "outputs": [
    {
     "ename": "NameError",
     "evalue": "name 'squeue_output' is not defined",
     "output_type": "error",
     "traceback": [
      "\u001b[0;31m---------------------------------------------------------------------------\u001b[0m",
      "\u001b[0;31mNameError\u001b[0m                                 Traceback (most recent call last)",
      "\u001b[0;32m<ipython-input-64-8dc8f59363d3>\u001b[0m in \u001b[0;36m<module>\u001b[0;34m\u001b[0m\n\u001b[1;32m      2\u001b[0m                                   for x, cl in zip(rw.split(squeue_delim),\n\u001b[1;32m      3\u001b[0m                                 squeue_fields['--Format']) ]\n\u001b[0;32m----> 4\u001b[0;31m                                  for rw in squeue_output[1:]], columns=squeue_output[0].lower().split(squeue_delim))\n\u001b[0m",
      "\u001b[0;31mNameError\u001b[0m: name 'squeue_output' is not defined"
     ]
    }
   ],
   "source": [
    "sq_data = pandas.DataFrame(data=[[format_fields_dict.get(cl.lower(),str)(x) \n",
    "                                  for x, cl in zip(rw.split(squeue_delim),\n",
    "                                squeue_fields['--Format']) ]\n",
    "                                 for rw in squeue_output[1:]], columns=squeue_output[0].lower().split(squeue_delim))"
   ]
  },
  {
   "cell_type": "code",
   "execution_count": 65,
   "id": "52f50e64",
   "metadata": {},
   "outputs": [
    {
     "ename": "NameError",
     "evalue": "name 'sq_data' is not defined",
     "output_type": "error",
     "traceback": [
      "\u001b[0;31m---------------------------------------------------------------------------\u001b[0m",
      "\u001b[0;31mNameError\u001b[0m                                 Traceback (most recent call last)",
      "\u001b[0;32m<ipython-input-65-595fb2994885>\u001b[0m in \u001b[0;36m<module>\u001b[0;34m\u001b[0m\n\u001b[0;32m----> 1\u001b[0;31m \u001b[0mprint\u001b[0m\u001b[0;34m(\u001b[0m\u001b[0;34m'** '\u001b[0m\u001b[0;34m,\u001b[0m \u001b[0msq_data\u001b[0m\u001b[0;34m.\u001b[0m\u001b[0mdtypes\u001b[0m\u001b[0;34m)\u001b[0m\u001b[0;34m\u001b[0m\u001b[0;34m\u001b[0m\u001b[0m\n\u001b[0m\u001b[1;32m      2\u001b[0m \u001b[0;31m#\u001b[0m\u001b[0;34m\u001b[0m\u001b[0;34m\u001b[0m\u001b[0;34m\u001b[0m\u001b[0m\n\u001b[1;32m      3\u001b[0m \u001b[0mary_sq_data\u001b[0m \u001b[0;34m=\u001b[0m \u001b[0msq_data\u001b[0m\u001b[0;34m.\u001b[0m\u001b[0mto_records\u001b[0m\u001b[0;34m(\u001b[0m\u001b[0;34m)\u001b[0m\u001b[0;34m\u001b[0m\u001b[0;34m\u001b[0m\u001b[0m\n\u001b[1;32m      4\u001b[0m \u001b[0mprint\u001b[0m\u001b[0;34m(\u001b[0m\u001b[0;34m'** '\u001b[0m\u001b[0;34m,\u001b[0m \u001b[0mary_sq_data\u001b[0m\u001b[0;34m.\u001b[0m\u001b[0mdtype\u001b[0m\u001b[0;34m)\u001b[0m\u001b[0;34m\u001b[0m\u001b[0;34m\u001b[0m\u001b[0m\n",
      "\u001b[0;31mNameError\u001b[0m: name 'sq_data' is not defined"
     ]
    }
   ],
   "source": [
    "print('** ', sq_data.dtypes)\n",
    "#\n",
    "ary_sq_data = sq_data.to_records()\n",
    "print('** ', ary_sq_data.dtype)"
   ]
  },
  {
   "cell_type": "code",
   "execution_count": 66,
   "id": "cee2615f",
   "metadata": {},
   "outputs": [
    {
     "ename": "NameError",
     "evalue": "name 'squeue_output' is not defined",
     "output_type": "error",
     "traceback": [
      "\u001b[0;31m---------------------------------------------------------------------------\u001b[0m",
      "\u001b[0;31mNameError\u001b[0m                                 Traceback (most recent call last)",
      "\u001b[0;32m<ipython-input-66-c5207f24702e>\u001b[0m in \u001b[0;36m<module>\u001b[0;34m\u001b[0m\n\u001b[0;32m----> 1\u001b[0;31m \u001b[0;32mfor\u001b[0m \u001b[0mrw\u001b[0m \u001b[0;32min\u001b[0m \u001b[0msqueue_output\u001b[0m\u001b[0;34m[\u001b[0m\u001b[0;36m0\u001b[0m\u001b[0;34m:\u001b[0m\u001b[0;36m10\u001b[0m\u001b[0;34m]\u001b[0m\u001b[0;34m:\u001b[0m\u001b[0;34m\u001b[0m\u001b[0;34m\u001b[0m\u001b[0m\n\u001b[0m\u001b[1;32m      2\u001b[0m     \u001b[0mprint\u001b[0m\u001b[0;34m(\u001b[0m\u001b[0;34m'** '\u001b[0m\u001b[0;34m,\u001b[0m \u001b[0mrw\u001b[0m\u001b[0;34m.\u001b[0m\u001b[0msplit\u001b[0m\u001b[0;34m(\u001b[0m\u001b[0;34m)\u001b[0m\u001b[0;34m)\u001b[0m\u001b[0;34m\u001b[0m\u001b[0;34m\u001b[0m\u001b[0m\n",
      "\u001b[0;31mNameError\u001b[0m: name 'squeue_output' is not defined"
     ]
    }
   ],
   "source": [
    "for rw in squeue_output[0:10]:\n",
    "    print('** ', rw.split())"
   ]
  },
  {
   "cell_type": "code",
   "execution_count": null,
   "id": "748b9c35",
   "metadata": {},
   "outputs": [],
   "source": []
  }
 ],
 "metadata": {
  "kernelspec": {
   "display_name": "Python 3",
   "language": "python",
   "name": "python3"
  },
  "language_info": {
   "codemirror_mode": {
    "name": "ipython",
    "version": 3
   },
   "file_extension": ".py",
   "mimetype": "text/x-python",
   "name": "python",
   "nbconvert_exporter": "python",
   "pygments_lexer": "ipython3",
   "version": "3.8.8"
  }
 },
 "nbformat": 4,
 "nbformat_minor": 5
}
