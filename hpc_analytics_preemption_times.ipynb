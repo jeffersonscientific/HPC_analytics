{
 "cells": [
  {
   "cell_type": "code",
   "execution_count": null,
   "metadata": {},
   "outputs": [],
   "source": [
    "%load_ext autoreload\n",
    "%autoreload 2\n",
    "%matplotlib inline"
   ]
  },
  {
   "cell_type": "code",
   "execution_count": null,
   "metadata": {},
   "outputs": [],
   "source": [
    "import numpy\n",
    "import scipy\n",
    "import matplotlib\n",
    "import matplotlib.dates as mpd\n",
    "import pylab as plt\n",
    "import datetime as dtm\n",
    "import pytz\n",
    "import multiprocessing as mpp\n",
    "import pickle\n",
    "import os\n",
    "import json\n",
    "import subprocess\n",
    "#\n",
    "# TODO: phase out unreferenced hpc_lib calls...\n",
    "import hpc_lib\n",
    "#\n",
    "# system_name='mazama'\n",
    "system_name='SERC'\n",
    "groups_fname=None\n",
    "\n",
    "#groups_fname='mazama_groups.json'\n",
    "#\n",
    "#data_file_name='data/sacct_mazama_out_2.out'\n",
    "#data_file_name = 'data/mazama_usage_20200506_tool8.out'\n",
    "#data_file_name = 'data/sacct_mazama_out_20200506a.out'\n",
    "#data_file_name = 'data/sacct_serc_20200622.out'\n",
    "#data_file_name = 'data/sacct_serc_20200622.out'\n",
    "data_file_name = 'data/sacct_owners_out_3500489.out'\n",
    "#\n",
    "# as small(ish) test data set:\n",
    "#data_file_name = 'data/sacct_mazama_20200701_20200718.out'\n",
    "\n",
    "#data_file_name = 'data/serc_sacct_2020_06_29.out'\n",
    "\n",
    "output_path = 'output/{}_HPC_analytics'.format(system_name)\n",
    "#output_path = 'output/HPC_analytics'"
   ]
  },
  {
   "cell_type": "code",
   "execution_count": null,
   "metadata": {},
   "outputs": [],
   "source": []
  },
  {
   "cell_type": "code",
   "execution_count": null,
   "metadata": {},
   "outputs": [],
   "source": [
    "# #ls data\n",
    "# with open(data_file_name, 'r') as fin:\n",
    "#     with open('data/test_data.out', 'w') as fout:\n",
    "#         for k,rw in enumerate(fin):\n",
    "#             fout.write(rw)\n",
    "#             if k>=1000:\n",
    "#                 break\n",
    "# #\n",
    "#data_file_name='data/test_data.out'"
   ]
  },
  {
   "cell_type": "code",
   "execution_count": 4,
   "metadata": {
    "scrolled": false
   },
   "outputs": [],
   "source": [
    "load_pickle = True\n",
    "dump_pickle = True\n",
    "max_rows = None\n",
    "#max_rows = 1000\n",
    "n_cpu=4\n",
    "pkl_name = \"{}.pkl\".format(os.path.splitext(data_file_name)[0])\n",
    "#\n",
    "if load_pickle:\n",
    "    with open(pkl_name, 'rb') as fin:\n",
    "        sacct_mazama=pickle.load(fin)\n",
    "    #\n",
    "else:\n",
    "    sacct_mazama = hpc_lib.SACCT_data_handler(data_file_name=data_file_name,\n",
    "                    max_rows=max_rows, n_cpu=n_cpu, verbose=1)\n",
    "    #\n",
    "    if dump_pickle:\n",
    "        with open(pkl_name, 'wb') as fout:\n",
    "                #out_pkl = pickle.dump(sacct_demo.jobs_summary, fout)\n",
    "                out_pkl = pickle.dump(sacct_mazama, fout)\n",
    "#"
   ]
  },
  {
   "cell_type": "code",
   "execution_count": 5,
   "metadata": {},
   "outputs": [
    {
     "name": "stdout",
     "output_type": "stream",
     "text": [
      "States:  ['PREEMPTED', 'PENDING', 'NODE_FAIL', 'COMPLETED', 'REQUEUED', 'RUNNING', 'OUT_OF_MEMORY', 'TIMEOUT', 'FAILED']\n",
      "*** preempted: 80966 vs 3920991, a/b=0.020649371549182338\n"
     ]
    }
   ],
   "source": [
    "print(\"States: \", [s for s in set(sacct_mazama.jobs_summary['State']) if not \"CANCELLED\" in s] )\n",
    "#\n",
    "#dT = .5\n",
    "ix_pr  = sacct_mazama.jobs_summary['State']=='PREEMPTED'\n",
    "ix_npr = sacct_mazama.jobs_summary['State']!='PREEMPTED'\n",
    "ix_cpl = sacct_mazama.jobs_summary['State']=='COMPLETED'\n",
    "#\n",
    "#\n",
    "N_pr  = len(sacct_mazama.jobs_summary[ix_pr])\n",
    "N_npr = len(sacct_mazama.jobs_summary[ix_npr])\n",
    "print('*** preempted: {} vs {}, a/b={}'.format(N_pr, N_npr, N_pr/N_npr))\n"
   ]
  },
  {
   "cell_type": "code",
   "execution_count": 6,
   "metadata": {},
   "outputs": [
    {
     "name": "stdout",
     "output_type": "stream",
     "text": [
      "**  ('index', 'User', 'Group', 'GID', 'JobName', 'JobID', 'JobIDRaw', 'Partition', 'State', 'Timelimit', 'NCPUS', 'NNodes', 'Submit', 'Eligible', 'Start', 'End', 'Elapsed', 'SystemCPU', 'UserCPU', 'TotalCPU', 'NTasks', 'CPUTimeRAW', 'Suspended', 'ReqGRES', 'AllocGRES', 'ReqTRES', 'AllocTRES', 'JobID_parent')\n",
      "*** len:  80966\n",
      "[('1002304', 1, 1, 737567.485     , 737567.49084491, 737567.50112269, 0.01021991)\n",
      " ('1003246_420', 1, 1, 737567.50872685, 737567.51943287, 737567.52925926, 0.00976852)\n",
      " ('1003246_421', 1, 1, 737567.50872685, 737567.51943287, 737567.52943287, 0.0099537 )\n",
      " ('1003246_426', 1, 1, 737567.50872685, 737567.51943287, 737567.52365741, 0.00418981)\n",
      " ('1003246_427', 1, 1, 737567.50872685, 737567.51943287, 737567.52365741, 0.00418981)\n",
      " ('1003246_428', 1, 1, 737567.50872685, 737567.51943287, 737567.52365741, 0.00418981)\n",
      " ('1003246_429', 1, 1, 737567.50872685, 737567.51943287, 737567.52365741, 0.00418981)\n",
      " ('1003246_430', 1, 1, 737567.50872685, 737567.51943287, 737567.52365741, 0.00418981)\n",
      " ('1003246_705', 1, 1, 737567.50872685, 737567.52657407, 737567.53179398, 0.00513889)\n",
      " ('1003246_919', 1, 1, 737567.50872685, 737567.53251157, 737567.54042824, 0.00789352)]\n",
      "**  ('JobID', 'NCPUS', 'NNodes', 'Submit', 'Start', 'End', 'Elapsed')\n",
      "** len(completed):  3920991\n"
     ]
    }
   ],
   "source": [
    "print('** ', sacct_mazama.data.dtype.names)\n",
    "#print('** ', [s for s in set(sacct_mazama.data['State']) if 'PR' in s])\n",
    "#\n",
    "preempted = (sacct_mazama.jobs_summary[['JobID', 'NCPUS', 'NNodes', 'Submit', 'Start',\n",
    "                              'End', 'Elapsed']][ix_pr])\n",
    "preempted = preempted[numpy.argsort(preempted['JobID'])]\n",
    "#\n",
    "print('*** len: ', len(preempted))\n",
    "\n",
    "#jsp = sacct_mazama.\n",
    "\n",
    "#print('** ', preempted[numpy.argsort(preempted['JobID'])][0:10])\n",
    "#print('** ', preempted[0:10])\n",
    "#pr_working = preempted[['JobID', 'NCPUS', 'NNodes', 'Submit', 'Start',\n",
    "#                              'End', 'Elapsed']]\n",
    "#\n",
    "compl = sacct_mazama.jobs_summary[['JobID', 'NCPUS', 'NNodes', 'Submit', 'Start',\n",
    "                              'End', 'Elapsed']][ix_npr]\n",
    "\n",
    "#compl = sacct_mazama.jobs_summary[['JobID', 'NCPUS', 'NNodes', 'Submit', 'Start',\n",
    "#                              'End', 'Elapsed']][sacct_mazama.jobs_summary['State']!='PREEMPTED']\n",
    "\n",
    "print(preempted[0:10])\n",
    "print('** ', preempted.dtype.names)\n",
    "#\n",
    "print('** len(completed): ', len(compl))\n",
    "\n"
   ]
  },
  {
   "cell_type": "code",
   "execution_count": 33,
   "metadata": {
    "scrolled": false
   },
   "outputs": [
    {
     "name": "stdout",
     "output_type": "stream",
     "text": [
      "Preempted: t_90: 11.1631\n",
      "Preempted: P(1hr): 0.6155485018402787\n",
      "Completed: t_90: 6.03662986111111\n",
      "Completed: P(1hr): 0.755282784377725\n",
      "** N_completed: 3920991\n",
      "** N_pr: 80966\n",
      "** P(re):  0.020231601688873717\n",
      "***  49.278611111111104\n",
      "** **  (2, 49)\n",
      "*** ***\n",
      "[0.72825955 0.79778096 0.83275419 0.85155468 0.86856202 0.87917019\n",
      " 0.89008296 0.89557982 0.90150873 0.90610477 0.91158215 0.91503349\n",
      " 0.91864676 0.92064655 0.92249291 0.92434927 0.92626011 0.92784785\n",
      " 0.92924418 0.9307577 ]\n",
      "[0.74049893 0.81210984 0.8480686  0.86754626 0.88505986 0.89608708\n",
      " 0.90733468 0.9131384  0.91933068 0.92413188 0.92978567 0.93338169\n",
      " 0.93716388 0.9393041  0.9412854  0.94327895 0.94529098 0.94698492\n",
      " 0.94850669 0.95010418]\n"
     ]
    },
    {
     "data": {
      "image/png": "[encoded data removed]",
      "text/plain": [
       "<Figure size 1008x576 with 3 Axes>"
      ]
     },
     "metadata": {
      "needs_background": "light"
     },
     "output_type": "display_data"
    },
    {
     "data": {
      "image/png": "[encoded data removed]",
      "text/plain": [
       "<Figure size 864x288 with 1 Axes>"
      ]
     },
     "metadata": {
      "needs_background": "light"
     },
     "output_type": "display_data"
    }
   ],
   "source": [
    "fg = plt.figure(figsize=(14,8))\n",
    "ax1 = fg.add_subplot('221')\n",
    "ax2 = fg.add_subplot('222')\n",
    "ax3 = fg.add_subplot('212')\n",
    "#\n",
    "ax1.set_ylabel('Probability $P$', size=16)\n",
    "ax3.set_ylabel('Probability $P$', size=16)\n",
    "ax1.set_xlabel('Elapsed runtime $\\Delta t$', size=16)\n",
    "ax2.set_xlabel('Elapsed runtime $\\Delta t$', size=16)\n",
    "#\n",
    "hhs=[]\n",
    "\n",
    "for nm, dta,ax in [(\"Preempted\", preempted, ax1), (\"Completed\", compl, ax2)]:\n",
    "    hh = ax.hist(dta['Elapsed']*24., bins=200, cumulative=True,\n",
    "                  density=True, zorder=5, histtype='step')\n",
    "    hhs+=[hh]\n",
    "    #\n",
    "    y_90=.9*numpy.max(hh[0])\n",
    "    k_90=numpy.searchsorted(hh[0], y_90)\n",
    "    #x_90 = .5*(hh[1][k_90]+hh[1][k_90+1])\n",
    "    x_90 = numpy.mean(hh[1][k_90:k_90+2])\n",
    "    ax.fill_between([0., x_90], [0.,0.], y_90, color='m', alpha=.2, zorder=11)\n",
    "    #\n",
    "    # 1 hour:\n",
    "    dt=1.\n",
    "    k1h = numpy.searchsorted(hh[1], dt)\n",
    "    y1h = numpy.mean(hh[0][k1h-2:k1h])\n",
    "    ax.fill_between([0., 1.], 0., y1h, color='m', alpha=.25, zorder=10 )\n",
    "\n",
    "    ax.grid()\n",
    "    ax.set_title(\"{}\".format(nm))\n",
    "    #\n",
    "    print('{}: t_90: {}'.format(nm, x_90))\n",
    "    print('{}: P(1hr): {}'.format(nm, y1h/numpy.max(hh[0])))\n",
    "    #\n",
    "print('** N_completed: {}'.format(len(compl)))\n",
    "print('** N_pr: {}'.format(len(preempted)))\n",
    "#\n",
    "print('** P(re): ', len(preempted)/(len(preempted)+len(compl)))\n",
    "#\n",
    "# TODO: total probability distribution of preemption. so basically we want to add the cumulative histograms\n",
    "#. of preempted and completed.To do that, we have to interpolate the two sets on to the same x-axis.\n",
    "# a quick estimator is to just multiply by P(preempt).\n",
    "#ax3.plot()\n",
    "#print('** ', type(hh[0]))\n",
    "max_bin = numpy.max([numpy.max(preempted['Elapsed']), numpy.max(compl['Elapsed'])])*24\n",
    "print('*** ', max_bin)\n",
    "bins = numpy.arange(0., max_bin,1.)\n",
    "hhh = ax3.hist([compl['Elapsed']*24., preempted['Elapsed']*24.], bins=bins,\n",
    "              histtype='barstacked', density=True, log=False, cumulative=True,\n",
    "               bottom=0.0*numpy.ones(-1+len(bins)))\n",
    "ax3.grid()\n",
    "ax3.set_title('Preempted vs Not-preempted')\n",
    "#\n",
    "print('** ** ', numpy.shape(hhh[0]))\n",
    "# note: if we're using the \"barstacked\" histogram, the second series is S2 = s1+s2.\n",
    "#\n",
    "P_pr=1.- (hhh[0][0]/hhh[0][1])\n",
    "#\n",
    "fg2=plt.figure(figsize=(12,4))\n",
    "ax4 = fg2.add_subplot('111')\n",
    "ax4.set_title('Preemption probability', size=16)\n",
    "ax4.set_ylabel('Probability $P$', size=16)\n",
    "ax4.set_xlabel('Elapsed runtime $\\Delta t$', size=16)\n",
    "\n",
    "#ax4a = ax4.twinx()\n",
    "#\n",
    "ax4.plot(hhh[1][1:], P_pr, ls='-', marker='.', label='$NP_k/N_k$')\n",
    "# ax4.plot(bins[1:], hhh[0][0])\n",
    "# ax4a.plot(bins[1:], hhh[0][1])\n",
    "ax4.grid()\n",
    "#\n",
    "# let's just build this cum-prob manually:\n",
    "dt_Np = numpy.zeros( (len(sacct_mazama.jobs_summary),2))\n",
    "#for t,s in sacct_mazama.jobs_summary[numpy.argsort(sacct_mazama.jobs_summary['Elapsed'])]:\n",
    "#    it s=='PREEMPTED'\n",
    "\n",
    "ix_s = numpy.argsort(sacct_mazama.jobs_summary['Elapsed'])\n",
    "dt_Np[:,0] = sacct_mazama.jobs_summary['Elapsed'][ix_s]\n",
    "dt_Np[:,1] = numpy.cumsum((sacct_mazama.jobs_summary['State'][ix_s]=='PREEMPTED').astype(int))\n",
    "#\n",
    "# /float(len(dt_Np))\n",
    "ax4.plot(dt_Np[:,0]*24., dt_Np[:,1]/float(len(dt_Np)), ls='--', lw=2., label='$P(<\\Delta_t)$')\n",
    "#\n",
    "# the hist and just counting cumulative measures match, if they're not normalized. just using the top\n",
    "# of the stacked histogram doesnot seem to work quite right... because they are slightly different measures\n",
    "# of the probability of PreEmption. gotta think about that a bit...\n",
    "#hh = ax4.hist(preempted['Elapsed']*24., bins=100, cumulative=True,\n",
    "#                  density=False, zorder=5, histtype='step')\n",
    "ax4.legend(loc=0)\n",
    "#\n",
    "print('*** ***')\n",
    "print(hhh[0][0][0:20])\n",
    "print(hhh[0][1][0:20])"
   ]
  }
 ],
 "metadata": {
  "kernelspec": {
   "display_name": "Python 3",
   "language": "python",
   "name": "python3"
  },
  "language_info": {
   "codemirror_mode": {
    "name": "ipython",
    "version": 3
   },
   "file_extension": ".py",
   "mimetype": "text/x-python",
   "name": "python",
   "nbconvert_exporter": "python",
   "pygments_lexer": "ipython3",
   "version": "3.6.8"
  }
 },
 "nbformat": 4,
 "nbformat_minor": 2
}
