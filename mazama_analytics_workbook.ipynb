{
 "cells": [
  {
   "cell_type": "code",
   "execution_count": 5,
   "metadata": {},
   "outputs": [
    {
     "name": "stdout",
     "output_type": "stream",
     "text": [
      "The autoreload extension is already loaded. To reload it, use:\n",
      "  %reload_ext autoreload\n"
     ]
    }
   ],
   "source": [
    "%load_ext autoreload\n",
    "%autoreload 2\n",
    "%matplotlib inline\n"
   ]
  },
  {
   "cell_type": "code",
   "execution_count": 6,
   "metadata": {},
   "outputs": [
    {
     "name": "stdout",
     "output_type": "stream",
     "text": [
      "*** Python Version:  3.7.6\n",
      "*** data_File_name: data/sacct_mazama_20200820.out\n",
      "*** output path: output/mazama_HPC_analytics\n",
      "*** system_name: mazama\n"
     ]
    }
   ],
   "source": [
    "import numpy\n",
    "import scipy\n",
    "import matplotlib\n",
    "import matplotlib.dates as mpd\n",
    "import pylab as plt\n",
    "import datetime as dtm\n",
    "import pytz\n",
    "import multiprocessing as mpp\n",
    "import pickle\n",
    "import os\n",
    "import json\n",
    "import subprocess\n",
    "#\n",
    "import numba\n",
    "from numba.errors import NumbaDeprecationWarning, NumbaPendingDeprecationWarning\n",
    "import warnings\n",
    "warnings.simplefilter('ignore', category=Warning)\n",
    "warnings.simplefilter('ignore', category=NumbaDeprecationWarning)\n",
    "warnings.simplefilter('ignore', category=NumbaPendingDeprecationWarning)\n",
    "#\n",
    "# TODO: phase out unreferenced hpc_lib calls...\n",
    "import hpc_lib\n",
    "#\n",
    "import platform\n",
    "print('*** Python Version: ', platform.python_version())\n",
    "#\n",
    "system_name='mazama'\n",
    "# system_name='SERC'\n",
    "groups_fname=None\n",
    "\n",
    "groups_fname='mazama_groups.json'\n",
    "#\n",
    "#data_file_name='data/sacct_mazama_out_2.out'\n",
    "#data_file_name = 'data/mazama_usage_20200506_tool8.out'\n",
    "#data_file_name = 'data/sacct_mazama_out_20200506a.out'\n",
    "\n",
    "#data_file_name = 'data/sacct_owners_out_3500489.out'\n",
    "\n",
    "#data_file_name = 'data/sacct_serc_20200622.out'\n",
    "#data_file_name = 'data/sacct_serc_20200724.out'\n",
    "#data_file_name = 'data/sacct_mazama_0623_tool8.out'\n",
    "data_file_name = 'data/sacct_mazama_20200820.out'\n",
    "\n",
    "output_path = 'output/{}_HPC_analytics'.format(system_name)\n",
    "#output_path = 'output/HPC_analytics'\n",
    "#\n",
    "do_test_run = False\n",
    "if do_test_run:\n",
    "    # make a test set:\n",
    "    k_max=10000\n",
    "    with open(data_file_name, 'r') as fin:\n",
    "        #\n",
    "        nm, ext = os.path.splitext(data_file_name)\n",
    "        data_file_test_name = '{}_test{}'.format(nm,ext)\n",
    "        #\n",
    "        print('** * {}'.format(data_file_test_name))\n",
    "        #\n",
    "        with open(data_file_test_name, 'w') as fout:\n",
    "            for k, rw in enumerate(fin):\n",
    "                fout.write(rw)\n",
    "                if k >= k_max:\n",
    "                    break\n",
    "                #\n",
    "            #\n",
    "        #\n",
    "    data_file_name = data_file_test_name\n",
    "    system_name='{}_test'.format(system_name)\n",
    "    output_path = 'output/{}_HPC_analytics'.format(system_name)\n",
    "    #\n",
    "\n",
    "print('*** data_File_name: {}'.format(data_file_name))\n",
    "print('*** output path: {}'.format(output_path))\n",
    "print('*** system_name: {}'.format(system_name))"
   ]
  },
  {
   "cell_type": "code",
   "execution_count": 7,
   "metadata": {
    "scrolled": false
   },
   "outputs": [
    {
     "name": "stdout",
     "output_type": "stream",
     "text": [
      "pre-processing completed...\n"
     ]
    }
   ],
   "source": [
    "load_pickle = True\n",
    "dump_pickle = True\n",
    "max_rows = None\n",
    "#max_rows = 1000\n",
    "n_cpu=6\n",
    "pkl_name = \"{}.pkl\".format(os.path.splitext(data_file_name)[0])\n",
    "#\n",
    "if load_pickle:\n",
    "    with open(pkl_name, 'rb') as fin:\n",
    "        sacct_mazama=pickle.load(fin)\n",
    "    #\n",
    "else:\n",
    "    sacct_mazama = hpc_lib.SACCT_data_handler(data_file_name=data_file_name,\n",
    "                    max_rows=max_rows, n_cpu=n_cpu, verbose=0, chunk_size=100)\n",
    "    #sacct_mazama.weekly_hours = sacct_mazama.get_cpu_hours(bin_size=7, n_points=1000,\n",
    "    #                                       n_cpu=n_cpu)\n",
    "    #sacct_mazama.weekly_hours = sacct_mazama.get_cpu_hours(bin_size=7, n_points=1000,\n",
    "    #                                       n_cpu=n_cpu)\n",
    "#     weeklies_spp = sacct_mazama.get_cpu_hours(bin_size=7, n_points=1000,\n",
    "#                                            n_cpu=1)\n",
    "#     #\n",
    "#     # check spp vs mpp versions: we get a finite byte numerical error, but otherwise looks ok  (or order 10^-12)\n",
    "#     ix_r = numpy.random.randint(len(sacct_mazama.weekly_hours), size=100)\n",
    "#     print('*** ', sacct_mazama.weekly_hours['cpu_hours'][ix_r])\n",
    "#     print('*** ', weeklies_spp['cpu_hours'][ix_r])\n",
    "#     #\n",
    "#     # NOTE: we get().all()==False because of integer mismatches in the sequences.\n",
    "#     print('*** .all(): ', (sacct_mazama.weekly_hours['cpu_hours'][ix_r]==weeklies_spp['cpu_hours'][ix_r]).all() )\n",
    "#     print('*** cov: ', 2.*numpy.sqrt(numpy.sum(((sacct_mazama.weekly_hours['cpu_hours']-weeklies_spp['cpu_hours'])**2.) ))/\n",
    "#           numpy.sum(sacct_mazama.weekly_hours['cpu_hours']+weeklies_spp['cpu_hours']) )\n",
    "    #\n",
    "    if dump_pickle:\n",
    "        with open(pkl_name, 'wb') as fout:\n",
    "                #out_pkl = pickle.dump(sacct_demo.jobs_summary, fout)\n",
    "                out_pkl = pickle.dump(sacct_mazama, fout)\n",
    "#\n",
    "print(\"pre-processing completed...\")"
   ]
  },
  {
   "cell_type": "code",
   "execution_count": 8,
   "metadata": {},
   "outputs": [
    {
     "ename": "AttributeError",
     "evalue": "module 'hpc_lib' has no attribute 'SACCT_groups_analyzer_report_handler'",
     "output_type": "error",
     "traceback": [
      "\u001b[0;31m---------------------------------------------------------------------------\u001b[0m",
      "\u001b[0;31mAttributeError\u001b[0m                            Traceback (most recent call last)",
      "\u001b[0;32m<ipython-input-8-7f0a381f4573>\u001b[0m in \u001b[0;36m<module>\u001b[0;34m\u001b[0m\n\u001b[0;32m----> 1\u001b[0;31m SGRM = hpc_lib.SACCT_groups_analyzer_report_handler(Short_title='Mazama Analytics', \n\u001b[0m\u001b[1;32m      2\u001b[0m                                            \u001b[0mFull_title\u001b[0m\u001b[0;34m=\u001b[0m\u001b[0;34m'Mazama HPC Analytics by User Group'\u001b[0m\u001b[0;34m,\u001b[0m\u001b[0;34m\u001b[0m\u001b[0;34m\u001b[0m\u001b[0m\n\u001b[1;32m      3\u001b[0m                                           \u001b[0mout_path\u001b[0m\u001b[0;34m=\u001b[0m\u001b[0;34m'output/HPC_analytics_mazama_20200820'\u001b[0m\u001b[0;34m,\u001b[0m\u001b[0;34m\u001b[0m\u001b[0;34m\u001b[0m\u001b[0m\n\u001b[1;32m      4\u001b[0m                                           \u001b[0mtex_filename\u001b[0m\u001b[0;34m=\u001b[0m\u001b[0;34m'Mazama_analytics_20200820.tex'\u001b[0m\u001b[0;34m,\u001b[0m \u001b[0mgroups\u001b[0m\u001b[0;34m=\u001b[0m\u001b[0mgroups\u001b[0m\u001b[0;34m,\u001b[0m\u001b[0;34m\u001b[0m\u001b[0;34m\u001b[0m\u001b[0m\n\u001b[1;32m      5\u001b[0m                                           add_all_groups=True, SACCT_obj=sacct_mazama)\n",
      "\u001b[0;31mAttributeError\u001b[0m: module 'hpc_lib' has no attribute 'SACCT_groups_analyzer_report_handler'"
     ]
    }
   ],
   "source": [
    "SGRM = hpc_lib.SACCT_groups_analyzer_report_handler(Short_title='Mazama Analytics', \n",
    "                                           Full_title='Mazama HPC Analytics by User Group',\n",
    "                                          out_path='output/HPC_analytics_mazama_20200820',\n",
    "                                          tex_filename='Mazama_analytics_20200820.tex', groups=groups,\n",
    "                                          add_all_groups=True, SACCT_obj=sacct_mazama)"
   ]
  },
  {
   "cell_type": "code",
   "execution_count": null,
   "metadata": {},
   "outputs": [],
   "source": [
    "# print('** ', len([s for s in sacct_mazama.jobs_summary['User'] if 'wen' in s ]))\n",
    "#\n",
    "for rw in sacct_mazama.jobs_summary:\n",
    "    if rw['User']=='gegewen':\n",
    "        print('** ', rw)"
   ]
  },
  {
   "cell_type": "code",
   "execution_count": null,
   "metadata": {
    "scrolled": false
   },
   "outputs": [],
   "source": [
    "# print('*** my_cpu_: ', my_cpu_usage[0:20]==sacct_mazama.cpu_usage[0:20])\n",
    "# print('*** my_cpu2: ', (my_cpu_usage==sacct_mazama.cpu_usage).all())"
   ]
  },
  {
   "cell_type": "code",
   "execution_count": null,
   "metadata": {},
   "outputs": [],
   "source": [
    "print('** ', sacct_mazama.cpu_usage[500:510])\n",
    "fg = plt.figure(figsize=(12,8))\n",
    "ax = plt.gca()\n",
    "ax.plot(sacct_mazama.cpu_usage['time'], sacct_mazama.cpu_usage['N_cpu'], ls='-')"
   ]
  },
  {
   "cell_type": "code",
   "execution_count": null,
   "metadata": {},
   "outputs": [],
   "source": [
    "max_submit, max_start = [mpd.num2date(numpy.nanmax(sacct_mazama.jobs_summary[cl])) for cl in ['Start', 'Submit'] ]\n",
    "print('*** max_submit: {}, max_start: {}'.format(*[mpd.num2date(numpy.nanmax(sacct_mazama.jobs_summary[cl])) for cl in ['Start', 'Submit'] ]))"
   ]
  },
  {
   "cell_type": "code",
   "execution_count": null,
   "metadata": {},
   "outputs": [],
   "source": [
    "#\n",
    "#cpu_usage = sacct_mazama.active_jobs_cpu()\n",
    "cpu_usage = sacct_mazama.cpu_usage\n",
    "#\n",
    "bin_size=7\n",
    "cpu_weekly = sacct_mazama.active_jobs_cpu(bin_size=bin_size, t_min=None)\n"
   ]
  },
  {
   "cell_type": "code",
   "execution_count": null,
   "metadata": {},
   "outputs": [],
   "source": [
    "fg = plt.figure(figsize=(10,10))\n",
    "ax1 = fg.add_subplot('211')\n",
    "ax2 = fg.add_subplot('212', sharex=ax1)\n",
    "for ax in (ax1, ax2):\n",
    "    ax.grid()\n",
    "#\n",
    "ax1.plot(cpu_usage['time'], cpu_usage['N_jobs'], ls='-', lw=2., marker='')\n",
    "ax1.plot(cpu_weekly['time'], cpu_weekly['N_jobs'], ls='-', lw=2., marker='.')\n",
    "#\n",
    "ax2.plot(cpu_usage['time'], cpu_usage['N_cpu'], ls='-', lw=2., marker='')\n",
    "ax2.plot(cpu_weekly['time'], cpu_weekly['N_cpu'], ls='-', lw=2., marker='.')\n",
    "#\n",
    "\n",
    "ax1.set_title('Jobs', size=16)\n",
    "ax1.set_ylabel('$N_{jobs}$', size=16)\n",
    "#\n",
    "ax2.set_title('CPUs', size=16)\n",
    "ax2.set_ylabel('$N_{CPU}$', size=16)\n",
    "\n",
    "fg.canvas.draw()\n",
    "#\n",
    "# set ax3 labels to dates:\n",
    "# now format the datestrings...\n",
    "lbls = [hpc_lib.simple_date_string(mpd.num2date(float(s.get_text())) ) for s in ax1.get_xticklabels()]\n",
    "#print('*** ', lbls)\n",
    "#\n",
    "ax2.set_xticklabels(lbls)\n",
    "\n"
   ]
  },
  {
   "cell_type": "code",
   "execution_count": null,
   "metadata": {},
   "outputs": [],
   "source": [
    "print('*** ', sacct_mazama.jobs_summary['End'].shape)\n",
    "print('*** ', (sacct_mazama.jobs_summary[None])['End'].shape)\n",
    "print('*** ', (sacct_mazama.jobs_summary[(numpy.random.random(len(sacct_mazama.jobs_summary))>.8)])['End'].shape)"
   ]
  },
  {
   "cell_type": "code",
   "execution_count": null,
   "metadata": {},
   "outputs": [],
   "source": [
    "# #my_ix = numpy.where(numpy.random.random(len(sacct_mazama.jobs_summary))>.75)\n",
    "# my_weekly_hours = sacct_mazama.get_cpu_hours(bin_size=7, n_points=1000, IX=None)\n",
    "# fg = plt.figure(figsize=(10,8))\n",
    "# ax1 = plt.gca()\n",
    "# ax1.grid()\n",
    "# #\n",
    "# ax1.plot(my_weekly_hours['time'], my_weekly_hours['cpu_hours']/7., ls='-', marker='.', label='bins=7 day', zorder=11)\n",
    "# #ax1.plot(daily_hours['time'], daily_hours['cpu_hours'], ls='-', marker='.', label='bins=1 day', zorder=5)\n",
    "\n",
    "\n",
    "# #\n",
    "# fg.canvas.draw()\n",
    "# #\n",
    "# # set ax3 labels to dates:\n",
    "# # now format the datestrings...\n",
    "# lbls = [hpc_lib.simple_date_string(mpd.num2date(float(s.get_text())) ) for s in ax1.get_xticklabels()]\n",
    "# #print('*** ', lbls)\n",
    "# #\n",
    "# ax1.set_xticklabels(lbls)\n",
    "# ax1.set_xlabel('Time $t$')\n",
    "# ax1.set_ylabel('Daily CPU hours')\n",
    "# ax1.set_title('Daily CPU hours')\n",
    "# #\n",
    "# ax1.legend(loc=0)\n",
    "\n",
    "#ax1.plot(daily_hours['time'][0::len(daily_hours)-1], numpy.ones(2)*123*48*24, ls='--', marker='', lw=3.)"
   ]
  },
  {
   "cell_type": "code",
   "execution_count": null,
   "metadata": {},
   "outputs": [],
   "source": []
  },
  {
   "cell_type": "code",
   "execution_count": null,
   "metadata": {},
   "outputs": [],
   "source": [
    "# TODO: these should (optionally? be integrated into the main object and pickled.)\n",
    "#weekly_hours = sacct_mazama.get_cpu_hours(bin_size=7, n_points=1000)\n",
    "weekly_hours = sacct_mazama.weekly_hours\n",
    "daily_hours  = sacct_mazama.daily_hours\n",
    "\n",
    "#daily_hours = sacct_mazama.get_cpu_hours(bin_size=1, n_points=1000)"
   ]
  },
  {
   "cell_type": "code",
   "execution_count": null,
   "metadata": {},
   "outputs": [],
   "source": [
    "fg = plt.figure(figsize=(10,8))\n",
    "ax1 = plt.gca()\n",
    "ax1.grid()\n",
    "#\n",
    "ax1.plot(weekly_hours['time'], weekly_hours['cpu_hours']/7., ls='-', marker='.', label='bins=7 day', zorder=11)\n",
    "ax1.plot(daily_hours['time'], daily_hours['cpu_hours'], ls='-', marker='.', label='bins=1 day', zorder=5)\n",
    "\n",
    "\n",
    "#\n",
    "fg.canvas.draw()\n",
    "#\n",
    "# set ax3 labels to dates:\n",
    "# now format the datestrings...\n",
    "lbls = [hpc_lib.simple_date_string(mpd.num2date(float(s.get_text())) ) for s in ax1.get_xticklabels()]\n",
    "#print('*** ', lbls)\n",
    "#\n",
    "ax1.set_xticklabels(lbls)\n",
    "ax1.set_xlabel('Time $t$')\n",
    "ax1.set_ylabel('Daily CPU hours')\n",
    "ax1.set_title('Daily CPU hours')\n",
    "#\n",
    "ax1.legend(loc=0)\n",
    "\n",
    "ax1.plot(daily_hours['time'][0::len(daily_hours)-1], numpy.ones(2)*123*48*24, ls='--', marker='', lw=3.)\n",
    "# ax1.plot(daily_hours['time'][0::len(daily_hours)-1], numpy.ones(2)*12*24*24, ls='--', marker='',\n",
    "#          lw=3., color='r', label='CPU+GPU')\n",
    "# ax1.plot(daily_hours['time'][0::len(daily_hours)-1], numpy.ones(2)*14*24*24, ls='--', marker='',\n",
    "#          lw=3., color='g', label='CPU nodes')\n",
    "# ax1.plot(daily_hours['time'][0::len(daily_hours)-1], numpy.ones(2)*12*24*8, ls='--', marker='',\n",
    "#          lw=3., color='m',label='9 to 5')\n",
    "#\n",
    "ax1.legend(loc=0)\n",
    "if not os.path.isdir(os.path.join(output_path, 'figs')):\n",
    "    os.makedirs(os.path.join(output_path, 'figs'))\n",
    "plt.savefig(os.path.join(output_path, 'figs', 'daily_cpu_hours_all.png'))"
   ]
  },
  {
   "cell_type": "code",
   "execution_count": null,
   "metadata": {},
   "outputs": [],
   "source": [
    "# how many active nodes do we have? looks like tasks/cpus show up as 1/thread, so 48 per node, so...\n",
    "n_max = numpy.max(daily_hours['cpu_hours'])\n",
    "#\n",
    "n_nodes = n_max/(24.*48.)\n",
    "#\n",
    "print('*** n_max={}, n_nodes={}'.format(n_max, n_nodes))\n",
    "#140000/(24*48)"
   ]
  },
  {
   "cell_type": "code",
   "execution_count": null,
   "metadata": {},
   "outputs": [],
   "source": [
    "# time of day(-like) compute volume requests.\n",
    "\n",
    "qs = [.5, .75, .95]\n",
    "#\n",
    "# This is TotalCPU, UserCPU, and SystemCPU, so we don't need to compute it any longer.\n",
    "comp_vol_submit = sacct_mazama.get_submit_compute_vol_timeofday(qs=qs)\n",
    "comp_vol_start = sacct_mazama.get_submit_compute_vol_timeofday(time_col='Start', qs=qs)\n",
    "#\n",
    "fg = plt.figure(figsize=(12,6))\n",
    "ax1 = fg.add_subplot('121')\n",
    "ax2 = fg.add_subplot('122')\n",
    "ax1.grid()\n",
    "ax2.grid()\n",
    "#\n",
    "\n",
    "# N = numpy.sum(comp_vol_submit['cpu-time'])\n",
    "N = 1.\n",
    "ax1.plot(comp_vol_submit['time'], comp_vol_submit['cpu-time']/N,\n",
    "         ls='-', marker='o', lw=2., label='submit')\n",
    "#print('*** ', numpy.sum(comp_vol_submit['cpu-time']/numpy.sum(comp_vol_submit['cpu-time'])))\n",
    "#\n",
    "# N = numpy.sum(comp_vol_start['cpu-time'])\n",
    "N = 1 \n",
    "ax1.plot(comp_vol_start['time'], comp_vol_start['cpu-time']/N,\n",
    "         ls='-', marker='o', lw=2., label='start')\n",
    "#print('*** ', numpy.sum(comp_vol_start['cpu-time']/N))\n",
    "#\n",
    "#N=numpy.sum(comp_vol_submit['cpus'])\n",
    "N=1.\n",
    "ax2.plot(comp_vol_submit['time'], comp_vol_submit['cpus']/N, ls='-', marker='o', lw=2., label='submit')\n",
    "\n",
    "#N=numpy.sum(comp_vol_start['cpus'])\n",
    "N=1\n",
    "ax2.plot(comp_vol_start['time'], comp_vol_start['cpus']/N, ls='-', marker='o', lw=2., label='start')\n",
    "#\n",
    "#for k,cl in enumerate(comp_vol_tod.dtype.names[2:]):\n",
    "#    ax1.plot(comp_vol_tod['time'], comp_vol_tod[cl], ls='-', marker='o', lw=2., label='$q={}$'.format(qs[k]))\n",
    "#    break\n",
    "#\n",
    "ax1.legend(loc=0, numpoints=1)\n",
    "ax1.set_title('Compute Volume Requested, \\n$N_{CPU} \\cdot \\Delta t_{limit}$')\n",
    "ax1.set_xlabel('Hour of day')\n",
    "ax2.set_ylabel('Compute Vol.')\n",
    "\n",
    "ax2.set_title('CPUs Requested')\n",
    "ax2.set_xlabel('Hour of day')\n",
    "ax2.legend(loc=1, numpoints=1)\n",
    "\n",
    "#ax1.set_yscale('log')"
   ]
  },
  {
   "cell_type": "code",
   "execution_count": null,
   "metadata": {},
   "outputs": [],
   "source": [
    "zz = sacct_mazama.active_cpu_jobs_per_day_hour_report(qs=[.45, .5, .55],\n",
    "                                        figsize=(14,10), cpu_usage=None, periodic_projection='polar')"
   ]
  },
  {
   "cell_type": "code",
   "execution_count": null,
   "metadata": {},
   "outputs": [],
   "source": [
    "# compute some distributions:\n",
    "print('*** ', sacct_mazama.jobs_summary.dtype.names)\n",
    "run_times = sacct_mazama.get_run_times()\n",
    "\n",
    "#\n",
    "fg = plt.figure(figsize=(12,8))\n",
    "ax1 = fg.add_subplot('221')\n",
    "ax2 = fg.add_subplot('222')\n",
    "#ax1a.set_yscale('log')\n",
    "ax3 = fg.add_subplot('223')\n",
    "ax4 = fg.add_subplot('224')\n",
    "ax1.grid()\n",
    "ax2.grid()\n",
    "ax3.grid()\n",
    "ax4.grid()\n",
    "#\n",
    "hh = ax1.hist(run_times, bins=50, cumulative=False, normed=True, log=True)\n",
    "hh1c = ax2.hist(run_times, bins=50, cumulative=True, normed=True, log=True, histtype='bar')\n",
    "#hh1c = ax2.plot(sorted(run_times), numpy.array(numpy.linspace(1./len(run_times), 1.,\n",
    "#                                                             len(run_times))), lw=3.0, zorder=11)\n",
    "#\n",
    "hh2 = ax3.hist(sacct_mazama.jobs_summary['NCPUS'], bins=50, normed=True, log=True)\n",
    "hh22 = ax4.hist(sacct_mazama.jobs_summary['NCPUS'], bins=50, normed=True, log=True,\n",
    "                 cumulative=True, histtype='bar', lw=3, zorder=11)\n",
    "#hh22 = ax4.hist(sacct_mazama.jobs_summary['NCPUS'], bins=50, normed=True, log=True,\n",
    "#                 cumulative=True, histtype='step', lw=3, zorder=11)\n",
    "#ax1.plot(run_times, ls='', marker='.')\n",
    "#print('*** ', run_times[0:20]*24, len(run_times), run_times.shape)\n",
    "#\n",
    "ax1.set_title('Run-time Distribution (days)')\n",
    "ax3.set_title('NCPUs Distribution')\n",
    "ax2.set_xlabel('Time (days)')\n",
    "ax4.set_xlabel('CPUS $N_{cpus}$')\n",
    "#\n",
    "ax2.set_title(\"(Cumulative)\")\n",
    "#ax4.set_title(\"(Cumulative)\")\n",
    "\n",
    "#ax2.set_xlim(-1,800)"
   ]
  },
  {
   "cell_type": "code",
   "execution_count": null,
   "metadata": {},
   "outputs": [],
   "source": [
    "print('** ', len(run_times), len(sacct_mazama.jobs_summary['NCPUS']))"
   ]
  },
  {
   "cell_type": "code",
   "execution_count": null,
   "metadata": {},
   "outputs": [],
   "source": [
    "#ix_rt = numpy.argsort(run_times)\n",
    "run_times_sorted = run_times.copy()\n",
    "run_times_sorted.sort()\n",
    "#\n",
    "k_2 = numpy.searchsorted(run_times_sorted, 2.0)\n",
    "k_7 = numpy.searchsorted(run_times_sorted, 7.0)\n",
    "k_14 = numpy.searchsorted(run_times_sorted, 14.0)\n",
    "\n",
    "#\n",
    "# k_2 = numpy.searchsorted(run_times[ix_rt], 2.0)\n",
    "# #k_7 = numpy.searchsorted(run_times[ix_rt], 7.0)\n",
    "# k_7 = k_2 + numpy.searchsorted( (run_times[ix_rt])[k_2:], 7.0)\n",
    "# k_14 = k_7 + numpy.searchsorted( (run_times[ix_rt])[k_7:], 14.0)\n",
    "#\n",
    "N=float(len(run_times))\n",
    "print('*** quantiles for t=2,7,14 days: {}, {}, {}'.format(float(k_2)/N, k_7/N, k_14/N))\n",
    "#\n",
    "# percent of jobs that use N<24 cores (aka, can run on a single node). Note that these are especially\n",
    "#. eligible for GCP.\n",
    "N_24 = numpy.sum(sacct_mazama.jobs_summary['NCPUS']<25)\n",
    "print('*** N_24/N={}'.format(N_24/N))\n"
   ]
  },
  {
   "cell_type": "code",
   "execution_count": null,
   "metadata": {},
   "outputs": [],
   "source": [
    "wait_stats = sacct_mazama.get_wait_stats()\n",
    "#\n",
    "fg = plt.figure(figsize=(10,10))\n",
    "ax1 = plt.gca()\n",
    "ax1.grid()\n",
    "#\n",
    "ax1.plot(wait_stats['ncpus'], wait_stats['mean'], ls='-', label='mean')\n",
    "ax1.plot(wait_stats['ncpus'], wait_stats['median'], ls='-', label='median')\n",
    "#\n",
    "#ax1.set_ylim(-.1, .5)\n",
    "ax1.set_yscale('log')"
   ]
  },
  {
   "cell_type": "code",
   "execution_count": null,
   "metadata": {
    "scrolled": false
   },
   "outputs": [],
   "source": [
    "#t0 = mpd.date2num(dtm.datetime(2019,9,2, tzinfo=pytz.timezone('UTC')))\n",
    "t0 = mpd.date2num(dtm.datetime(2019,12,30, tzinfo=pytz.timezone('UTC')))\n",
    "#\n",
    "bin_size=7\n",
    "cpu_weekly = sacct_mazama.active_jobs_cpu(bin_size=bin_size, t_min=t0)\n",
    "#\n",
    "fg = plt.figure(figsize=(10,10))\n",
    "plt.suptitle('Weekly Usage')\n",
    "ax1 = fg.add_subplot('211')\n",
    "ax2 = fg.add_subplot('212', sharex=ax1)\n",
    "for ax in (ax1, ax2):\n",
    "    ax.grid()\n",
    "#\n",
    "ax1.plot(cpu_weekly['time'], cpu_weekly['N_jobs'], ls='-', lw=2., marker='')\n",
    "ax2.plot(cpu_weekly['time'], cpu_weekly['N_cpu'], ls='-', lw=2., marker='')\n",
    "\n",
    "ax1.set_title('Jobs', size=16)\n",
    "ax1.set_ylabel('$N_{jobs}$', size=16)\n",
    "#\n",
    "ax2.set_title('CPUs', size=16)\n",
    "ax2.set_ylabel('$N_{CPU}$', size=16)\n",
    "\n",
    "fg.canvas.draw()\n",
    "#\n",
    "# set ax3 labels to dates:\n",
    "# now format the datestrings...\n",
    "lbls = [hpc_lib.simple_date_string(mpd.num2date(float(s.get_text())) ) for s in ax1.get_xticklabels()]\n",
    "print('*** ', lbls)\n",
    "#\n",
    "ax2.set_xticklabels(lbls)\n",
    "#\n",
    "plt.suptitle('Mazama Activity, $\\Delta t_{{binsize}}={}$ days'.format(bin_size))\n"
   ]
  },
  {
   "cell_type": "code",
   "execution_count": null,
   "metadata": {},
   "outputs": [],
   "source": [
    "# group(s) reports:\n",
    "with open(groups_fname, 'r') as fin:\n",
    "    groups = json.load(fin)\n",
    "#\n",
    "#\n",
    "my_groups = {'tgp':groups['tgp']}\n",
    "#\n",
    "print('** my_groups: ', my_groups)"
   ]
  },
  {
   "cell_type": "code",
   "execution_count": null,
   "metadata": {},
   "outputs": [],
   "source": []
  },
  {
   "cell_type": "code",
   "execution_count": null,
   "metadata": {
    "scrolled": false
   },
   "outputs": [],
   "source": [
    "SGR = hpc_lib.SACCT_groups_analyzer_report(Short_title='Mazama Analytics', \n",
    "                                           Full_title='Mazama HPC Analytics by User Group',\n",
    "                                          out_path='output/HPC_analytics_mazama_20200820',\n",
    "                                          tex_filename='Mazama_analytics_20200820.tex', groups=groups,\n",
    "                                          add_all_groups=True, SACCT_obj=sacct_mazama)"
   ]
  },
  {
   "cell_type": "code",
   "execution_count": null,
   "metadata": {},
   "outputs": [],
   "source": [
    "print('*** groups.keys(): ', list(groups.keys()))"
   ]
  },
  {
   "cell_type": "code",
   "execution_count": null,
   "metadata": {},
   "outputs": [],
   "source": [
    "print('** something')"
   ]
  },
  {
   "cell_type": "code",
   "execution_count": null,
   "metadata": {},
   "outputs": [],
   "source": [
    "# sacct_mazama.daily_hours['time'], daily_hours['cpu_hours']\n",
    "#\n",
    "quants = numpy.quantile(sacct_mazama.daily_hours['cpu_hours'], [.5, .66, .75, .95, .99])"
   ]
  },
  {
   "cell_type": "code",
   "execution_count": null,
   "metadata": {},
   "outputs": [],
   "source": [
    "print('** ', quants/48.)"
   ]
  },
  {
   "cell_type": "code",
   "execution_count": null,
   "metadata": {},
   "outputs": [],
   "source": [
    "print('** ', 48.*130)"
   ]
  },
  {
   "cell_type": "code",
   "execution_count": null,
   "metadata": {},
   "outputs": [],
   "source": []
  }
 ],
 "metadata": {
  "kernelspec": {
   "display_name": "Python 3.7.6",
   "language": "python",
   "name": "python3"
  },
  "language_info": {
   "codemirror_mode": {
    "name": "ipython",
    "version": 3
   },
   "file_extension": ".py",
   "mimetype": "text/x-python",
   "name": "python",
   "nbconvert_exporter": "python",
   "pygments_lexer": "ipython3",
   "version": "3.7.6"
  }
 },
 "nbformat": 4,
 "nbformat_minor": 2
}
