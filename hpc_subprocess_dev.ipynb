{
 "cells": [
  {
   "cell_type": "code",
   "execution_count": 1,
   "metadata": {},
   "outputs": [],
   "source": [
    "%load_ext autoreload\n",
    "%autoreload 2\n",
    "%matplotlib inline"
   ]
  },
  {
   "cell_type": "code",
   "execution_count": 2,
   "metadata": {
    "collapsed": true
   },
   "outputs": [],
   "source": [
    "import numpy\n",
    "import scipy\n",
    "import matplotlib\n",
    "import matplotlib.dates as mpd\n",
    "import pylab as plt\n",
    "import datetime as dtm\n",
    "import pytz\n",
    "import multiprocessing as mpp\n",
    "import pickle\n",
    "import os\n",
    "import time\n",
    "import numba\n",
    "import subprocess\n",
    "#\n",
    "#import pyspark\n",
    "import h5py\n",
    "#\n",
    "# TODO: phase out unreferenced hpc_lib calls...\n",
    "import hpc_lib\n",
    "\n",
    "#\n",
    "#data_file_name = 'data/mazama_usage_20200506_tool8.out'\n",
    "#data_file_name = 'data/sacct_sherlock_out_serc2020_05_08.out'\n",
    "data_file_name = 'data/serc_usage_20200914.out'\n",
    "#\n",
    "pkl_name = \"{}.pkl\".format(os.path.splitext(data_file_name)[0])\n",
    "h5_name = \"{}.h5\".format(os.path.splitext(data_file_name)[0])\n",
    "#"
   ]
  },
  {
   "cell_type": "code",
   "execution_count": 3,
   "metadata": {},
   "outputs": [
    {
     "name": "stdout",
     "output_type": "stream",
     "text": [
      "** Start_end_times:  [(datetime.date(2020, 4, 15), datetime.date(2020, 5, 15)), [datetime.date(2020, 5, 15), datetime.date(2020, 6, 14)], [datetime.date(2020, 6, 14), datetime.date(2020, 7, 14)], [datetime.date(2020, 7, 14), datetime.date(2020, 7, 15)]]\n",
      "** options:   --group=oneillm  --delimiter=\"|\" --allusers\n"
     ]
    }
   ],
   "source": [
    "#sacct_FORMAT = 'User,Group,GID,Jobname,JobID,JobIDRaw,partition,state,time,ncpus,nnodes,Submit,Eligible,start,end,elapsed,SystemCPU,UserCPU,TotalCPU,NTasks,CPUTimeRaw,Suspended,ReqGRES,AllocGRES,ReqTRES,AllocTRES'\n",
    "#format_list = [str(s) for s in sacct_FORMAT.split(',')]\n",
    "#print('** ', format_list)\n",
    "#\n",
    "def date_to_string(dt):\n",
    "    return \"{}-{}-{}T{}:{}:{}\".format(dt.year, dt.month, dt.day, dt.hour, dt.minute, dt.second)\n",
    "#\n",
    "format_list = ['User', 'Group', 'GID', 'Jobname', 'JobID', 'JobIDRaw', 'partition', 'state', 'time', 'ncpus',\n",
    "               'nnodes', 'Submit', 'Eligible', 'start', 'end', 'elapsed', 'SystemCPU', 'UserCPU',\n",
    "               'TotalCPU', 'NTasks', 'CPUTimeRaw', 'Suspended', 'ReqGRES', 'AllocGRES', 'ReqTRES',\n",
    "               'AllocTRES']\n",
    "#\n",
    "start_time = dtm.date(2020,4,15)\n",
    "end_time   = dtm.date(2020,11,15)\n",
    "end_time   = dtm.date(2020,7,15)\n",
    "#\n",
    "# construct start,end times array:\n",
    "start_end_times = [(start_time, min(start_time + dtm.timedelta(days=30), end_time))]\n",
    "options  = [('group', 'oneillm'), ('delimiter', '\"|\"'), ('allusers',None)]\n",
    "#\n",
    "while start_end_times[-1][1] < end_time:\n",
    "    start_end_times += [[start_end_times[-1][1], min(start_end_times[-1][1] + dtm.timedelta(days=30), end_time) ]]\n",
    "#\n",
    "# NOTE: Sherlock will only allow one month of sacct query, so we break this up. I usually just do 15th - 15th,\n",
    "#. but maybe we can be a bit more sophisticated here.\n",
    "#  TODO: include time, but I'm not sure of the correct format right now (ie, yyyy-mm-ddThh:mm:ss, yyyy-mm-dd hh:mm:ss,\n",
    "#. and then )\n",
    "print('** Start_end_times: ', start_end_times)\n",
    "#\n",
    "\n",
    "# TODO: these are cut-pasted from .sh; reformat.\n",
    "sacct_format = ','.join(format_list)\n",
    "#\n",
    "\n",
    "#\n",
    "options_str = ''\n",
    "\n",
    "for (op,vl) in options:\n",
    "    if vl is None:\n",
    "        options_str += '--{}'.format(op)\n",
    "    else:\n",
    "        options_str += ' --{}={} '.format(op,vl)\n",
    "#\n",
    "print('** options: ', options_str)"
   ]
  },
  {
   "cell_type": "code",
   "execution_count": 4,
   "metadata": {},
   "outputs": [
    {
     "name": "stdout",
     "output_type": "stream",
     "text": [
      "** [0]: srun sacct   --group=oneillm  --delimiter=\"|\" --allusers -p --starttime=2020-04-15 --endtime=2020-05-15 --format=User,Group,GID,Jobname,JobID,JobIDRaw,partition,state,time,ncpus,nnodes,Submit,Eligible,start,end,elapsed,SystemCPU,UserCPU,TotalCPU,NTasks,CPUTimeRaw,Suspended,ReqGRES,AllocGRES,ReqTRES,AllocTRES \n",
      "\n",
      "** [1]: srun sacct --noheader  --group=oneillm  --delimiter=\"|\" --allusers -p --starttime=2020-05-15 --endtime=2020-06-14 --format=User,Group,GID,Jobname,JobID,JobIDRaw,partition,state,time,ncpus,nnodes,Submit,Eligible,start,end,elapsed,SystemCPU,UserCPU,TotalCPU,NTasks,CPUTimeRaw,Suspended,ReqGRES,AllocGRES,ReqTRES,AllocTRES \n",
      "\n",
      "** [2]: srun sacct --noheader  --group=oneillm  --delimiter=\"|\" --allusers -p --starttime=2020-06-14 --endtime=2020-07-14 --format=User,Group,GID,Jobname,JobID,JobIDRaw,partition,state,time,ncpus,nnodes,Submit,Eligible,start,end,elapsed,SystemCPU,UserCPU,TotalCPU,NTasks,CPUTimeRaw,Suspended,ReqGRES,AllocGRES,ReqTRES,AllocTRES \n",
      "\n",
      "** [3]: srun sacct --noheader  --group=oneillm  --delimiter=\"|\" --allusers -p --starttime=2020-07-14 --endtime=2020-07-15 --format=User,Group,GID,Jobname,JobID,JobIDRaw,partition,state,time,ncpus,nnodes,Submit,Eligible,start,end,elapsed,SystemCPU,UserCPU,TotalCPU,NTasks,CPUTimeRaw,Suspended,ReqGRES,AllocGRES,ReqTRES,AllocTRES \n",
      "\n"
     ]
    }
   ],
   "source": [
    "#\n",
    "sacct_out = ''\n",
    "Ss = []\n",
    "for k, (start, stop) in enumerate(start_end_times):\n",
    "    sacct_str = 'srun sacct {} {} -p --starttime={} --endtime={} --format={} '.format( ('--noheader' if k>0 else ''), \n",
    "                                    options_str, start, stop, sacct_format )\n",
    "    #\n",
    "    #sacct_str_list = sacct_str.split()\n",
    "    #break\n",
    "    print('** [{}]: {}\\n'.format(k, sacct_str))\n",
    "    #\n",
    "    S = subprocess.run(sacct_str.split(), stdout=subprocess.PIPE)\n",
    "    # TODO: parallelize...\n",
    "    Ss += S.stdout.decode()\n",
    "    sacct_out += S.stdout.decode()\n",
    "\n"
   ]
  },
  {
   "cell_type": "code",
   "execution_count": 12,
   "metadata": {},
   "outputs": [
    {
     "name": "stdout",
     "output_type": "stream",
     "text": [
      "**  10916\n"
     ]
    }
   ],
   "source": [
    "print('** ', len(sacct_out.split('\\n')))"
   ]
  },
  {
   "cell_type": "code",
   "execution_count": 13,
   "metadata": {},
   "outputs": [
    {
     "name": "stdout",
     "output_type": "stream",
     "text": [
      "**  User\"|\"Group\"|\"GID\"|\"JobName\"|\"JobID\"|\"JobIDRaw\"|\"Partition\"|\"State\"|\"Timelimit\"|\"NCPUS\"|\"NNodes\"|\"Submit\"|\"Eligible\"|\"Start\"|\"End\"|\"Elapsed\"|\"SystemCPU\"|\"UserCPU\"|\"TotalCPU\"|\"NTasks\"|\"CPUTimeRAW\"|\"Suspended\"|\"ReqGRES\"|\"AllocGRES\"|\"ReqTRES\"|\"AllocTRES\"|\"\n",
      "**  haofu\"|\"oneillm\"|\"328022\"|\"SWE\"|\"65485294_20\"|\"65485335\"|\"oneillm\"|\"COMPLETED\"|\"3-00:00:00\"|\"1\"|\"1\"|\"2020-04-14T20:41:14\"|\"2020-04-14T20:41:14\"|\"2020-04-14T20:42:10\"|\"2020-04-17T01:56:02\"|\"2-05:13:52\"|\"04:54:12\"|\"1-23:40:38\"|\"2-04:34:50\"|\"\"|\"191632\"|\"00:00:00\"|\"\"|\"\"|\"billing=1,cpu=1,mem=1G,node=1\"|\"billing=1,cpu=1,energy=41149423,mem=1G,node=1\"|\"\n",
      "**  \"|\"\"|\"\"|\"batch\"|\"65485294_20.batch\"|\"65485335.batch\"|\"\"|\"COMPLETED\"|\"\"|\"1\"|\"1\"|\"2020-04-14T20:42:10\"|\"2020-04-14T20:42:10\"|\"2020-04-14T20:42:10\"|\"2020-04-17T01:56:02\"|\"2-05:13:52\"|\"04:54:12\"|\"1-23:40:38\"|\"2-04:34:50\"|\"1\"|\"191632\"|\"00:00:00\"|\"\"|\"\"|\"\"|\"cpu=1,mem=1G,node=1\"|\"\n",
      "**  \"|\"\"|\"\"|\"extern\"|\"65485294_20.extern\"|\"65485335.extern\"|\"\"|\"COMPLETED\"|\"\"|\"1\"|\"1\"|\"2020-04-14T20:42:10\"|\"2020-04-14T20:42:10\"|\"2020-04-14T20:42:10\"|\"2020-04-17T01:56:02\"|\"2-05:13:52\"|\"00:00:00\"|\"00:00:00\"|\"00:00:00\"|\"1\"|\"191632\"|\"00:00:00\"|\"\"|\"\"|\"\"|\"billing=1,cpu=1,mem=1G,node=1\"|\"\n",
      "**  haofu\"|\"oneillm\"|\"328022\"|\"SWE\"|\"65485294_21\"|\"65485336\"|\"oneillm\"|\"COMPLETED\"|\"3-00:00:00\"|\"1\"|\"1\"|\"2020-04-14T20:41:14\"|\"2020-04-14T20:41:14\"|\"2020-04-14T20:42:10\"|\"2020-04-15T17:45:12\"|\"21:03:02\"|\"28:03.581\"|\"20:11:47\"|\"20:39:51\"|\"\"|\"75782\"|\"00:00:00\"|\"\"|\"\"|\"billing=1,cpu=1,mem=1G,node=1\"|\"billing=1,cpu=1,energy=16135271,mem=1G,node=1\"|\"\n",
      "**  \"|\"\"|\"\"|\"batch\"|\"65485294_21.batch\"|\"65485336.batch\"|\"\"|\"COMPLETED\"|\"\"|\"1\"|\"1\"|\"2020-04-14T20:42:10\"|\"2020-04-14T20:42:10\"|\"2020-04-14T20:42:10\"|\"2020-04-15T17:45:12\"|\"21:03:02\"|\"28:03.581\"|\"20:11:47\"|\"20:39:51\"|\"1\"|\"75782\"|\"00:00:00\"|\"\"|\"\"|\"\"|\"cpu=1,mem=1G,node=1\"|\"\n",
      "**  \"|\"\"|\"\"|\"extern\"|\"65485294_21.extern\"|\"65485336.extern\"|\"\"|\"COMPLETED\"|\"\"|\"1\"|\"1\"|\"2020-04-14T20:42:10\"|\"2020-04-14T20:42:10\"|\"2020-04-14T20:42:10\"|\"2020-04-15T17:45:12\"|\"21:03:02\"|\"00:00:00\"|\"00:00:00\"|\"00:00:00\"|\"1\"|\"75782\"|\"00:00:00\"|\"\"|\"\"|\"\"|\"billing=1,cpu=1,mem=1G,node=1\"|\"\n",
      "**  haofu\"|\"oneillm\"|\"328022\"|\"SWE\"|\"65485294_22\"|\"65485337\"|\"oneillm\"|\"COMPLETED\"|\"3-00:00:00\"|\"1\"|\"1\"|\"2020-04-14T20:41:14\"|\"2020-04-14T20:41:14\"|\"2020-04-14T20:42:10\"|\"2020-04-17T00:05:21\"|\"2-03:23:11\"|\"03:19:47\"|\"1-23:26:22\"|\"2-02:46:09\"|\"\"|\"184991\"|\"00:00:00\"|\"\"|\"\"|\"billing=1,cpu=1,mem=1G,node=1\"|\"billing=1,cpu=1,energy=39729704,mem=1G,node=1\"|\"\n",
      "**  \"|\"\"|\"\"|\"batch\"|\"65485294_22.batch\"|\"65485337.batch\"|\"\"|\"COMPLETED\"|\"\"|\"1\"|\"1\"|\"2020-04-14T20:42:10\"|\"2020-04-14T20:42:10\"|\"2020-04-14T20:42:10\"|\"2020-04-17T00:05:21\"|\"2-03:23:11\"|\"03:19:47\"|\"1-23:26:22\"|\"2-02:46:09\"|\"1\"|\"184991\"|\"00:00:00\"|\"\"|\"\"|\"\"|\"cpu=1,mem=1G,node=1\"|\"\n",
      "**  \"|\"\"|\"\"|\"extern\"|\"65485294_22.extern\"|\"65485337.extern\"|\"\"|\"COMPLETED\"|\"\"|\"1\"|\"1\"|\"2020-04-14T20:42:10\"|\"2020-04-14T20:42:10\"|\"2020-04-14T20:42:10\"|\"2020-04-17T00:05:21\"|\"2-03:23:11\"|\"00:00:00\"|\"00:00:00\"|\"00:00:00\"|\"1\"|\"184991\"|\"00:00:00\"|\"\"|\"\"|\"\"|\"billing=1,cpu=1,mem=1G,node=1\"|\"\n"
     ]
    }
   ],
   "source": [
    "for rw in sacct_out.split('\\n')[0:10]:\n",
    "    print('** ', rw)"
   ]
  },
  {
   "cell_type": "code",
   "execution_count": 7,
   "metadata": {},
   "outputs": [
    {
     "name": "stdout",
     "output_type": "stream",
     "text": [
      "**  ['srun', 'sacct', '--group=oneillm', '--delimiter=\"|\"', '--allusers', '-p', '--starttime=2020-04-15', '--endtime=2020-05-15', '--format=User,Group,GID,Jobname,JobID,JobIDRaw,partition,state,time,ncpus,nnodes,Submit,Eligible,start,end,elapsed,SystemCPU,UserCPU,TotalCPU,NTasks,CPUTimeRaw,Suspended,ReqGRES,AllocGRES,ReqTRES,AllocTRES']\n"
     ]
    }
   ],
   "source": [
    "print('** ', sacct_str_list)"
   ]
  },
  {
   "cell_type": "code",
   "execution_count": 8,
   "metadata": {
    "collapsed": true
   },
   "outputs": [],
   "source": [
    "XX = subprocess.run(sacct_str_list, stdout=subprocess.PIPE)"
   ]
  },
  {
   "cell_type": "code",
   "execution_count": 10,
   "metadata": {},
   "outputs": [
    {
     "data": {
      "text/plain": [
       "'User\"|\"Gro'"
      ]
     },
     "execution_count": 10,
     "metadata": {},
     "output_type": "execute_result"
    }
   ],
   "source": [
    "XX.stdout.decode()[0:10]"
   ]
  },
  {
   "cell_type": "code",
   "execution_count": null,
   "metadata": {},
   "outputs": [
    {
     "name": "stderr",
     "output_type": "stream",
     "text": [
      "/scratch/users/myoder96/HPC_analytics/hpc_lib.py:517: NumbaWarning: \n",
      "Compilation is falling back to object mode WITH looplifting enabled because Function \"process_row\" failed type inference due to: non-precise type pyobject\n",
      "During: typing of argument at /scratch/users/myoder96/HPC_analytics/hpc_lib.py (523)\n",
      "\n",
      "File \"hpc_lib.py\", line 523:\n",
      "    def process_row(self, rw, headers=None, RH=None):\n",
      "        <source elided>\n",
      "        #\n",
      "        headers = (headers or self.headers)\n",
      "        ^\n",
      "\n",
      "  @numba.jit\n",
      "/scratch/users/myoder96/HPC_analytics/hpc_lib.py:517: NumbaWarning: \n",
      "Compilation is falling back to object mode WITH looplifting enabled because Function \"process_row\" failed type inference due to: non-precise type pyobject\n",
      "During: typing of argument at /scratch/users/myoder96/HPC_analytics/hpc_lib.py (523)\n",
      "\n",
      "File \"hpc_lib.py\", line 523:\n",
      "    def process_row(self, rw, headers=None, RH=None):\n",
      "        <source elided>\n",
      "        #\n",
      "        headers = (headers or self.headers)\n",
      "        ^\n",
      "\n",
      "  @numba.jit\n",
      "/scratch/users/myoder96/HPC_analytics/hpc_lib.py:517: NumbaWarning: \n",
      "Compilation is falling back to object mode WITH looplifting enabled because Function \"process_row\" failed type inference due to: non-precise type pyobject\n",
      "During: typing of argument at /scratch/users/myoder96/HPC_analytics/hpc_lib.py (523)\n",
      "\n",
      "File \"hpc_lib.py\", line 523:\n",
      "    def process_row(self, rw, headers=None, RH=None):\n",
      "        <source elided>\n",
      "        #\n",
      "        headers = (headers or self.headers)\n",
      "        ^\n",
      "\n",
      "  @numba.jit\n",
      "/scratch/users/myoder96/HPC_analytics/hpc_lib.py:517: NumbaWarning: \n",
      "Compilation is falling back to object mode WITH looplifting enabled because Function \"process_row\" failed type inference due to: non-precise type pyobject\n",
      "During: typing of argument at /scratch/users/myoder96/HPC_analytics/hpc_lib.py (523)\n",
      "\n",
      "File \"hpc_lib.py\", line 523:\n",
      "    def process_row(self, rw, headers=None, RH=None):\n",
      "        <source elided>\n",
      "        #\n",
      "        headers = (headers or self.headers)\n",
      "        ^\n",
      "\n",
      "  @numba.jit\n",
      "/home/users/myoder96/.local/lib/python3.6/site-packages/numba/core/object_mode_passes.py:178: NumbaWarning: Function \"process_row\" was compiled in object mode without forceobj=True.\n",
      "\n",
      "File \"hpc_lib.py\", line 518:\n",
      "    @numba.jit\n",
      "    def process_row(self, rw, headers=None, RH=None):\n",
      "    ^\n",
      "\n",
      "  state.func_ir.loc))\n",
      "/home/users/myoder96/.local/lib/python3.6/site-packages/numba/core/object_mode_passes.py:178: NumbaWarning: Function \"process_row\" was compiled in object mode without forceobj=True.\n",
      "\n",
      "File \"hpc_lib.py\", line 518:\n",
      "    @numba.jit\n",
      "    def process_row(self, rw, headers=None, RH=None):\n",
      "    ^\n",
      "\n",
      "  state.func_ir.loc))\n",
      "/home/users/myoder96/.local/lib/python3.6/site-packages/numba/core/object_mode_passes.py:178: NumbaWarning: Function \"process_row\" was compiled in object mode without forceobj=True.\n",
      "\n",
      "File \"hpc_lib.py\", line 518:\n",
      "    @numba.jit\n",
      "    def process_row(self, rw, headers=None, RH=None):\n",
      "    ^\n",
      "\n",
      "  state.func_ir.loc))\n",
      "/home/users/myoder96/.local/lib/python3.6/site-packages/numba/core/object_mode_passes.py:178: NumbaWarning: Function \"process_row\" was compiled in object mode without forceobj=True.\n",
      "\n",
      "File \"hpc_lib.py\", line 518:\n",
      "    @numba.jit\n",
      "    def process_row(self, rw, headers=None, RH=None):\n",
      "    ^\n",
      "\n",
      "  state.func_ir.loc))\n",
      "/home/users/myoder96/.local/lib/python3.6/site-packages/numba/core/object_mode_passes.py:188: NumbaDeprecationWarning: \n",
      "Fall-back from the nopython compilation path to the object mode compilation path has been detected, this is deprecated behaviour.\n",
      "\n",
      "For more information visit http://numba.pydata.org/numba-doc/latest/reference/deprecation.html#deprecation-of-object-mode-fall-back-behaviour-when-using-jit\n",
      "\n",
      "File \"hpc_lib.py\", line 518:\n",
      "    @numba.jit\n",
      "    def process_row(self, rw, headers=None, RH=None):\n",
      "    ^\n",
      "\n",
      "  state.func_ir.loc))\n",
      "/home/users/myoder96/.local/lib/python3.6/site-packages/numba/core/object_mode_passes.py:188: NumbaDeprecationWarning: \n",
      "Fall-back from the nopython compilation path to the object mode compilation path has been detected, this is deprecated behaviour.\n",
      "\n",
      "For more information visit http://numba.pydata.org/numba-doc/latest/reference/deprecation.html#deprecation-of-object-mode-fall-back-behaviour-when-using-jit\n",
      "\n",
      "File \"hpc_lib.py\", line 518:\n",
      "    @numba.jit\n",
      "    def process_row(self, rw, headers=None, RH=None):\n",
      "    ^\n",
      "\n",
      "  state.func_ir.loc))\n",
      "/home/users/myoder96/.local/lib/python3.6/site-packages/numba/core/object_mode_passes.py:188: NumbaDeprecationWarning: \n",
      "Fall-back from the nopython compilation path to the object mode compilation path has been detected, this is deprecated behaviour.\n",
      "\n",
      "For more information visit http://numba.pydata.org/numba-doc/latest/reference/deprecation.html#deprecation-of-object-mode-fall-back-behaviour-when-using-jit\n",
      "\n",
      "File \"hpc_lib.py\", line 518:\n",
      "    @numba.jit\n",
      "    def process_row(self, rw, headers=None, RH=None):\n",
      "    ^\n",
      "\n",
      "  state.func_ir.loc))\n",
      "/home/users/myoder96/.local/lib/python3.6/site-packages/numba/core/object_mode_passes.py:188: NumbaDeprecationWarning: \n",
      "Fall-back from the nopython compilation path to the object mode compilation path has been detected, this is deprecated behaviour.\n",
      "\n",
      "For more information visit http://numba.pydata.org/numba-doc/latest/reference/deprecation.html#deprecation-of-object-mode-fall-back-behaviour-when-using-jit\n",
      "\n",
      "File \"hpc_lib.py\", line 518:\n",
      "    @numba.jit\n",
      "    def process_row(self, rw, headers=None, RH=None):\n",
      "    ^\n",
      "\n",
      "  state.func_ir.loc))\n"
     ]
    }
   ],
   "source": [
    "xx = hpc_lib.SACCT_data_direct(group='oneillm', start_date=dtm.datetime(2020,8,1), end_date=dtm.datetime(2020,10,31))"
   ]
  },
  {
   "cell_type": "code",
   "execution_count": null,
   "metadata": {},
   "outputs": [],
   "source": [
    "fg = plt.figure(figsize=(12,10))\n",
    "ax1 = plt.subplot('211')\n",
    "ax2 = plt.subplot('212')\n",
    "\n",
    "#\n",
    "zz = xx.compute_vol_distributions_report(ax1=ax1, ax2=ax2)\n",
    "ax1.grid()\n",
    "ax2.grid()"
   ]
  },
  {
   "cell_type": "code",
   "execution_count": null,
   "metadata": {
    "collapsed": true
   },
   "outputs": [],
   "source": []
  }
 ],
 "metadata": {
  "kernelspec": {
   "display_name": "Python 3",
   "language": "python",
   "name": "python3"
  },
  "language_info": {
   "codemirror_mode": {
    "name": "ipython",
    "version": 3
   },
   "file_extension": ".py",
   "mimetype": "text/x-python",
   "name": "python",
   "nbconvert_exporter": "python",
   "pygments_lexer": "ipython3",
   "version": "3.6.1"
  }
 },
 "nbformat": 4,
 "nbformat_minor": 2
}
