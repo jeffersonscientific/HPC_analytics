{
 "cells": [
  {
   "cell_type": "code",
   "execution_count": 1,
   "metadata": {},
   "outputs": [],
   "source": [
    "%load_ext autoreload\n",
    "%autoreload 2\n",
    "%matplotlib inline"
   ]
  },
  {
   "cell_type": "code",
   "execution_count": 2,
   "metadata": {},
   "outputs": [],
   "source": [
    "import numpy\n",
    "import scipy\n",
    "import math\n",
    "import matplotlib\n",
    "import matplotlib.dates as mpd\n",
    "import pylab as plt\n",
    "import datetime as dtm\n",
    "import pytz\n",
    "import multiprocessing as mpp\n",
    "import pickle\n",
    "import sys\n",
    "import os\n",
    "#import lmod\n",
    "# lmod.load('system')\n",
    "# lmod.load('texlive')\n",
    "# lmod.\n",
    "#\n",
    "# TODO: phase out unreferenced hpc_lib calls...\n",
    "import hpc_lib\n",
    "import hpc_reports\n",
    "#\n",
    "# def running_mean(X,n=10):\n",
    "#     return (numpy.cumsum(numpy.insert(X,0,0))[n:] - numpy.cumsum(numpy.insert(X,0,0))[:-n])/n\n",
    "# #"
   ]
  },
  {
   "cell_type": "code",
   "execution_count": 3,
   "metadata": {},
   "outputs": [
    {
     "name": "stdout",
     "output_type": "stream",
     "text": [
      "** epoch: 1970-01-01T00:00:00\n"
     ]
    }
   ],
   "source": [
    "n_cpus = 4\n",
    "print('** epoch: {}'.format(mpd.get_epoch()))\n"
   ]
  },
  {
   "cell_type": "code",
   "execution_count": 4,
   "metadata": {
    "scrolled": false
   },
   "outputs": [
    {
     "name": "stdout",
     "output_type": "stream",
     "text": [
      "*** dates: 2022-06-02 - 2022-06-20\n",
      "*** sacct_h5_file: sacct_data/sacct_pSERC_gNONE_uNone_20220602_20220620.h5\n",
      "*** Fetching SACCT data directly\n",
      "***  2022-06-02 00:00:00+00:00 <class 'datetime.datetime'> 2022-06-20 00:00:00+00:00 <class 'datetime.datetime'>\n",
      "*** DEBUG: Now execute load_sacct_data(); options_str= --partition=serc  --delimiter=\"|\" \n",
      "** DEBUG: sacct_str:: sacct  --partition=serc  --delimiter=\"|\"  -p --allusers --starttime=2022-06-02T00:00:00 --endtime=2022-06-20T00:00:00 --format=User,Group,GID,Jobname,JobID,JobIDRaw,partition,state,time,ncpus,nnodes,Submit,Eligible,start,end,elapsed,SystemCPU,UserCPU,TotalCPU,NTasks,CPUTimeRaw,Suspended,ReqTRES,AllocTRES \n",
      "*** DEBUG: sacct_str:  sacct  --partition=serc  --delimiter=\"|\"  -p --allusers --starttime=2022-06-02T00:00:00 --endtime=2022-06-12T00:00:00 --format=User,Group,GID,Jobname,JobID,JobIDRaw,partition,state,time,ncpus,nnodes,Submit,Eligible,start,end,elapsed,SystemCPU,UserCPU,TotalCPU,NTasks,CPUTimeRaw,Suspended,ReqTRES,AllocTRES \n",
      "*** DEBUG: sacct_str:  sacct  --partition=serc  --delimiter=\"|\"  -p --allusers --starttime=2022-06-12T00:00:00 --endtime=2022-06-20T00:00:00 --format=User,Group,GID,Jobname,JobID,JobIDRaw,partition,state,time,ncpus,nnodes,Submit,Eligible,start,end,elapsed,SystemCPU,UserCPU,TotalCPU,NTasks,CPUTimeRaw,Suspended,ReqTRES,AllocTRES \n",
      "*** DEBUG: len(R):  246944\n",
      "*** DEBUG: len(R):  74503\n",
      "*** DEBUG: load_sacct_data() executed. Compute calc_jobs_summary()\n",
      "*** DEBUG: data stuff:  321447 (numpy.record, [('index', '<i8'), ('User', 'O'), ('Group', 'O'), ('GID', 'O'), ('JobName', 'O'), ('JobID', 'O'), ('JobIDRaw', 'O'), ('Partition', 'O'), ('State', 'O'), ('Timelimit', '<f8'), ('NCPUS', '<i8'), ('NNodes', '<i8'), ('Submit', '<f8'), ('Eligible', '<f8'), ('Start', '<f8'), ('End', '<f8'), ('Elapsed', '<f8'), ('SystemCPU', '<f8'), ('UserCPU', '<f8'), ('TotalCPU', '<f8'), ('NTasks', '<f8'), ('CPUTimeRAW', 'O'), ('Suspended', 'O'), ('ReqTRES', 'O'), ('AllocTRES', 'O'), ('JobID_parent', 'O')])\n",
      "*** calc_jobs_summary: with prams: len(data)=321447, verbose=1, n_cpu=4, step_size=100000\n",
      "*** computing jobs_summary func on 4 cpu\n",
      "*** DEBUG: data[JobID]: False, data[Submit]: False\n",
      "*** DEBUG: type(data), len(data):  <class 'numpy.ndarray'> 321447\n",
      "*** DEBUG: nans in Submit?:  False\n",
      "*** DEGUG: Nones in JobID:  0\n",
      "*** DEBUG: working_data.dtype: (numpy.record, [('index', '<i8'), ('User', 'O'), ('Group', 'O'), ('GID', 'O'), ('JobName', 'O'), ('JobID', 'O'), ('JobIDRaw', 'O'), ('Partition', 'O'), ('State', 'O'), ('Timelimit', '<f8'), ('NCPUS', '<i8'), ('NNodes', '<i8'), ('Submit', '<f8'), ('Eligible', '<f8'), ('Start', '<f8'), ('End', '<f8'), ('Elapsed', '<f8'), ('SystemCPU', '<f8'), ('UserCPU', '<f8'), ('TotalCPU', '<f8'), ('NTasks', '<f8'), ('CPUTimeRAW', 'O'), ('Suspended', 'O'), ('ReqTRES', 'O'), ('AllocTRES', 'O'), ('JobID_parent', 'O')])\n",
      "*** DEBUG: len(working_data[index]), len(unique(working_data[index])): 321447, 321447\n",
      "** calc_summary:: ks: [     0 100002 200002 300001 321448]\n",
      "*** computing jobs_summary func on 1 cpu\n",
      "Starting jobs_summary...\n"
     ]
    },
    {
     "name": "stderr",
     "output_type": "stream",
     "text": [
      "/home/users/myoder96/Codes/HPC_analytics/hpc_lib.py:2554: RuntimeWarning: All-NaN slice encountered\n",
      "  numpy.nanmax(sub_data['NTasks']).astype(int)\n"
     ]
    },
    {
     "name": "stdout",
     "output_type": "stream",
     "text": [
      "*** computing jobs_summary func on 1 cpu\n",
      "Starting jobs_summary...\n",
      "*** computing jobs_summary func on 1 cpu\n",
      "Starting jobs_summary...\n"
     ]
    },
    {
     "name": "stderr",
     "output_type": "stream",
     "text": [
      "/home/users/myoder96/Codes/HPC_analytics/hpc_lib.py:2554: RuntimeWarning: All-NaN slice encountered\n",
      "  numpy.nanmax(sub_data['NTasks']).astype(int)\n"
     ]
    },
    {
     "name": "stdout",
     "output_type": "stream",
     "text": [
      "*** computing jobs_summary func on 1 cpu\n"
     ]
    },
    {
     "name": "stderr",
     "output_type": "stream",
     "text": [
      "/home/users/myoder96/Codes/HPC_analytics/hpc_lib.py:2554: RuntimeWarning: All-NaN slice encountered\n",
      "  numpy.nanmax(sub_data['NTasks']).astype(int)\n",
      "/home/users/myoder96/Codes/HPC_analytics/hpc_lib.py:2550: RuntimeWarning: All-NaN slice encountered\n",
      "  jobs_summary[['End', 'Start', 'NCPUS', 'NNodes', 'NTasks']][k] = numpy.nanmax(sub_data['End']),\\\n"
     ]
    },
    {
     "name": "stdout",
     "output_type": "stream",
     "text": [
      "Starting jobs_summary...\n"
     ]
    },
    {
     "name": "stderr",
     "output_type": "stream",
     "text": [
      "/home/users/myoder96/Codes/HPC_analytics/hpc_lib.py:2554: RuntimeWarning: All-NaN slice encountered\n",
      "  numpy.nanmax(sub_data['NTasks']).astype(int)\n"
     ]
    },
    {
     "name": "stdout",
     "output_type": "stream",
     "text": [
      "** DEBUG: jobs_summary.shape = (6797,)\n",
      "** DEBUG: jobs_summary.shape = (33214,)\n",
      "** DEBUG: jobs_summary.shape = (32118,)\n",
      "** DEBUG: jobs_summary.shape = (30809,)\n",
      "*** calc_jobs_summary: results [r.get() ] list set.\n",
      "** DEBUG: shapes:: (102938,), (102938,)\n",
      "*** DEBUG: 5000, None\n",
      "*** DEBUG: shape(output)=(5000,), shape(r_nj)=(5000,), shape(r_ncpu):(5000,)\n",
      "*** DEBUG: shape(output)=(5000,), shape(r_nj)=(5000,), shape(r_ncpu):(5000,)\n",
      "*** DEBUG: shape(output)=(5000,), shape(r_nj)=(5000,), shape(r_ncpu):(5000,)\n",
      "*** DEBUG: shape(output)=(5000,), shape(r_nj)=(5000,), shape(r_ncpu):(5000,)\n",
      "*** DEBUG: shape(output)=(5000,), shape(r_nj)=(5000,), shape(r_ncpu):(5000,)\n",
      "*** DEBUG: shape(output)=(5000,), shape(r_nj)=(5000,), shape(r_ncpu):(5000,)\n",
      "*** DEBUG: shape(output)=(5000,), shape(r_nj)=(5000,), shape(r_ncpu):(5000,)\n",
      "*** DEBUG: shape(output)=(5000,), shape(r_nj)=(5000,), shape(r_ncpu):(5000,)\n",
      "*** DEBUG: shape(output)=(5000,), shape(r_nj)=(5000,), shape(r_ncpu):(5000,)\n",
      "*** DEBUG: shape(output)=(5000,), shape(r_nj)=(5000,), shape(r_ncpu):(5000,)\n",
      "*** DEBUG: shape(output)=(5000,), shape(r_nj)=(5000,), shape(r_ncpu):(5000,)\n",
      "*** DEBUG: shape(output)=(5000,), shape(r_nj)=(5000,), shape(r_ncpu):(5000,)\n",
      "*** DEBUG: shape(output)=(5000,), shape(r_nj)=(5000,), shape(r_ncpu):(5000,)\n",
      "*** DEBUG: shape(output)=(5000,), shape(r_nj)=(5000,), shape(r_ncpu):(5000,)\n",
      "*** DEBUG: shape(output)=(5000,), shape(r_nj)=(5000,), shape(r_ncpu):(5000,)\n",
      "*** DEBUG: shape(output)=(5000,), shape(r_nj)=(5000,), shape(r_ncpu):(5000,)\n",
      "*** DEBUG: shape(output)=(5000,), shape(r_nj)=(5000,), shape(r_ncpu):(5000,)\n",
      "*** DEBUG: shape(output)=(5000,), shape(r_nj)=(5000,), shape(r_ncpu):(5000,)\n",
      "*** DEBUG: shape(output)=(5000,), shape(r_nj)=(5000,), shape(r_ncpu):(5000,)\n",
      "*** DEBUG: shape(output)=(5000,), shape(r_nj)=(5000,), shape(r_ncpu):(5000,)\n",
      "*** DEBUG: shape(output)=(5000,), shape(r_nj)=(5000,), shape(r_ncpu):(5000,)\n",
      "*** DEBUG: shape(output)=(5000,), shape(r_nj)=(5000,), shape(r_ncpu):(5000,)\n",
      "*** DEBUG: shape(output)=(5000,), shape(r_nj)=(5000,), shape(r_ncpu):(5000,)\n",
      "*** DEBUG: shape(output)=(5000,), shape(r_nj)=(5000,), shape(r_ncpu):(5000,)\n",
      "*** DEBUG: shape(output)=(5000,), shape(r_nj)=(5000,), shape(r_ncpu):(5000,)\n",
      "*** DEBUG: shape(output)=(5000,), shape(r_nj)=(5000,), shape(r_ncpu):(5000,)\n",
      "*** DEBUG: shape(output)=(5000,), shape(r_nj)=(5000,), shape(r_ncpu):(5000,)\n",
      "*** DEBUG: shape(output)=(5000,), shape(r_nj)=(5000,), shape(r_ncpu):(5000,)\n",
      "*** DEBUG: shape(output)=(5000,), shape(r_nj)=(5000,), shape(r_ncpu):(5000,)\n",
      "*** DEBUG: shape(output)=(5000,), shape(r_nj)=(5000,), shape(r_ncpu):(5000,)\n",
      "*** DEBUG: shape(output)=(5000,), shape(r_nj)=(5000,), shape(r_ncpu):(5000,)\n",
      "*** DEBUG: shape(output)=(5000,), shape(r_nj)=(5000,), shape(r_ncpu):(5000,)\n",
      "*** DEBUG: shape(output)=(5000,), shape(r_nj)=(5000,), shape(r_ncpu):(5000,)\n",
      "*** DEBUG: shape(output)=(5000,), shape(r_nj)=(5000,), shape(r_ncpu):(5000,)\n",
      "*** DEBUG: shape(output)=(5000,), shape(r_nj)=(5000,), shape(r_ncpu):(5000,)\n",
      "*** DEBUG: shape(output)=(5000,), shape(r_nj)=(5000,), shape(r_ncpu):(5000,)\n",
      "*** DEBUG: shape(output)=(5000,), shape(r_nj)=(5000,), shape(r_ncpu):(5000,)\n",
      "*** DEBUG: shape(output)=(5000,), shape(r_nj)=(5000,), shape(r_ncpu):(5000,)\n",
      "*** DEBUG: shape(output)=(5000,), shape(r_nj)=(5000,), shape(r_ncpu):(5000,)\n",
      "*** DEBUG: shape(output)=(5000,), shape(r_nj)=(5000,), shape(r_ncpu):(5000,)\n",
      "*** DEBUG: shape(output)=(5000,), shape(r_nj)=(5000,), shape(r_ncpu):(5000,)\n",
      "*** DEBUG: shape(output)=(5000,), shape(r_nj)=(5000,), shape(r_ncpu):(5000,)\n",
      "*** DEBUG: shape(output)=(5000,), shape(r_nj)=(5000,), shape(r_ncpu):(5000,)\n",
      "*** DEBUG: shape(output)=(5000,), shape(r_nj)=(5000,), shape(r_ncpu):(5000,)\n",
      "*** DEBUG: shape(output)=(5000,), shape(r_nj)=(5000,), shape(r_ncpu):(5000,)\n",
      "*** DEBUG: shape(output)=(5000,), shape(r_nj)=(5000,), shape(r_ncpu):(5000,)\n",
      "*** DEBUG: shape(output)=(5000,), shape(r_nj)=(5000,), shape(r_ncpu):(5000,)\n",
      "*** DEBUG: shape(output)=(5000,), shape(r_nj)=(5000,), shape(r_ncpu):(5000,)\n",
      "*** DEBUG: shape(output)=(5000,), shape(r_nj)=(5000,), shape(r_ncpu):(5000,)\n",
      "*** DEBUG: shape(output)=(5000,), shape(r_nj)=(5000,), shape(r_ncpu):(5000,)\n",
      "*** DEBUG: shape(output)=(5000,), shape(r_nj)=(5000,), shape(r_ncpu):(5000,)\n",
      "*** DEBUG: shape(output)=(5000,), shape(r_nj)=(5000,), shape(r_ncpu):(5000,)\n",
      "*** DEBUG: shape(output)=(5000,), shape(r_nj)=(5000,), shape(r_ncpu):(5000,)\n",
      "*** DEBUG: shape(output)=(5000,), shape(r_nj)=(5000,), shape(r_ncpu):(5000,)\n",
      "*** DEBUG: shape(output)=(5000,), shape(r_nj)=(5000,), shape(r_ncpu):(5000,)\n",
      "*** DEBUG: shape(output)=(5000,), shape(r_nj)=(5000,), shape(r_ncpu):(5000,)\n",
      "*** DEBUG: shape(output)=(5000,), shape(r_nj)=(5000,), shape(r_ncpu):(5000,)\n",
      "*** DEBUG: shape(output)=(5000,), shape(r_nj)=(5000,), shape(r_ncpu):(5000,)\n",
      "*** DEBUG: shape(output)=(5000,), shape(r_nj)=(5000,), shape(r_ncpu):(5000,)\n",
      "*** DEBUG: shape(output)=(5000,), shape(r_nj)=(5000,), shape(r_ncpu):(5000,)\n",
      "*** DEBUG: shape(output)=(5000,), shape(r_nj)=(5000,), shape(r_ncpu):(5000,)\n",
      "*** DEBUG: shape(output)=(5000,), shape(r_nj)=(5000,), shape(r_ncpu):(5000,)\n",
      "*** DEBUG: shape(output)=(5000,), shape(r_nj)=(5000,), shape(r_ncpu):(5000,)\n",
      "*** DEBUG: shape(output)=(5000,), shape(r_nj)=(5000,), shape(r_ncpu):(5000,)\n",
      "*** DEBUG: shape(output)=(5000,), shape(r_nj)=(5000,), shape(r_ncpu):(5000,)\n",
      "*** DEBUG: shape(output)=(5000,), shape(r_nj)=(5000,), shape(r_ncpu):(5000,)\n",
      "*** DEBUG: shape(output)=(5000,), shape(r_nj)=(5000,), shape(r_ncpu):(5000,)\n",
      "*** DEBUG: shape(output)=(5000,), shape(r_nj)=(5000,), shape(r_ncpu):(5000,)\n",
      "*** DEBUG: shape(output)=(5000,), shape(r_nj)=(5000,), shape(r_ncpu):(5000,)\n",
      "*** DEBUG: shape(output)=(5000,), shape(r_nj)=(5000,), shape(r_ncpu):(5000,)\n",
      "*** DEBUG: shape(output)=(5000,), shape(r_nj)=(5000,), shape(r_ncpu):(5000,)\n",
      "*** DEBUG: shape(output)=(5000,), shape(r_nj)=(5000,), shape(r_ncpu):(5000,)\n",
      "*** DEBUG: shape(output)=(5000,), shape(r_nj)=(5000,), shape(r_ncpu):(5000,)\n",
      "*** DEBUG: shape(output)=(5000,), shape(r_nj)=(5000,), shape(r_ncpu):(5000,)\n",
      "*** DEBUG: shape(output)=(5000,), shape(r_nj)=(5000,), shape(r_ncpu):(5000,)\n",
      "*** DEBUG: shape(output)=(5000,), shape(r_nj)=(5000,), shape(r_ncpu):(5000,)\n",
      "*** DEBUG: shape(output)=(5000,), shape(r_nj)=(5000,), shape(r_ncpu):(5000,)\n",
      "*** DEBUG: shape(output)=(5000,), shape(r_nj)=(5000,), shape(r_ncpu):(5000,)\n",
      "*** DEBUG: shape(output)=(5000,), shape(r_nj)=(5000,), shape(r_ncpu):(5000,)\n",
      "*** DEBUG: shape(output)=(5000,), shape(r_nj)=(5000,), shape(r_ncpu):(5000,)\n",
      "*** DEBUG: shape(output)=(5000,), shape(r_nj)=(5000,), shape(r_ncpu):(5000,)\n",
      "*** DEBUG: shape(output)=(5000,), shape(r_nj)=(5000,), shape(r_ncpu):(5000,)\n",
      "*** DEBUG: shape(output)=(5000,), shape(r_nj)=(5000,), shape(r_ncpu):(5000,)\n",
      "*** DEBUG: shape(output)=(5000,), shape(r_nj)=(5000,), shape(r_ncpu):(5000,)\n",
      "*** DEBUG: shape(output)=(5000,), shape(r_nj)=(5000,), shape(r_ncpu):(5000,)\n",
      "*** DEBUG: shape(output)=(5000,), shape(r_nj)=(5000,), shape(r_ncpu):(5000,)\n",
      "*** DEBUG: shape(output)=(5000,), shape(r_nj)=(5000,), shape(r_ncpu):(5000,)\n",
      "*** DEBUG: shape(output)=(5000,), shape(r_nj)=(5000,), shape(r_ncpu):(5000,)\n",
      "*** DEBUG: shape(output)=(5000,), shape(r_nj)=(5000,), shape(r_ncpu):(5000,)\n",
      "*** DEBUG: shape(output)=(5000,), shape(r_nj)=(5000,), shape(r_ncpu):(5000,)\n",
      "*** DEBUG: shape(output)=(5000,), shape(r_nj)=(5000,), shape(r_ncpu):(5000,)\n",
      "*** DEBUG: shape(output)=(5000,), shape(r_nj)=(5000,), shape(r_ncpu):(5000,)\n",
      "*** DEBUG: shape(output)=(5000,), shape(r_nj)=(5000,), shape(r_ncpu):(5000,)\n",
      "*** DEBUG: shape(output)=(5000,), shape(r_nj)=(5000,), shape(r_ncpu):(5000,)\n",
      "*** DEBUG: shape(output)=(5000,), shape(r_nj)=(5000,), shape(r_ncpu):(5000,)\n",
      "*** DEBUG: shape(output)=(5000,), shape(r_nj)=(5000,), shape(r_ncpu):(5000,)\n",
      "*** DEBUG: shape(output)=(5000,), shape(r_nj)=(5000,), shape(r_ncpu):(5000,)\n",
      "*** DEBUG: shape(output)=(5000,), shape(r_nj)=(5000,), shape(r_ncpu):(5000,)\n",
      "*** DEBUG: shape(output)=(5000,), shape(r_nj)=(5000,), shape(r_ncpu):(5000,)\n",
      "*** DEBUG: shape(output)=(5000,), shape(r_nj)=(5000,), shape(r_ncpu):(5000,)\n",
      "*** DEBUG: shape(output)=(5000,), shape(r_nj)=(5000,), shape(r_ncpu):(5000,)\n",
      "*** DEBUG: shape(output)=(5000,), shape(r_nj)=(5000,), shape(r_ncpu):(5000,)\n",
      "*** DEBUG: shape(output)=(5000,), shape(r_nj)=(5000,), shape(r_ncpu):(5000,)\n"
     ]
    },
    {
     "ename": "AttributeError",
     "evalue": "'SACCT_data_direct' object has no attribute 'compute_mpd_epoch'",
     "output_type": "error",
     "traceback": [
      "\u001b[0;31m---------------------------------------------------------------------------\u001b[0m",
      "\u001b[0;31mAttributeError\u001b[0m                            Traceback (most recent call last)",
      "\u001b[0;32m<ipython-input-4-70b0b24b34a4>\u001b[0m in \u001b[0;36m<module>\u001b[0;34m\u001b[0m\n\u001b[1;32m     26\u001b[0m \u001b[0;32melse\u001b[0m\u001b[0;34m:\u001b[0m\u001b[0;34m\u001b[0m\u001b[0;34m\u001b[0m\u001b[0m\n\u001b[1;32m     27\u001b[0m     \u001b[0mprint\u001b[0m\u001b[0;34m(\u001b[0m\u001b[0;34m'*** Fetching SACCT data directly'\u001b[0m\u001b[0;34m)\u001b[0m\u001b[0;34m\u001b[0m\u001b[0;34m\u001b[0m\u001b[0m\n\u001b[0;32m---> 28\u001b[0;31m     SACCT_obj = hpc_lib.SACCT_data_direct(group=group, partition=partition, start_date=str(start_date),\n\u001b[0m\u001b[1;32m     29\u001b[0m                                           \u001b[0mn_cpu\u001b[0m\u001b[0;34m=\u001b[0m\u001b[0mn_cpus\u001b[0m\u001b[0;34m,\u001b[0m \u001b[0mverbose\u001b[0m\u001b[0;34m=\u001b[0m\u001b[0;36m1\u001b[0m\u001b[0;34m,\u001b[0m\u001b[0;34m\u001b[0m\u001b[0;34m\u001b[0m\u001b[0m\n\u001b[1;32m     30\u001b[0m                                           end_date=str(end_date), keep_raw_data=False)\n",
      "\u001b[0;32m~/Codes/HPC_analytics/hpc_lib.py\u001b[0m in \u001b[0;36m__init__\u001b[0;34m(self, group, partition, delim, start_date, end_date, more_options, delta_t_days, default_catalog_length, format_list, n_cpu, types_dict, verbose, chunk_size, h5out_file, keep_raw_data, raw_output_file, n_points_usage, **kwargs)\u001b[0m\n\u001b[1;32m   1205\u001b[0m         \u001b[0;31m#self.jobs_summary=self.calc_jobs_summary(data)\u001b[0m\u001b[0;34m\u001b[0m\u001b[0;34m\u001b[0m\u001b[0;34m\u001b[0m\u001b[0m\n\u001b[1;32m   1206\u001b[0m         \u001b[0;31m#\u001b[0m\u001b[0;34m\u001b[0m\u001b[0;34m\u001b[0m\u001b[0;34m\u001b[0m\u001b[0m\n\u001b[0;32m-> 1207\u001b[0;31m         \u001b[0msuper\u001b[0m\u001b[0;34m(\u001b[0m\u001b[0mSACCT_data_direct\u001b[0m\u001b[0;34m,\u001b[0m \u001b[0mself\u001b[0m\u001b[0;34m)\u001b[0m\u001b[0;34m.\u001b[0m\u001b[0m__init__\u001b[0m\u001b[0;34m(\u001b[0m\u001b[0mdelim\u001b[0m\u001b[0;34m=\u001b[0m\u001b[0mdelim\u001b[0m\u001b[0;34m,\u001b[0m \u001b[0mstart_date\u001b[0m\u001b[0;34m=\u001b[0m\u001b[0mstart_date\u001b[0m\u001b[0;34m,\u001b[0m \u001b[0mend_date\u001b[0m\u001b[0;34m=\u001b[0m\u001b[0mend_date\u001b[0m\u001b[0;34m,\u001b[0m \u001b[0mh5out_file\u001b[0m\u001b[0;34m=\u001b[0m\u001b[0mh5out_file\u001b[0m\u001b[0;34m,\u001b[0m \u001b[0mkeep_raw_data\u001b[0m\u001b[0;34m=\u001b[0m\u001b[0mkeep_raw_data\u001b[0m\u001b[0;34m,\u001b[0m\u001b[0mn_points_usage\u001b[0m\u001b[0;34m=\u001b[0m\u001b[0mn_points_usage\u001b[0m\u001b[0;34m,\u001b[0m \u001b[0mn_cpu\u001b[0m\u001b[0;34m=\u001b[0m\u001b[0mn_cpu\u001b[0m\u001b[0;34m,\u001b[0m \u001b[0mtypes_dict\u001b[0m\u001b[0;34m=\u001b[0m\u001b[0mtypes_dict\u001b[0m\u001b[0;34m,\u001b[0m \u001b[0mverbose\u001b[0m\u001b[0;34m=\u001b[0m\u001b[0mverbose\u001b[0m\u001b[0;34m,\u001b[0m \u001b[0mchunk_size\u001b[0m\u001b[0;34m=\u001b[0m\u001b[0mchunk_size\u001b[0m\u001b[0;34m,\u001b[0m \u001b[0;34m**\u001b[0m\u001b[0mkwargs\u001b[0m\u001b[0;34m)\u001b[0m\u001b[0;34m\u001b[0m\u001b[0;34m\u001b[0m\u001b[0m\n\u001b[0m\u001b[1;32m   1208\u001b[0m         \u001b[0;31m#\u001b[0m\u001b[0;34m\u001b[0m\u001b[0;34m\u001b[0m\u001b[0;34m\u001b[0m\u001b[0m\n\u001b[1;32m   1209\u001b[0m         \u001b[0;31m#del data\u001b[0m\u001b[0;34m\u001b[0m\u001b[0;34m\u001b[0m\u001b[0;34m\u001b[0m\u001b[0m\n",
      "\u001b[0;32m~/Codes/HPC_analytics/hpc_lib.py\u001b[0m in \u001b[0;36m__init__\u001b[0;34m(self, data_file_name, delim, max_rows, types_dict, chunk_size, n_cpu, n_points_usage, verbose, keep_raw_data, h5out_file, qs_default, **kwargs)\u001b[0m\n\u001b[1;32m    233\u001b[0m \u001b[0;31m#        if yr_tesst < 1000:\u001b[0m\u001b[0;34m\u001b[0m\u001b[0;34m\u001b[0m\u001b[0;34m\u001b[0m\u001b[0m\n\u001b[1;32m    234\u001b[0m \u001b[0;31m#            dt_epoch =  dt_mod_epoch\u001b[0m\u001b[0;34m\u001b[0m\u001b[0;34m\u001b[0m\u001b[0;34m\u001b[0m\u001b[0m\n\u001b[0;32m--> 235\u001b[0;31m         \u001b[0mdt_mod_epoch\u001b[0m \u001b[0;34m=\u001b[0m \u001b[0mself\u001b[0m\u001b[0;34m.\u001b[0m\u001b[0mcompute_mpd_epoch\u001b[0m\u001b[0;34m\u001b[0m\u001b[0;34m\u001b[0m\u001b[0m\n\u001b[0m\u001b[1;32m    236\u001b[0m         \u001b[0;31m#\u001b[0m\u001b[0;34m\u001b[0m\u001b[0;34m\u001b[0m\u001b[0;34m\u001b[0m\u001b[0m\n\u001b[1;32m    237\u001b[0m         \u001b[0mprint\u001b[0m\u001b[0;34m(\u001b[0m\u001b[0;34mf'*** DEBUG:: epoch: {dt_epoch}'\u001b[0m\u001b[0;34m)\u001b[0m\u001b[0;34m\u001b[0m\u001b[0;34m\u001b[0m\u001b[0m\n",
      "\u001b[0;31mAttributeError\u001b[0m: 'SACCT_data_direct' object has no attribute 'compute_mpd_epoch'"
     ]
    }
   ],
   "source": [
    "N_report_len = 18\n",
    "end_dtm = dtm.datetime(2022,6,20)\n",
    "end_date = end_dtm.date()\n",
    "start_date = end_date - dtm.timedelta(days=N_report_len)\n",
    "print('*** dates: {} - {}'.format(start_date, end_date))\n",
    "partition='serc'\n",
    "#partition=None\n",
    "group=None\n",
    "s_user=None\n",
    "# group='oneillm'\n",
    "# group='edunham'\n",
    "#s_user = 'labraha2'\n",
    "#\n",
    "sacct_h5_file = f'sacct_data/sacct_p{str(partition).upper()}_g{str(group).upper()}_u{s_user}_{start_date.year:04}{start_date.month:02}{start_date.day:02}_{end_dtm.year:04}{end_dtm.month:02}{end_dtm.day:02}.h5'\n",
    "print(f'*** sacct_h5_file: {sacct_h5_file}')\n",
    "# NOTE: to get individual users, eg to get Eric's group usage:\n",
    "#. sacct --allusers --user=labraha2 --start=2022-01-01 --end=2022-06-15\n",
    "#\n",
    "# NOTE: additional options can be passed in the more_options=[] arrary, or just as sacct_{option-name}={val}\n",
    "#\n",
    "if os.path.isfile(sacct_h5_file):\n",
    "    print('*** Creating SACCT object from HDF5 {}'.format(sacct_h5_file))\n",
    "    SACCT_obj = hpc_lib.SACCT_data_from_h5(sacct_h5_file, keep_raw_data=False, n_cpu=n_cpus)\n",
    "    #\n",
    "    \n",
    "else:\n",
    "    print('*** Fetching SACCT data directly')\n",
    "    SACCT_obj = hpc_lib.SACCT_data_direct(group=group, partition=partition, start_date=str(start_date),\n",
    "                                          n_cpu=n_cpus, verbose=1,\n",
    "                                          end_date=str(end_date), keep_raw_data=False)\n",
    "    # , sacct_user=s_user\n",
    "    print(f'** writing HDF5: {sacct_h5_file}')\n",
    "    SACCT_obj.write_hdf5(sacct_h5_file)\n",
    "    #\n",
    "#\n",
    "print('** ', SACCT_obj.jobs_summary.dtype.names)"
   ]
  },
  {
   "cell_type": "code",
   "execution_count": null,
   "metadata": {},
   "outputs": [],
   "source": [
    "# check date epoch:\n",
    "dt_test = SACCT_obj.jobs_summary['Start'][0]\n",
    "yr_test = mpd.num2date(dt_test).year\n",
    "print(f'** yr_test: {yr_test}')\n",
    "#print('** ', mpd.num2epoch(dt_test))\n",
    "if yr_test>3000:\n",
    "    mpd.set_epoch('0000-12-31T00:00:00')\n",
    "yr_test = mpd.num2date(dt_test)\n",
    "print(f'** yr_test: {yr_test}')"
   ]
  },
  {
   "cell_type": "code",
   "execution_count": null,
   "metadata": {},
   "outputs": [],
   "source": [
    "cpuh_bin = 1.\n",
    "cpu_hrs_jobs = SACCT_obj.get_cpu_hours_layer_cake_depricated(layer_field='Partition', verbose=True, bin_size=cpuh_bin)"
   ]
  },
  {
   "cell_type": "code",
   "execution_count": null,
   "metadata": {},
   "outputs": [],
   "source": [
    "\n",
    "print('** ', SACCT_obj.jobs_summary.dtype)\n",
    "print('** ', type(SACCT_obj.jobs_summary['User'][0]))\n",
    "#\n",
    "my_ary = numpy.array(len(SACCT_obj.jobs_summary), dtype=SACCT_obj.jobs_summary.dtype)\n",
    "print('** ', my_ary.dtype)\n",
    "#\n",
    "for cl,tp in SACCT_obj.jobs_summary.dtype.descr:\n",
    "    print('** ', cl, tp)\n",
    "    \n",
    "\n",
    "print('** ** ', SACCT_obj.jobs_summary['Group'].astype(str)[0])\n"
   ]
  },
  {
   "cell_type": "code",
   "execution_count": null,
   "metadata": {},
   "outputs": [],
   "source": [
    "print('*** ', cpu_hrs_jobs.keys())\n",
    "print('*** ', cpu_hrs_jobs['sep']['cpu_hours'].dtype)"
   ]
  },
  {
   "cell_type": "code",
   "execution_count": null,
   "metadata": {},
   "outputs": [],
   "source": [
    "print('** ', cpu_hrs_jobs['sep']['cpu_hours']['time'][0:25])"
   ]
  },
  {
   "cell_type": "code",
   "execution_count": null,
   "metadata": {},
   "outputs": [],
   "source": [
    "fg = plt.figure(figsize=(20,8))\n",
    "ax1 = fg.add_subplot(1,2,1)\n",
    "ax2 = fg.add_subplot(1,2,2)\n",
    "ax1.grid()\n",
    "#\n",
    "N_max = float(130*24*24)\n",
    "#\n",
    "cpuh = next(iter(cpu_hrs_jobs.values()))\n",
    "z = numpy.zeros(len(cpuh['cpu_hours']))\n",
    "X = cpuh['cpu_hours']['time']\n",
    "dX = X[1]-X[0]\n",
    "#\n",
    "elapsed = {}\n",
    "\n",
    "for pt,vls in cpu_hrs_jobs.items():\n",
    "#     if vls['elapsed'] == 0.:\n",
    "#         continue\n",
    "    #print('*** {}: {}'.format(pt, vls.keys()))\n",
    "    #\n",
    "    elapsed[pt]=vls['elapsed']\n",
    "    #\n",
    "    z_prev = z.copy()\n",
    "    dz = vls['cpu_hours']['cpu_hours']\n",
    "    print('*** {}: sum(dz): {}'.format(pt, dX*numpy.sum(dz)/cpuh_bin))\n",
    "    z += dz\n",
    "    ln, = ax1.plot(X, z, label=pt)\n",
    "    clr = ln.get_color()\n",
    "    ax1.fill_between(X, z_prev, z, color=clr, alpha=.2)\n",
    "    #\n",
    "    #ax1.fill_between(X, z_prev, z, alpha=.2)\n",
    "\n",
    "ax1.plot(X[0::len(X)-1], numpy.ones(2)*N_max, ls='--', lw=3.)\n",
    "ax1.legend(loc=0)\n",
    "#\n",
    "# fg.canvas.draw()\n",
    "# print('*** ax1.get_xticklabels(): ', [s.get_text() for s in ax1.get_xticklabels()])\n",
    "\n",
    "# lbls = [hpc_lib.simple_date_string(mpd.num2date(float(hpc_lib.fix_to_ascii(str(s.get_text())))) ) \n",
    "#          for s in ax1.get_xticklabels()]\n",
    "# print('*** ', [s for s in ax1.get_xticklabels()])\n",
    "# print('*** ', [s.get_position()[0] for s in ax1.get_xticklabels()])\n",
    "# ax1.set_xticklabels(lbls)\n",
    "# fg.canvas.draw()\n",
    "#\n",
    "pi_lbls, pi_vls = zip(*list(elapsed.items()))\n",
    "pi_lbls = [f'{lbl}: {24.*x/1000:.1f}k' for lbl,x in zip(pi_lbls, pi_vls)]\n",
    "ax2.pie(pi_vls, labels=pi_lbls)\n",
    "#\n",
    "for ky,vl in elapsed.items():\n",
    "    print(f'{ky}: {vl*24.} cpu-hrs')\n",
    "    "
   ]
  },
  {
   "cell_type": "code",
   "execution_count": null,
   "metadata": {},
   "outputs": [],
   "source": [
    "print('** ', numpy.sum([x for x in elapsed.values()])*24.)\n"
   ]
  },
  {
   "cell_type": "code",
   "execution_count": null,
   "metadata": {},
   "outputs": [],
   "source": [
    "print('*** ', numpy.min(SACCT_obj.jobs_summary['Start']) , numpy.min(SACCT_obj.jobs_summary['End']))"
   ]
  },
  {
   "cell_type": "code",
   "execution_count": null,
   "metadata": {},
   "outputs": [],
   "source": [
    "# Now, let's get a some reports for specific users, namely Lauren and Eric's former student(s) to estimate\n",
    "#. requirements for their successors.\n",
    "#\n",
    "# Also, TODO: layer cake for active_cpus ?\n",
    "# NOTE: for up and coming \"how busy is the queue?\" reporting, something like this:\n",
    "# squeue -p serc --Format=jobid,jobarrayid,partition,username,state,timeused,timeleft,allocnodes,numnodes,numcpus\n"
   ]
  },
  {
   "cell_type": "code",
   "execution_count": null,
   "metadata": {},
   "outputs": [],
   "source": [
    "cpuh_jobs = SACCT_obj.get_cpu_hours(bin_size=1., n_points=5000)"
   ]
  },
  {
   "cell_type": "code",
   "execution_count": null,
   "metadata": {},
   "outputs": [],
   "source": [
    "cpuh_layers = SACCT_obj.get_cpu_hours_layer_cake(bin_size=1.)"
   ]
  },
  {
   "cell_type": "code",
   "execution_count": null,
   "metadata": {},
   "outputs": [],
   "source": [
    "# d = {'d':1, 'e':3, 'f':0, 'a':2, 'b':7}\n",
    "# print('** ', d)"
   ]
  },
  {
   "cell_type": "code",
   "execution_count": null,
   "metadata": {},
   "outputs": [],
   "source": [
    "fg = plt.figure(figsize=(20,16))\n",
    "ax1 = fg.add_subplot(2,2,1)\n",
    "ax2 = fg.add_subplot(2,2,2)\n",
    "ax3 = fg.add_subplot(2,2,3)\n",
    "ax4 = fg.add_subplot(2,2,4)\n",
    "ax1.grid()\n",
    "ax2.grid()\n",
    "#\n",
    "ax1.set_title('CPU Hours (per day)', size=16)\n",
    "ax2.set_title('Jobs (per day?)', size=16)\n",
    "#\n",
    "cpuh = cpuh_layers['cpu_hours']\n",
    "jobs = cpuh_layers['jobs']\n",
    "T = cpuh['time']\n",
    "\n",
    "print('*** ', cpuh.dtype)\n",
    "print('*** ', cpuh['time'][0:10])\n",
    "print('*** ', cpuh['twohour'][0:10])\n",
    "\n",
    "z_cpuh = numpy.zeros(len(cpuh))\n",
    "z_jobs = numpy.zeros(len(jobs))\n",
    "for lyr in cpuh.dtype.names:\n",
    "    if lyr == 'time':\n",
    "        continue\n",
    "    #\n",
    "    z_cpuh_prev = z_cpuh.copy()\n",
    "    z_jobs_prev = z_jobs.copy()\n",
    "    dz_cpuh = cpuh[lyr]\n",
    "    dz_jobs = jobs[lyr]\n",
    "    #\n",
    "    z_cpuh += dz_cpuh\n",
    "    z_jobs += dz_jobs\n",
    "    #\n",
    "    \n",
    "    ln_cpuh, = ax1.plot(T, z_cpuh, ls='-', alpha=.8, label=lyr)\n",
    "    clr = ln_cpuh.get_color()\n",
    "    ax1.fill_between(T, z_cpuh_prev, z_cpuh, color=clr, alpha=.2)\n",
    "    #\n",
    "    ln_jobs, = ax2.plot(T, z_jobs, ls='-', alpha=.8)\n",
    "    clr = ln_jobs.get_color()\n",
    "    ax2.fill_between(T, z_jobs_prev, z_jobs, color=clr, alpha=.2, label=lyr)\n",
    "#\n",
    "# pi charts. left: cpu-hours, right job-time\n",
    "pi_cpuh_lbls, pi_cpuh_vls = zip(*list(cpuh_layers['elapsed'].items()))\n",
    "pi_jobs_lbls, pi_jobs_vls = zip(*list({ky:numpy.sum(SACCT_obj.jobs_summary['Elapsed'][SACCT_obj.jobs_summary['Partition']==ky.encode()]) for ky in cpuh.dtype.names[1:]}.items()))\n",
    "#\n",
    "ax3.pie(pi_cpuh_vls, labels=pi_cpuh_lbls)\n",
    "ax4.pie(pi_jobs_vls, labels=pi_jobs_lbls)\n",
    "#\n",
    "ax1.legend(loc=0)\n",
    "ax2.legend(loc=0)\n",
    "#\n",
    "fg.canvas.draw()\n",
    "# for ax in (ax1, ax2):\n",
    "#     lbls = [hpc_lib.simple_date_string(mpd.num2date(float(hpc_lib.fix_to_ascii(str(s.get_text())))) ) \n",
    "#              for s in ax.get_xticklabels()]\n",
    "#     ax.set_xticklabels(lbls)\n",
    "#fg.canvas.draw()\n",
    "#lbls = [hpc_lib.simple_date_string(mpd.num2date(float(hpc_lib.fix_to_ascii(str(s.get_text())))) ) \n",
    "#         for s in ax1.get_xticklabels()]\n",
    "#ax1.set_xticklabels(lbls)\n"
   ]
  },
  {
   "cell_type": "code",
   "execution_count": null,
   "metadata": {},
   "outputs": [],
   "source": [
    "pi_cpuh_vls, pi_cpuh_lbls = zip(*list(cpuh_layers['elapsed'].items()))\n",
    "pi_jobs_vls, pi_jobs_lbls = zip(*list({ky:numpy.sum(SACCT_obj.jobs_summary['Elapsed'][SACCT_obj.jobs_summary['Partition']==ky.encode()]) for ky in cpuh.dtype.names[1:]}.items()))"
   ]
  },
  {
   "cell_type": "code",
   "execution_count": null,
   "metadata": {},
   "outputs": [],
   "source": [
    "print('** ', pi_cpuh_vls, pi_cpuh_lbls)\n",
    "print('** ', pi_jobs_vls, pi_jobs_lbls)"
   ]
  },
  {
   "cell_type": "code",
   "execution_count": null,
   "metadata": {},
   "outputs": [],
   "source": [
    "jobs_cpu = SACCT_obj.active_jobs_cpu(n_points=5000, bin_size=None, t_min=None, t_max=None, t_now=None, n_cpu=None, \n",
    "                                     jobs_summary=None, verbose=None, mpp_chunksize=10000, nan_to=0.)\n"
   ]
  },
  {
   "cell_type": "code",
   "execution_count": null,
   "metadata": {},
   "outputs": [],
   "source": [
    "jobs_cpu.dtype"
   ]
  },
  {
   "cell_type": "code",
   "execution_count": null,
   "metadata": {},
   "outputs": [],
   "source": [
    "acpu_layer_cake = SACCT_obj.get_active_cpus_layer_cake(layer_field='Partition')"
   ]
  },
  {
   "cell_type": "code",
   "execution_count": null,
   "metadata": {},
   "outputs": [],
   "source": [
    "print('** ', acpu_layer_cake.keys())\n",
    "print('** ', len(T)/(T[-1] - T[0]))\n"
   ]
  },
  {
   "cell_type": "code",
   "execution_count": null,
   "metadata": {},
   "outputs": [],
   "source": [
    "fg = plt.figure(figsize=(20,16))\n",
    "ax1 = fg.add_subplot(2,2,1)\n",
    "ax2 = fg.add_subplot(2,2,2)\n",
    "ax3 = fg.add_subplot(2,2,3)\n",
    "ax4 = fg.add_subplot(2,2,4)\n",
    "ax1.grid()\n",
    "ax2.grid()\n",
    "#\n",
    "ax1.set_title('Active CPUs', size=16)\n",
    "ax2.set_title('Active Jobs', size=16)\n",
    "ax3.set_title('CDF: Active CPUs', size=16)\n",
    "ax4.set_title('CDF: Active Jobs', size=16)\n",
    "#\n",
    "cpus = acpu_layer_cake['N_cpu']\n",
    "jobs = acpu_layer_cake['N_jobs']\n",
    "T = cpus['time']\n",
    "N_max = 150*24.\n",
    "#\n",
    "print('*** ', cpus.dtype)\n",
    "print('*** ', cpus['time'][0:10])\n",
    "print('*** ', cpus['twohour'][0:10])\n",
    "#\n",
    "hpc_lib.plot_layer_cake(data=acpu_layer_cake['N_cpu'], ax=ax1)\n",
    "hpc_lib.plot_layer_cake(data=acpu_layer_cake['N_jobs'], ax=ax2)\n",
    "#\n",
    "# z_cpus = numpy.zeros(len(cpus))\n",
    "# z_jobs = numpy.zeros(len(jobs))\n",
    "# for lyr in cpus.dtype.names:\n",
    "#     if lyr == 'time':\n",
    "#         continue\n",
    "#     #\n",
    "#     z_cpus_prev = z_cpus.copy()\n",
    "#     z_jobs_prev = z_jobs.copy()\n",
    "#     dz_cpus = cpus[lyr]\n",
    "#     dz_jobs = jobs[lyr]\n",
    "#     #\n",
    "#     z_cpus += dz_cpus\n",
    "#     z_jobs += dz_jobs\n",
    "#     #\n",
    "#     ln_cpus, = ax1.plot(T, z_cpus, ls='-', alpha=.8)\n",
    "#     clr = ln_cpus.get_color()\n",
    "#     ax1.fill_between(T, z_cpus_prev, z_cpus, color=clr, alpha=.2, label=lyr)\n",
    "#     #\n",
    "#     ln_jobs, = ax2.plot(T, z_jobs, ls='-', alpha=.8)\n",
    "#     clr = ln_jobs.get_color()\n",
    "#     ax2.fill_between(T, z_jobs_prev, z_jobs, color=clr, alpha=.2, label=lyr)\n",
    "#\n",
    "# get an ave-len of about a day...\n",
    "n_days=5.\n",
    "ave_len = int(numpy.ceil(n_days*len(T)/(T[-1] - T[0])))\n",
    "#z_cpus = acpu_layer_cake['N_cpu'].dtype.names\n",
    "Y1 = ax1.get_lines()[-1].get_ydata()\n",
    "Y2 = ax2.get_lines()[-1].get_ydata()\n",
    "z_cpus_smooth = hpc_lib.running_mean(Y1, ave_len)\n",
    "z_jobs_smooth = hpc_lib.running_mean(Y2, ave_len)\n",
    "#\n",
    "ax1.plot(T[-len(z_cpus_smooth):], z_cpus_smooth, ls='-', marker='', lw=2, label=f'{n_days} days-ave')\n",
    "ax2.plot(T[-len(z_jobs_smooth):], z_jobs_smooth, ls='-', marker='', lw=2, label=f'{n_days} days-ave')\n",
    "#\n",
    "# # pi charts. left: cpu-hours, right job-time\n",
    "def f_ix(ky, sacct_obj):\n",
    "    return [sacct_obj.jobs_summary['Partition']==ky.encode()]\n",
    "#\n",
    "# Pie charts aren't really \n",
    "# pi_cpus_lbls, pi_cpus_vls = zip(*list({ky:numpy.sum(SACCT_obj.jobs_summary['Elapsed'][f_ix(ky, SACCT_obj)]*SACCT_obj.jobs_summary['NCPUS'][f_ix(ky, SACCT_obj)]) for ky in cpuh.dtype.names[1:]}.items()))\n",
    "# pi_jobs_lbls, pi_jobs_vls = zip(*list({ky:numpy.sum(SACCT_obj.jobs_summary['Elapsed'][SACCT_obj.jobs_summary['Partition']==ky.encode()]) for ky in cpuh.dtype.names[1:]}.items()))\n",
    "# # #\n",
    "# ax3.pie(pi_cpus_vls, labels=pi_cpus_lbls)\n",
    "# ax4.pie(pi_jobs_vls, labels=pi_jobs_lbls)\n",
    "#\n",
    "qs = numpy.array([.5, .75, .9])\n",
    "qs_cpus = numpy.quantile(z_cpus, qs)\n",
    "qs_jobs = numpy.quantile(z_jobs, qs)\n",
    "#\n",
    "hh_cpus = ax3.hist(z_cpus, bins=100, cumulative=True, density=True, histtype='step', lw=3.)\n",
    "for x,y in zip(qs_cpus, qs):\n",
    "    #ax3.plot([0., qs_cpus[-1], qs_cpus[-1]], [qs[-1], qs[-1], 0.], ls='--', color='r', lw=2. )\n",
    "    ax3.plot([0., x, x], [y, y, 0.], ls='--', lw=2., label=f'{y*100.}th %: {x:.0f} cpus' )\n",
    "#\n",
    "hh_jobs = ax4.hist(z_jobs, bins=100, cumulative=True, density=True, histtype='step', lw=3.)\n",
    "for x,y in zip(qs_jobs, qs):\n",
    "    #ax3.plot([0., qs_cpus[-1], qs_cpus[-1]], [qs[-1], qs[-1], 0.], ls='--', color='r', lw=2. )\n",
    "    ax4.plot([0., x, x], [y, y, 0.], ls='--', lw=2., label=f'{y*100.}th %: {x:.0f} jobs' )\n",
    "\n",
    "\n",
    "\n",
    "#\n",
    "ax1.plot(T[0::len(T)-1], numpy.ones(2)*N_max, ls='--', lw=3.0  )\n",
    "#\n",
    "ax1.legend(loc=0)\n",
    "ax2.legend(loc=0)\n",
    "ax3.legend(loc=0)\n",
    "ax4.legend(loc=0)\n",
    "#\n",
    "ax3.grid()\n",
    "ax4.grid()\n",
    "\n",
    "# fg.canvas.draw()\n",
    "# for ax in (ax1, ax2):\n",
    "#     lbls = [hpc_lib.simple_date_string(mpd.num2date(float(hpc_lib.fix_to_ascii(str(s.get_text())))) ) \n",
    "#              for s in ax.get_xticklabels()]\n",
    "#     ax.set_xticklabels(lbls)\n",
    "# fg.canvas.draw()\n",
    "\n"
   ]
  },
  {
   "cell_type": "code",
   "execution_count": null,
   "metadata": {},
   "outputs": [],
   "source": [
    "print('*** ', mpd.num2date(738150))\n",
    "print('*** ', mpd.date2num(dtm.datetime(2022,1,1)))\n",
    "print('*** ', 3600/24)\n",
    "#\n",
    "print('** ', SACCT_obj.jobs_summary.dtype.descr)\n",
    "print('** cpu_hours capacity: ', 350*24*24)\n",
    "print('** quantiles_cpu: ', qs_cpus)"
   ]
  },
  {
   "cell_type": "code",
   "execution_count": null,
   "metadata": {},
   "outputs": [],
   "source": []
  },
  {
   "cell_type": "code",
   "execution_count": null,
   "metadata": {},
   "outputs": [],
   "source": [
    "fg = plt.figure(figsize=(20,16))\n",
    "ax1 = fg.add_subplot(2,2,1)\n",
    "ax2 = fg.add_subplot(2,2,2)\n",
    "ax3 = fg.add_subplot(2,2,3)\n",
    "ax4 = fg.add_subplot(2,2,4)\n",
    "ax1.grid()\n",
    "ax2.grid()\n",
    "#\n",
    "ax1.set_title('CPU Hours (per day)', size=16)\n",
    "ax2.set_title('Jobs (per day?)', size=16)\n",
    "#\n",
    "cpuh = cpuh_layers['cpu_hours']\n",
    "hpc_lib.plot_layer_cake(data=cpuh_layers['cpu_hours'], ax=ax1)\n",
    "hpc_lib.plot_layer_cake(data=cpuh_layers['jobs'], ax=ax2)"
   ]
  },
  {
   "cell_type": "code",
   "execution_count": null,
   "metadata": {},
   "outputs": [],
   "source": []
  }
 ],
 "metadata": {
  "kernelspec": {
   "display_name": "Python 3",
   "language": "python",
   "name": "python3"
  },
  "language_info": {
   "codemirror_mode": {
    "name": "ipython",
    "version": 3
   },
   "file_extension": ".py",
   "mimetype": "text/x-python",
   "name": "python",
   "nbconvert_exporter": "python",
   "pygments_lexer": "ipython3",
   "version": "3.8.8"
  }
 },
 "nbformat": 4,
 "nbformat_minor": 4
}
