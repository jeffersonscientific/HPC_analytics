{
 "cells": [
  {
   "cell_type": "code",
   "execution_count": null,
   "metadata": {},
   "outputs": [],
   "source": [
    "%load_ext autoreload\n",
    "%autoreload 2\n",
    "%matplotlib inline"
   ]
  },
  {
   "cell_type": "code",
   "execution_count": null,
   "metadata": {},
   "outputs": [],
   "source": [
    "import numpy\n",
    "import scipy\n",
    "import matplotlib\n",
    "import matplotlib.dates as mpd\n",
    "import pylab as plt\n",
    "import datetime as dtm\n",
    "#import multiprocessing as mpp\n",
    "#import pickle\n",
    "#\n",
    "import os\n",
    "import subprocess\n",
    "#\n",
    "# TODO: phase out unreferenced hpc_lib calls...\n",
    "import hpc_lib\n",
    "#from hpc_lib import SACCT_data_handler\n",
    "from hpc_lib import *\n",
    "#\n",
    "import pandas\n",
    "import pathlib\n"
   ]
  },
  {
   "cell_type": "markdown",
   "metadata": {},
   "source": [
    "### Subprocess() and PySLURM demo\n",
    "Some helper and starter scripts using `subprocess()` and possibly `pyslurm` interfaces. The general idea is to develop some sample and portable production(ish) codes to manage complex system programs (aka, using Python to run and manage executables) and to launch and manage HPC jobs.\n",
    "\n",
    "The general strategy is to start with `subprocess()`, and then use `subprocess()` to launch, monitor, and manage `SLURM` jobs on the HPC. We will then evaluate the `pyslurm` Python module. It is unclear, at this time, how development on this package has panned out, and what are its capabilities. As appropriate and possible, we will consider an initiative to allocate resources to contribute to the development of this project.\n"
   ]
  },
  {
   "cell_type": "code",
   "execution_count": null,
   "metadata": {},
   "outputs": [],
   "source": [
    "# Simple subprocess() examples.\n",
    "# starting with examples from:\n",
    "#. https://www.journaldev.com/16140/python-system-command-os-subprocess-call#python-subprocesscall-function\n",
    "#\n",
    "my_command = \"date\"\n",
    "#\n",
    "# you can launch a system command using os.system():\n",
    "sys_response = os.system(my_command)\n",
    "#\n",
    "# but this only returns the system return code:\n",
    "print('sys_response: {}'.format(sys_response))\n",
    "#\n",
    "# if you run `date` on your terminal command line, you'll get... the date.\n",
    "#\n",
    "# but we can use a subprocess() "
   ]
  },
  {
   "cell_type": "code",
   "execution_count": null,
   "metadata": {},
   "outputs": [],
   "source": [
    "sp = subprocess.check_output(my_command)"
   ]
  },
  {
   "cell_type": "code",
   "execution_count": null,
   "metadata": {},
   "outputs": [],
   "source": [
    "print('** sp: ', sp, sp.decode())\n",
    "print('** type(sp): ', type(sp))"
   ]
  },
  {
   "cell_type": "code",
   "execution_count": null,
   "metadata": {},
   "outputs": [],
   "source": [
    "subprocess.run(my_command, shell=True, check=True)"
   ]
  },
  {
   "cell_type": "code",
   "execution_count": null,
   "metadata": {},
   "outputs": [],
   "source": [
    "subprocess.run(my_command, shell=False, check=False)"
   ]
  },
  {
   "cell_type": "code",
   "execution_count": null,
   "metadata": {},
   "outputs": [],
   "source": [
    "spr = subprocess.run(my_command, shell=True, check=True)\n",
    "spr2 = subprocess.run(my_command, check=True, stdout=subprocess.PIPE)"
   ]
  },
  {
   "cell_type": "code",
   "execution_count": null,
   "metadata": {},
   "outputs": [],
   "source": [
    "print('** ', spr.returncode)\n",
    "print('** ', spr.stderr)\n",
    "print('** ', spr.stdout"
   ]
  },
  {
   "cell_type": "code",
   "execution_count": null,
   "metadata": {},
   "outputs": [],
   "source": []
  }
 ],
 "metadata": {
  "kernelspec": {
   "display_name": "Python 3",
   "language": "python",
   "name": "python3"
  },
  "language_info": {
   "codemirror_mode": {
    "name": "ipython",
    "version": 3
   },
   "file_extension": ".py",
   "mimetype": "text/x-python",
   "name": "python",
   "nbconvert_exporter": "python",
   "pygments_lexer": "ipython3",
   "version": "3.7.3"
  }
 },
 "nbformat": 4,
 "nbformat_minor": 2
}
