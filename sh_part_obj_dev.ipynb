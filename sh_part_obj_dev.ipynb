{
 "cells": [
  {
   "cell_type": "code",
   "execution_count": 3,
   "id": "975093c5",
   "metadata": {},
   "outputs": [
    {
     "name": "stdout",
     "output_type": "stream",
     "text": [
      "The autoreload extension is already loaded. To reload it, use:\n",
      "  %reload_ext autoreload\n"
     ]
    }
   ],
   "source": [
    "%load_ext autoreload\n",
    "%autoreload 2\n",
    "%matplotlib inline"
   ]
  },
  {
   "cell_type": "code",
   "execution_count": 4,
   "id": "ef68da7b",
   "metadata": {},
   "outputs": [],
   "source": [
    "import numpy\n",
    "import scipy\n",
    "import math\n",
    "import matplotlib as mpl\n",
    "import matplotlib.dates as mpd\n",
    "import pylab as plt\n",
    "import datetime as dtm\n",
    "import sys\n",
    "import os\n",
    "#import socket\n",
    "#import lmod\n",
    "# lmod.load('system')\n",
    "# lmod.load('texlive')\n",
    "# lmod.\n",
    "#\n",
    "# TODO: phase out unreferenced hpc_lib calls...\n",
    "import hpc_lib"
   ]
  },
  {
   "cell_type": "code",
   "execution_count": 5,
   "id": "38006f45",
   "metadata": {},
   "outputs": [
    {
     "name": "stdout",
     "output_type": "stream",
     "text": [
      "*** n_cpus: 4\n"
     ]
    }
   ],
   "source": [
    "n_cpus = 4\n",
    "#print('** epoch: {}'.format(mpd.get_epoch()))\n",
    "if 'SLURM_CPUS_PER_TASK' in os.environ.keys():\n",
    "    n_cpus = int(os.environ['SLURM_CPUS_PER_TASK'])\n",
    "#\n",
    "print(f'*** n_cpus: {n_cpus}')\n"
   ]
  },
  {
   "cell_type": "code",
   "execution_count": 35,
   "id": "c80143dc",
   "metadata": {},
   "outputs": [],
   "source": [
    "SHP = hpc_lib.SH_PART_obj()"
   ]
  },
  {
   "cell_type": "code",
   "execution_count": 43,
   "id": "dd16aba3",
   "metadata": {},
   "outputs": [
    {
     "name": "stdout",
     "output_type": "stream",
     "text": [
      "**  Index(['partition_name', 'partition_public', 'nodes_idle', 'nodes_total',\n",
      "       'cpu_cores_idle', 'cpu_cores_total', 'cpu_cores_queued', 'gpus_idle',\n",
      "       'gpus_total', 'gpus_queued', 'job_runtime_default',\n",
      "       'job_runtime_maximum', 'mem/core_default', 'mem/core_maximum',\n",
      "       'per-node_cores', 'per-node_mem(gb)', 'per-node_gpus'],\n",
      "      dtype='object')\n",
      "**  9104 9104 12422\n",
      "**  13924\n",
      "**  17652\n",
      "**  72\n"
     ]
    }
   ],
   "source": [
    "print('** ', SHP.cols)\n",
    "print('** ', SHP.get_total_cpus('serc'), SHP.get_total('cpu_cores_total', 'serc'), SHP.get_total('cpu_cores_queued', 'serc') )\n",
    "print('** ', SHP.get_total('cpu_cores_total','serc,normal'))\n",
    "print('** ', SHP.get_total_cpus('serc,normal,hns'))\n",
    "print('** ', SHP.get_total('gpus_queued', 'serc,hns'))"
   ]
  },
  {
   "cell_type": "code",
   "execution_count": 37,
   "id": "b2eb4478",
   "metadata": {},
   "outputs": [
    {
     "name": "stdout",
     "output_type": "stream",
     "text": [
      "**  Index(['partition_name', 'partition_public', 'nodes_idle', 'nodes_total',\n",
      "       'cpu_cores_idle', 'cpu_cores_total', 'cpu_cores_queued', 'gpus_idle',\n",
      "       'gpus_total', 'gpus_queued', 'job_runtime_default',\n",
      "       'job_runtime_maximum', 'mem/core_default', 'mem/core_maximum',\n",
      "       'per-node_cores', 'per-node_mem(gb)', 'per-node_gpus'],\n",
      "      dtype='object') Index(['normal', 'bigmem', 'gpu', 'dev', 'hns', 'serc', 'owners'], dtype='object')\n"
     ]
    }
   ],
   "source": [
    "print('** ', SHP.cols, SHP.SP.index)"
   ]
  },
  {
   "cell_type": "code",
   "execution_count": 34,
   "id": "8835bea7",
   "metadata": {},
   "outputs": [
    {
     "name": "stdout",
     "output_type": "stream",
     "text": [
      "**  Index(['partition_name', 'partition_public', 'nodes_idle', 'nodes_total',\n",
      "       'cpu_cores_idle', 'cpu_cores_total', 'cpu_cores_queued', 'gpus_idle',\n",
      "       'gpus_total', 'gpus_queued', 'job_runtime_default',\n",
      "       'job_runtime_maximum', 'mem/core_default', 'mem/core_maximum',\n",
      "       'per-node_cores', 'per-node_mem(gb)', 'per-node_gpus'],\n",
      "      dtype='object')\n",
      "**         partition_name partition_public  nodes_idle  nodes_total  \\\n",
      "normal         normal              yes           0          179   \n",
      "bigmem         bigmem              yes           1            9   \n",
      "gpu               gpu              yes           0           26   \n",
      "dev               dev              yes           3            4   \n",
      "hns               hns               no           0          105   \n",
      "serc             serc               no           0          233   \n",
      "owners         owners               no          45         1467   \n",
      "\n",
      "        cpu_cores_idle  cpu_cores_total  cpu_cores_queued  gpus_idle  \\\n",
      "normal             451             4820              2379          0   \n",
      "bigmem             218              504               113          0   \n",
      "gpu                 64              748               495         19   \n",
      "dev                102              104                 0         64   \n",
      "hns               1081             3728              8161          0   \n",
      "serc               405             9104             12422         50   \n",
      "owners            4913            46952            609496        624   \n",
      "\n",
      "        gpus_total  gpus_queued job_runtime_default job_runtime_maximum  \\\n",
      "normal           0            0                  2h                  7d   \n",
      "bigmem           0            0                  2h                  1d   \n",
      "gpu            104          108                  1h                  2d   \n",
      "dev             64            0                  1h                  2h   \n",
      "hns              0            0                  2h                  7d   \n",
      "serc            92           72                  2h                  7d   \n",
      "owners         636            2                  2h                  2d   \n",
      "\n",
      "       mem/core_default mem/core_maximum per-node_cores per-node_mem(gb)  \\\n",
      "normal              6gb              8gb          24-32          191-256   \n",
      "bigmem              8gb             64gb         24-128         384-4096   \n",
      "gpu                 7gb             12gb          20-32          191-256   \n",
      "dev                 6gb              8gb          20-32          128-256   \n",
      "hns                 6gb             25gb         20-128         128-1024   \n",
      "serc                8gb             16gb         24-128         191-1024   \n",
      "owners              4gb             48gb         20-128         128-4096   \n",
      "\n",
      "       per-node_gpus  \n",
      "normal             0  \n",
      "bigmem             0  \n",
      "gpu              3-4  \n",
      "dev             0-32  \n",
      "hns                0  \n",
      "serc             0-8  \n",
      "owners           0-8  \n"
     ]
    }
   ],
   "source": [
    "print('** ', SHP.cols)\n",
    "print('** ', SHP.SP)"
   ]
  },
  {
   "cell_type": "code",
   "execution_count": null,
   "id": "4346ff92",
   "metadata": {},
   "outputs": [],
   "source": [
    "for rw in SHP.SP:\n",
    "    print('** ', rw.split())"
   ]
  },
  {
   "cell_type": "code",
   "execution_count": 17,
   "id": "644b785e",
   "metadata": {},
   "outputs": [
    {
     "name": "stdout",
     "output_type": "stream",
     "text": [
      "**  4\n"
     ]
    }
   ],
   "source": [
    "print('** ', len(b'abcd'))"
   ]
  },
  {
   "cell_type": "code",
   "execution_count": null,
   "id": "61b9ee38",
   "metadata": {},
   "outputs": [],
   "source": [
    "print('** ', SHP.sh_output_raw)"
   ]
  },
  {
   "cell_type": "code",
   "execution_count": null,
   "id": "07ae497e",
   "metadata": {},
   "outputs": [],
   "source": [
    "sp_data = SHP.sh_output_raw\n",
    "print('*** ', sp_data[0].split('|') )"
   ]
  },
  {
   "cell_type": "code",
   "execution_count": null,
   "id": "405c2059",
   "metadata": {},
   "outputs": [],
   "source": [
    "col_cats = [s.strip() for s in sp_data[0].split('|') if not s.strip()=='']\n",
    "print(f'** col_cats: {col_cats}')"
   ]
  },
  {
   "cell_type": "code",
   "execution_count": null,
   "id": "7ebd0135",
   "metadata": {},
   "outputs": [],
   "source": [
    "col_groups = [[s.strip() for s in x.split()] for x in sp_data[1].split('|') if not x.strip()=='']\n",
    "print('** ', col_groups)"
   ]
  },
  {
   "cell_type": "code",
   "execution_count": null,
   "id": "eeecdc5e",
   "metadata": {},
   "outputs": [],
   "source": [
    "cols = [f'{s1}_{s2}'.strip().replace(' ', '_') for s1,S in zip(col_cats, col_groups) for s2 in S]\n",
    "print(' ***\\n', cols)"
   ]
  },
  {
   "cell_type": "code",
   "execution_count": null,
   "id": "a244473a",
   "metadata": {},
   "outputs": [],
   "source": []
  }
 ],
 "metadata": {
  "kernelspec": {
   "display_name": "Python 3 (ipykernel)",
   "language": "python",
   "name": "python3"
  },
  "language_info": {
   "codemirror_mode": {
    "name": "ipython",
    "version": 3
   },
   "file_extension": ".py",
   "mimetype": "text/x-python",
   "name": "python",
   "nbconvert_exporter": "python",
   "pygments_lexer": "ipython3",
   "version": "3.8.8"
  }
 },
 "nbformat": 4,
 "nbformat_minor": 5
}
