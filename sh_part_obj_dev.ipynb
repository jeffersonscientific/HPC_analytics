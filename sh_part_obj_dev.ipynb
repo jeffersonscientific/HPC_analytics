{
 "cells": [
  {
   "cell_type": "code",
   "execution_count": 1,
   "id": "975093c5",
   "metadata": {},
   "outputs": [],
   "source": [
    "%load_ext autoreload\n",
    "%autoreload 2\n",
    "%matplotlib inline"
   ]
  },
  {
   "cell_type": "code",
   "execution_count": 2,
   "id": "ef68da7b",
   "metadata": {},
   "outputs": [
    {
     "name": "stderr",
     "output_type": "stream",
     "text": [
      "/home/users/myoder96/Codes/HPC_analytics/hpc_lib.py:2624: NumbaDeprecationWarning: \u001b[1mThe 'nopython' keyword argument was not supplied to the 'numba.jit' decorator. The implicit default value for this argument is currently False, but it will be changed to True in Numba 0.59.0. See https://numba.readthedocs.io/en/stable/reference/deprecation.html#deprecation-of-object-mode-fall-back-behaviour-when-using-jit for details.\u001b[0m\n",
      "  def process_sacct_row(rw, delim='\\t', headers=None, types_dict={}, RH={}):\n",
      "/home/users/myoder96/Codes/HPC_analytics/hpc_lib.py:2639: NumbaDeprecationWarning: \u001b[1mThe 'nopython' keyword argument was not supplied to the 'numba.jit' decorator. The implicit default value for this argument is currently False, but it will be changed to True in Numba 0.59.0. See https://numba.readthedocs.io/en/stable/reference/deprecation.html#deprecation-of-object-mode-fall-back-behaviour-when-using-jit for details.\u001b[0m\n",
      "  def get_modulus_stats(X,Y, a_mult=1., a_mod=1., qs=numpy.array([.5, .75, .95])):\n"
     ]
    }
   ],
   "source": [
    "import numpy\n",
    "import scipy\n",
    "import math\n",
    "import matplotlib as mpl\n",
    "import matplotlib.dates as mpd\n",
    "import pylab as plt\n",
    "import datetime as dtm\n",
    "import sys\n",
    "import os\n",
    "#import socket\n",
    "#import lmod\n",
    "# lmod.load('system')\n",
    "# lmod.load('texlive')\n",
    "# lmod.\n",
    "#\n",
    "# TODO: phase out unreferenced hpc_lib calls...\n",
    "import hpc_lib"
   ]
  },
  {
   "cell_type": "code",
   "execution_count": 3,
   "id": "38006f45",
   "metadata": {},
   "outputs": [
    {
     "name": "stdout",
     "output_type": "stream",
     "text": [
      "*** n_cpus: 6\n"
     ]
    }
   ],
   "source": [
    "n_cpus = 4\n",
    "#print('** epoch: {}'.format(mpd.get_epoch()))\n",
    "if 'SLURM_CPUS_PER_TASK' in os.environ.keys():\n",
    "    n_cpus = int(os.environ['SLURM_CPUS_PER_TASK'])\n",
    "#\n",
    "print(f'*** n_cpus: {n_cpus}')\n"
   ]
  },
  {
   "cell_type": "code",
   "execution_count": 6,
   "id": "c80143dc",
   "metadata": {},
   "outputs": [
    {
     "name": "stderr",
     "output_type": "stream",
     "text": [
      "/home/users/myoder96/Codes/HPC_analytics/hpc_lib.py:2624: NumbaDeprecationWarning: \u001b[1mThe 'nopython' keyword argument was not supplied to the 'numba.jit' decorator. The implicit default value for this argument is currently False, but it will be changed to True in Numba 0.59.0. See https://numba.readthedocs.io/en/stable/reference/deprecation.html#deprecation-of-object-mode-fall-back-behaviour-when-using-jit for details.\u001b[0m\n",
      "  def process_sacct_row(rw, delim='\\t', headers=None, types_dict={}, RH={}):\n",
      "/home/users/myoder96/Codes/HPC_analytics/hpc_lib.py:2639: NumbaDeprecationWarning: \u001b[1mThe 'nopython' keyword argument was not supplied to the 'numba.jit' decorator. The implicit default value for this argument is currently False, but it will be changed to True in Numba 0.59.0. See https://numba.readthedocs.io/en/stable/reference/deprecation.html#deprecation-of-object-mode-fall-back-behaviour-when-using-jit for details.\u001b[0m\n",
      "  def get_modulus_stats(X,Y, a_mult=1., a_mod=1., qs=numpy.array([.5, .75, .95])):\n"
     ]
    }
   ],
   "source": [
    "SHP = hpc_lib.SH_PART_obj()"
   ]
  },
  {
   "cell_type": "code",
   "execution_count": 7,
   "id": "8835bea7",
   "metadata": {},
   "outputs": [
    {
     "name": "stdout",
     "output_type": "stream",
     "text": [
      "**  [' partition            nodes          CPU cores             GPUs                  job runtime      mem/core         per-node', ' name         public    idle  total    idle  total queued    idle  total queued  default maximum  default maximum     cores   mem(GB)  gpus', '----------------------------------------------------------------------------------------------------------------------------------------------------', ' normal*      yes          0    179     238   4820   6828       0      0      0       2h      7d      6GB     8GB     20-32   128-256     0', ' bigmem       yes          0      9     260    504      5       0      0      0       2h      1d      8GB    64GB    24-128  384-4096     0', ' gpu          yes          0     26     191    748    317      21    104    110       1h      2d      7GB    12GB     20-32   191-256     4', ' dev          yes          0      4      44    104      2      62     64      0       1h      2h      6GB     8GB     20-32   128-256  0-32', '----------------------------------------------------------------------------------------------------------------------------------------------------', ' hns          no           0    105    1033   3728   5983       0      0      0       2h      7d      6GB    25GB    20-128  128-1024     0', ' serc         no           0    233    1573   9104  24161      52     92      0       2h      7d      8GB    16GB    24-128  191-1024   0-8', '----------------------------------------------------------------------------------------------------------------------------------------------------', ' owners       no          97   1467   10285  46952 1143815     506    636     29       2h      2d      4GB    48GB    20-128  128-4096   0-8', '----------------------------------------------------------------------------------------------------------------------------------------------------', '']\n"
     ]
    }
   ],
   "source": [
    "print('** ', SHP.SP)"
   ]
  },
  {
   "cell_type": "code",
   "execution_count": 9,
   "id": "4346ff92",
   "metadata": {},
   "outputs": [
    {
     "name": "stdout",
     "output_type": "stream",
     "text": [
      "**  ['partition', 'nodes', 'CPU', 'cores', 'GPUs', 'job', 'runtime', 'mem/core', 'per-node']\n",
      "**  ['name', 'public', 'idle', 'total', 'idle', 'total', 'queued', 'idle', 'total', 'queued', 'default', 'maximum', 'default', 'maximum', 'cores', 'mem(GB)', 'gpus']\n",
      "**  ['----------------------------------------------------------------------------------------------------------------------------------------------------']\n",
      "**  ['normal*', 'yes', '0', '179', '238', '4820', '6828', '0', '0', '0', '2h', '7d', '6GB', '8GB', '20-32', '128-256', '0']\n",
      "**  ['bigmem', 'yes', '0', '9', '260', '504', '5', '0', '0', '0', '2h', '1d', '8GB', '64GB', '24-128', '384-4096', '0']\n",
      "**  ['gpu', 'yes', '0', '26', '191', '748', '317', '21', '104', '110', '1h', '2d', '7GB', '12GB', '20-32', '191-256', '4']\n",
      "**  ['dev', 'yes', '0', '4', '44', '104', '2', '62', '64', '0', '1h', '2h', '6GB', '8GB', '20-32', '128-256', '0-32']\n",
      "**  ['----------------------------------------------------------------------------------------------------------------------------------------------------']\n",
      "**  ['hns', 'no', '0', '105', '1033', '3728', '5983', '0', '0', '0', '2h', '7d', '6GB', '25GB', '20-128', '128-1024', '0']\n",
      "**  ['serc', 'no', '0', '233', '1573', '9104', '24161', '52', '92', '0', '2h', '7d', '8GB', '16GB', '24-128', '191-1024', '0-8']\n",
      "**  ['----------------------------------------------------------------------------------------------------------------------------------------------------']\n",
      "**  ['owners', 'no', '97', '1467', '10285', '46952', '1143815', '506', '636', '29', '2h', '2d', '4GB', '48GB', '20-128', '128-4096', '0-8']\n",
      "**  ['----------------------------------------------------------------------------------------------------------------------------------------------------']\n",
      "**  []\n"
     ]
    }
   ],
   "source": [
    "for rw in SHP.SP:\n",
    "    print('** ', rw.split())"
   ]
  },
  {
   "cell_type": "code",
   "execution_count": null,
   "id": "61b9ee38",
   "metadata": {},
   "outputs": [],
   "source": []
  }
 ],
 "metadata": {
  "kernelspec": {
   "display_name": "Python 3 (ipykernel)",
   "language": "python",
   "name": "python3"
  },
  "language_info": {
   "codemirror_mode": {
    "name": "ipython",
    "version": 3
   },
   "file_extension": ".py",
   "mimetype": "text/x-python",
   "name": "python",
   "nbconvert_exporter": "python",
   "pygments_lexer": "ipython3",
   "version": "3.8.8"
  }
 },
 "nbformat": 4,
 "nbformat_minor": 5
}
