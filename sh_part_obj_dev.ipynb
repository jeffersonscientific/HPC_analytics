{
 "cells": [
  {
   "cell_type": "code",
   "execution_count": 1,
   "id": "975093c5",
   "metadata": {},
   "outputs": [],
   "source": [
    "%load_ext autoreload\n",
    "%autoreload 2\n",
    "%matplotlib inline"
   ]
  },
  {
   "cell_type": "code",
   "execution_count": 2,
   "id": "ef68da7b",
   "metadata": {},
   "outputs": [
    {
     "name": "stderr",
     "output_type": "stream",
     "text": [
      "/home/users/myoder96/Codes/HPC_analytics/hpc_lib.py:2665: NumbaDeprecationWarning: \u001b[1mThe 'nopython' keyword argument was not supplied to the 'numba.jit' decorator. The implicit default value for this argument is currently False, but it will be changed to True in Numba 0.59.0. See https://numba.readthedocs.io/en/stable/reference/deprecation.html#deprecation-of-object-mode-fall-back-behaviour-when-using-jit for details.\u001b[0m\n",
      "  def process_sacct_row(rw, delim='\\t', headers=None, types_dict={}, RH={}):\n",
      "/home/users/myoder96/Codes/HPC_analytics/hpc_lib.py:2680: NumbaDeprecationWarning: \u001b[1mThe 'nopython' keyword argument was not supplied to the 'numba.jit' decorator. The implicit default value for this argument is currently False, but it will be changed to True in Numba 0.59.0. See https://numba.readthedocs.io/en/stable/reference/deprecation.html#deprecation-of-object-mode-fall-back-behaviour-when-using-jit for details.\u001b[0m\n",
      "  def get_modulus_stats(X,Y, a_mult=1., a_mod=1., qs=numpy.array([.5, .75, .95])):\n"
     ]
    }
   ],
   "source": [
    "import numpy\n",
    "import scipy\n",
    "import math\n",
    "import matplotlib as mpl\n",
    "import matplotlib.dates as mpd\n",
    "import pylab as plt\n",
    "import datetime as dtm\n",
    "import sys\n",
    "import os\n",
    "#import socket\n",
    "#import lmod\n",
    "# lmod.load('system')\n",
    "# lmod.load('texlive')\n",
    "# lmod.\n",
    "#\n",
    "# TODO: phase out unreferenced hpc_lib calls...\n",
    "import hpc_lib"
   ]
  },
  {
   "cell_type": "code",
   "execution_count": 3,
   "id": "38006f45",
   "metadata": {},
   "outputs": [
    {
     "name": "stdout",
     "output_type": "stream",
     "text": [
      "*** n_cpus: 8\n"
     ]
    }
   ],
   "source": [
    "n_cpus = 4\n",
    "#print('** epoch: {}'.format(mpd.get_epoch()))\n",
    "if 'SLURM_CPUS_PER_TASK' in os.environ.keys():\n",
    "    n_cpus = int(os.environ['SLURM_CPUS_PER_TASK'])\n",
    "#\n",
    "print(f'*** n_cpus: {n_cpus}')\n"
   ]
  },
  {
   "cell_type": "code",
   "execution_count": 33,
   "id": "c80143dc",
   "metadata": {},
   "outputs": [
    {
     "name": "stderr",
     "output_type": "stream",
     "text": [
      "/home/users/myoder96/Codes/HPC_analytics/hpc_lib.py:2669: NumbaDeprecationWarning: \u001b[1mThe 'nopython' keyword argument was not supplied to the 'numba.jit' decorator. The implicit default value for this argument is currently False, but it will be changed to True in Numba 0.59.0. See https://numba.readthedocs.io/en/stable/reference/deprecation.html#deprecation-of-object-mode-fall-back-behaviour-when-using-jit for details.\u001b[0m\n",
      "  #  for now, let's assume that the map() (or whatever) will consolidate and (pseudo-)vectorize. Maybe this should be a Process() object....\n",
      "/home/users/myoder96/Codes/HPC_analytics/hpc_lib.py:2684: NumbaDeprecationWarning: \u001b[1mThe 'nopython' keyword argument was not supplied to the 'numba.jit' decorator. The implicit default value for this argument is currently False, but it will be changed to True in Numba 0.59.0. See https://numba.readthedocs.io/en/stable/reference/deprecation.html#deprecation-of-object-mode-fall-back-behaviour-when-using-jit for details.\u001b[0m\n",
      "  #  in some modulo bin, we need to define a second binning over which to do averaging (ie, k_week = k//k0, k_day=k%k0),\n"
     ]
    },
    {
     "name": "stdout",
     "output_type": "stream",
     "text": [
      "** DEBUG:  [('partition_name', 'S7'), ('partition_public', 'S3'), ('nodes_idle', 'i8'), ('nodes_total', 'i8'), ('cpu_cores_idle', 'i8'), ('cpu_cores_total', 'i8'), ('cpu_cores_queued', 'i8'), ('gpus_idle', 'i8'), ('gpus_total', 'i8'), ('gpus_queued', 'i8'), ('job_runtime_default', 'S2'), ('job_runtime_maximum', 'S2'), ('mem/core_default', 'S3'), ('mem/core_maximum', 'S4'), ('per-node_cores', 'S6'), ('per-node_mem(gb)', 'S8'), ('per-node_gpus', 'S4')]\n"
     ]
    }
   ],
   "source": [
    "SHP = hpc_lib.SH_PART_obj()"
   ]
  },
  {
   "cell_type": "code",
   "execution_count": 31,
   "id": "dd16aba3",
   "metadata": {},
   "outputs": [
    {
     "name": "stdout",
     "output_type": "stream",
     "text": [
      "tp:  <class 'int'>\n"
     ]
    }
   ],
   "source": [
    "tp = type(7)\n",
    "print('tp: ', tp)"
   ]
  },
  {
   "cell_type": "code",
   "execution_count": 32,
   "id": "b2eb4478",
   "metadata": {},
   "outputs": [
    {
     "ename": "TypeError",
     "evalue": "Cannot interpret '7' as a data type",
     "output_type": "error",
     "traceback": [
      "\u001b[0;31m---------------------------------------------------------------------------\u001b[0m",
      "\u001b[0;31mTypeError\u001b[0m                                 Traceback (most recent call last)",
      "Cell \u001b[0;32mIn[32], line 1\u001b[0m\n\u001b[0;32m----> 1\u001b[0m \u001b[38;5;28mprint\u001b[39m(\u001b[43mnumpy\u001b[49m\u001b[38;5;241;43m.\u001b[39;49m\u001b[43mdtype\u001b[49m\u001b[43m(\u001b[49m\u001b[38;5;241;43m7\u001b[39;49m\u001b[43m)\u001b[49m)\n",
      "\u001b[0;31mTypeError\u001b[0m: Cannot interpret '7' as a data type"
     ]
    }
   ],
   "source": [
    "print(numpy.dtype(7))"
   ]
  },
  {
   "cell_type": "code",
   "execution_count": 22,
   "id": "8835bea7",
   "metadata": {},
   "outputs": [
    {
     "name": "stderr",
     "output_type": "stream",
     "text": [
      "/home/users/myoder96/Codes/HPC_analytics/hpc_lib.py:2661: NumbaDeprecationWarning: \u001b[1mThe 'nopython' keyword argument was not supplied to the 'numba.jit' decorator. The implicit default value for this argument is currently False, but it will be changed to True in Numba 0.59.0. See https://numba.readthedocs.io/en/stable/reference/deprecation.html#deprecation-of-object-mode-fall-back-behaviour-when-using-jit for details.\u001b[0m\n",
      "  [('q_{}'.format(q), '>f8') for q in qs])\n",
      "/home/users/myoder96/Codes/HPC_analytics/hpc_lib.py:2676: NumbaDeprecationWarning: \u001b[1mThe 'nopython' keyword argument was not supplied to the 'numba.jit' decorator. The implicit default value for this argument is currently False, but it will be changed to True in Numba 0.59.0. See https://numba.readthedocs.io/en/stable/reference/deprecation.html#deprecation-of-object-mode-fall-back-behaviour-when-using-jit for details.\u001b[0m\n",
      "  return [None if vl=='' else types_dict.get(col,str)(vl)\n"
     ]
    },
    {
     "name": "stdout",
     "output_type": "stream",
     "text": [
      "**  ['partition_name', 'partition_public', 'nodes_idle', 'nodes_total', 'cpu_cores_idle', 'cpu_cores_total', 'cpu_cores_queued', 'gpus_idle', 'gpus_total', 'gpus_queued', 'job_runtime_default', 'job_runtime_maximum', 'mem/core_default', 'mem/core_maximum', 'per-node_cores', 'per-node_mem(gb)', 'per-node_gpus']\n",
      "**  [['normal*', 'yes', 0, 179, 124, 4820, 2318, 0, 0, 6, '2h', '7d', '6gb', '8gb', '20-24', '128-191', '0'], ['bigmem', 'yes', 1, 9, 304, 504, 81, 0, 0, 0, '2h', '1d', '8gb', '64gb', '24-128', '384-4096', '0'], ['gpu', 'yes', 0, 26, 140, 748, 538, 24, 104, 109, '1h', '2d', '7gb', '12gb', '20-32', '191-256', '3-4'], ['dev', 'yes', 0, 4, 85, 104, 0, 62, 64, 0, '1h', '2h', '6gb', '8gb', '20-32', '128-256', '0-32'], ['hns', 'no', 0, 105, 1326, 3728, 3847, 0, 0, 0, '2h', '7d', '6gb', '25gb', '20-128', '128-1024', '0'], ['serc', 'no', 1, 233, 609, 9104, 12331, 52, 92, 73, '2h', '7d', '8gb', '16gb', '24-128', '191-1024', '0-8'], ['owners', 'no', 4, 1467, 3033, 46952, 630658, 619, 636, 2, '2h', '2d', '4gb', '48gb', '20-128', '128-4096', '0-8']]\n"
     ]
    }
   ],
   "source": [
    "print('** ', SHP.columns)\n",
    "print('** ', SHP.SP)"
   ]
  },
  {
   "cell_type": "code",
   "execution_count": null,
   "id": "4346ff92",
   "metadata": {},
   "outputs": [],
   "source": [
    "for rw in SHP.SP:\n",
    "    print('** ', rw.split())"
   ]
  },
  {
   "cell_type": "code",
   "execution_count": 17,
   "id": "644b785e",
   "metadata": {},
   "outputs": [
    {
     "name": "stdout",
     "output_type": "stream",
     "text": [
      "**  4\n"
     ]
    }
   ],
   "source": [
    "print('** ', len(b'abcd'))"
   ]
  },
  {
   "cell_type": "code",
   "execution_count": null,
   "id": "61b9ee38",
   "metadata": {},
   "outputs": [],
   "source": [
    "print('** ', SHP.sh_output_raw)"
   ]
  },
  {
   "cell_type": "code",
   "execution_count": null,
   "id": "07ae497e",
   "metadata": {},
   "outputs": [],
   "source": [
    "sp_data = SHP.sh_output_raw\n",
    "print('*** ', sp_data[0].split('|') )"
   ]
  },
  {
   "cell_type": "code",
   "execution_count": null,
   "id": "405c2059",
   "metadata": {},
   "outputs": [],
   "source": [
    "col_cats = [s.strip() for s in sp_data[0].split('|') if not s.strip()=='']\n",
    "print(f'** col_cats: {col_cats}')"
   ]
  },
  {
   "cell_type": "code",
   "execution_count": null,
   "id": "7ebd0135",
   "metadata": {},
   "outputs": [],
   "source": [
    "col_groups = [[s.strip() for s in x.split()] for x in sp_data[1].split('|') if not x.strip()=='']\n",
    "print('** ', col_groups)"
   ]
  },
  {
   "cell_type": "code",
   "execution_count": null,
   "id": "eeecdc5e",
   "metadata": {},
   "outputs": [],
   "source": [
    "cols = [f'{s1}_{s2}'.strip().replace(' ', '_') for s1,S in zip(col_cats, col_groups) for s2 in S]\n",
    "print(' ***\\n', cols)"
   ]
  },
  {
   "cell_type": "code",
   "execution_count": null,
   "id": "a244473a",
   "metadata": {},
   "outputs": [],
   "source": []
  }
 ],
 "metadata": {
  "kernelspec": {
   "display_name": "Python 3 (ipykernel)",
   "language": "python",
   "name": "python3"
  },
  "language_info": {
   "codemirror_mode": {
    "name": "ipython",
    "version": 3
   },
   "file_extension": ".py",
   "mimetype": "text/x-python",
   "name": "python",
   "nbconvert_exporter": "python",
   "pygments_lexer": "ipython3",
   "version": "3.8.8"
  }
 },
 "nbformat": 4,
 "nbformat_minor": 5
}
